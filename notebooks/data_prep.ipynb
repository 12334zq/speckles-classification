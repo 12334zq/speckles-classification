{
 "cells": [
  {
   "cell_type": "code",
   "execution_count": 1,
   "metadata": {},
   "outputs": [],
   "source": [
    "import os\n",
    "import cv2\n",
    "import glob\n",
    "import scipy.io\n",
    "import scipy.misc\n",
    "from tqdm import tqdm"
   ]
  },
  {
   "cell_type": "code",
   "execution_count": 2,
   "metadata": {},
   "outputs": [],
   "source": [
    "dates = ['24032019', '17042019', '01052019']\n",
    "labels = ['yafim', 'zeev', 'or', 'ron', 'sergey', 'aviya', 'elnatan']"
   ]
  },
  {
   "cell_type": "code",
   "execution_count": null,
   "metadata": {},
   "outputs": [],
   "source": [
    "for d in dates:\n",
    "    for l in labels:\n",
    "        l_path = '../data/frames/{0}/{1}'.format(d, l)\n",
    "        if not os.path.exists(l_path):\n",
    "            os.makedirs(l_path)"
   ]
  },
  {
   "cell_type": "code",
   "execution_count": 3,
   "metadata": {},
   "outputs": [
    {
     "name": "stdout",
     "output_type": "stream",
     "text": [
      "(32, 32, 1000)\n"
     ]
    }
   ],
   "source": [
    "mat = scipy.io.loadmat('../data/videos/24032019/yafim/32/VideoFile_fps100_0002.mat')\n",
    "img_reshaped = mat['Video_fps100_0002'][:, :]\n",
    "print(img_reshaped.shape)"
   ]
  },
  {
   "cell_type": "code",
   "execution_count": 4,
   "metadata": {
    "scrolled": true
   },
   "outputs": [
    {
     "name": "stdout",
     "output_type": "stream",
     "text": [
      "__header__ b'MATLAB 5.0 MAT-file, Platform: PCWIN, Created on: Sun Mar 24 17:34:33 2019'\n",
      "__version__ 1.0\n",
      "__globals__ []\n",
      "Video_fps100_0002 [[[127 128 145 ...  69  57  70]\n",
      "  [132 133 143 ...  68  78  94]\n",
      "  [113  94  92 ... 115  91  89]\n",
      "  ...\n",
      "  [126 121 113 ... 107 125 112]\n",
      "  [156 192 148 ...  85  75  87]\n",
      "  [ 93 105  92 ... 121 130 136]]\n",
      "\n",
      " [[ 56  64  77 ...  60  73 100]\n",
      "  [ 97  81  95 ... 112  75 112]\n",
      "  [121  92  79 ... 125 145 116]\n",
      "  ...\n",
      "  [143 139 133 ... 106  76  76]\n",
      "  [ 72  71  76 ...  79  89  95]\n",
      "  [ 85  91  77 ...  87  90  75]]\n",
      "\n",
      " [[ 81  77  89 ... 113 118 138]\n",
      "  [134 107 115 ... 110  90  97]\n",
      "  [104  90  75 ...  81 100 113]\n",
      "  ...\n",
      "  [ 90  81  74 ...  96  64  64]\n",
      "  [ 60  70  76 ...  63  66  70]\n",
      "  [104 109 103 ...  84  81  82]]\n",
      "\n",
      " ...\n",
      "\n",
      " [[ 83  83  82 ...  77 100  99]\n",
      "  [135 122 108 ...  95  72  62]\n",
      "  [127  93  81 ...  55  55  63]\n",
      "  ...\n",
      "  [ 94  91  75 ... 184 145 134]\n",
      "  [143 133 118 ... 129 128 141]\n",
      "  [133 134 131 ... 121 112 129]]\n",
      "\n",
      " [[ 88 111 102 ...  99  60  64]\n",
      "  [135 126 124 ...  63  75 106]\n",
      "  [ 92  81  73 ... 101 165 201]\n",
      "  ...\n",
      "  [ 74  66  57 ... 116 116  95]\n",
      "  [138 134 141 ...  98  75  88]\n",
      "  [255 255 255 ... 104 150 210]]\n",
      "\n",
      " [[ 62  78  73 ...  85  63  52]\n",
      "  [ 98 116 107 ...  81  69  86]\n",
      "  [ 60  68  79 ...  97 201 255]\n",
      "  ...\n",
      "  [ 67  69  67 ...  80  92 109]\n",
      "  [215 204 204 ... 103  86  68]\n",
      "  [255 255 255 ...  85  99 130]]]\n",
      "Fs [[99.99781799]]\n"
     ]
    }
   ],
   "source": [
    "for k, v in mat.items():\n",
    "    print(k, v)"
   ]
  },
  {
   "cell_type": "code",
   "execution_count": null,
   "metadata": {},
   "outputs": [],
   "source": [
    "for i in range(img_reshaped.shape[2]):\n",
    "    cv2.imshow(\"segmented_map\", mat['Video_fps100_0002'][:, :, i])\n",
    "    cv2.waitKey(0)"
   ]
  },
  {
   "cell_type": "code",
   "execution_count": 5,
   "metadata": {},
   "outputs": [
    {
     "data": {
      "text/plain": [
       "dict_keys(['__header__', '__version__', '__globals__', 'Video_fps100_0002', 'Fs'])"
      ]
     },
     "execution_count": 5,
     "metadata": {},
     "output_type": "execute_result"
    }
   ],
   "source": [
    "mat.keys()"
   ]
  },
  {
   "cell_type": "code",
   "execution_count": 6,
   "metadata": {},
   "outputs": [
    {
     "name": "stderr",
     "output_type": "stream",
     "text": [
      "100%|██████████| 3/3 [00:00<00:00,  3.90it/s]\n",
      "100%|██████████| 3/3 [00:00<00:00,  4.80it/s]\n",
      "100%|██████████| 3/3 [00:00<00:00,  4.10it/s]\n",
      "100%|██████████| 3/3 [00:00<00:00,  3.45it/s]\n",
      "100%|██████████| 3/3 [00:00<00:00,  3.94it/s]\n",
      "0it [00:00, ?it/s]\n",
      "0it [00:00, ?it/s]\n",
      "0it [00:00, ?it/s]\n",
      "0it [00:00, ?it/s]\n",
      "100%|██████████| 30/30 [00:07<00:00,  4.08it/s]\n",
      "100%|██████████| 30/30 [00:07<00:00,  4.28it/s]\n",
      "0it [00:00, ?it/s]\n",
      "100%|██████████| 30/30 [00:07<00:00,  4.29it/s]\n",
      "0it [00:00, ?it/s]\n",
      "100%|██████████| 3/3 [00:00<00:00,  4.09it/s]\n",
      "100%|██████████| 22/22 [00:05<00:00,  4.15it/s]\n",
      "0it [00:00, ?it/s]\n",
      "0it [00:00, ?it/s]\n",
      "100%|██████████| 3/3 [00:00<00:00,  4.10it/s]\n",
      "0it [00:00, ?it/s]\n",
      "100%|██████████| 3/3 [00:00<00:00,  4.24it/s]\n"
     ]
    }
   ],
   "source": [
    "for d in dates:\n",
    "    for l in labels:\n",
    "        for f in tqdm(glob.glob('../data/videos/{0}/{1}/32/*.mat'.format(d, l))):\n",
    "            frames_path = '../data/frames/{0}/{1}/32'.format(d, l)\n",
    "            if not os.path.exists(frames_path):\n",
    "                os.makedirs(frames_path)\n",
    "            mat = scipy.io.loadmat(f)\n",
    "            for k, v in mat.items():\n",
    "                if k.__contains__('Video_fps'):\n",
    "                    for i in range(v.shape[2]):\n",
    "    #                     print(v[:, :, i].shape)\n",
    "                        cv2.imwrite('{0}/{1}_{2}.png'.format(frames_path, k, i), v[:, :, i])"
   ]
  },
  {
   "cell_type": "code",
   "execution_count": null,
   "metadata": {},
   "outputs": [],
   "source": []
  }
 ],
 "metadata": {
  "kernelspec": {
   "display_name": "Python 3",
   "language": "python",
   "name": "python3"
  },
  "language_info": {
   "codemirror_mode": {
    "name": "ipython",
    "version": 3
   },
   "file_extension": ".py",
   "mimetype": "text/x-python",
   "name": "python",
   "nbconvert_exporter": "python",
   "pygments_lexer": "ipython3",
   "version": "3.7.3"
  }
 },
 "nbformat": 4,
 "nbformat_minor": 2
}
