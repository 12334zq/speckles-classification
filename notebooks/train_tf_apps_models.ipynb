{
 "cells": [
  {
   "cell_type": "code",
   "execution_count": 1,
   "metadata": {},
   "outputs": [],
   "source": [
    "import sys\n",
    "sys.path.insert(0, '../')"
   ]
  },
  {
   "cell_type": "code",
   "execution_count": 2,
   "metadata": {},
   "outputs": [],
   "source": [
    "import numpy as np\n",
    "import tensorflow as tf\n",
    "import datetime\n",
    "import h5py  \n",
    "from   tensorflow.keras.layers import Input\n",
    "from   tensorflow.keras.applications.inception_v3 import InceptionV3\n",
    "from   utils.data_prep_utils import LABELS, DATES, prep_data\n",
    "from   utils.train_utils import prep_data_train_val_test, set_curr_time, show_sample"
   ]
  },
  {
   "cell_type": "code",
   "execution_count": 3,
   "metadata": {},
   "outputs": [],
   "source": [
    "labels = ['zeev', 'or', 'felix', 'ron', 'aviya']"
   ]
  },
  {
   "cell_type": "code",
   "execution_count": 4,
   "metadata": {},
   "outputs": [
    {
     "name": "stderr",
     "output_type": "stream",
     "text": [
      "100%|██████████| 3/3 [00:01<00:00,  1.84it/s]\n",
      "100%|██████████| 3/3 [00:01<00:00,  1.89it/s]\n",
      "0it [00:00, ?it/s]\n",
      "100%|██████████| 3/3 [00:01<00:00,  1.87it/s]\n",
      "0it [00:00, ?it/s]\n",
      "0it [00:00, ?it/s]\n",
      "100%|██████████| 30/30 [00:16<00:00,  1.81it/s]\n",
      "0it [00:00, ?it/s]\n",
      "100%|██████████| 30/30 [00:16<00:00,  1.80it/s]\n",
      "100%|██████████| 30/30 [00:16<00:00,  1.90it/s]\n",
      "100%|██████████| 21/21 [00:11<00:00,  1.89it/s]\n",
      "0it [00:00, ?it/s]\n",
      "100%|██████████| 21/21 [00:11<00:00,  1.82it/s]\n",
      "0it [00:00, ?it/s]\n",
      "0it [00:00, ?it/s]\n"
     ]
    }
   ],
   "source": [
    "prep_data(DATES, labels, frames_size=128)"
   ]
  },
  {
   "cell_type": "code",
   "execution_count": 5,
   "metadata": {},
   "outputs": [
    {
     "name": "stderr",
     "output_type": "stream",
     "text": [
      "100%|██████████| 3000/3000 [00:01<00:00, 2157.34it/s]\n",
      "100%|██████████| 3000/3000 [00:01<00:00, 2002.86it/s]\n",
      "0it [00:00, ?it/s]\n",
      "100%|██████████| 3000/3000 [00:01<00:00, 1887.46it/s]\n",
      "0it [00:00, ?it/s]\n",
      "0it [00:00, ?it/s]\n",
      "100%|██████████| 30000/30000 [00:15<00:00, 1969.88it/s]\n",
      "0it [00:00, ?it/s]\n",
      "100%|██████████| 30000/30000 [00:15<00:00, 1967.77it/s]\n",
      "100%|██████████| 30000/30000 [00:15<00:00, 1962.50it/s]\n",
      "100%|██████████| 21000/21000 [00:10<00:00, 1971.53it/s]\n",
      "0it [00:00, ?it/s]\n",
      "100%|██████████| 21000/21000 [00:10<00:00, 1991.26it/s]\n",
      "0it [00:00, ?it/s]\n",
      "0it [00:00, ?it/s]\n"
     ]
    }
   ],
   "source": [
    "x_train, x_valid, x_test, y_train, y_valid, y_test = prep_data_train_val_test(DATES, labels, frames_size=128)"
   ]
  },
  {
   "cell_type": "code",
   "execution_count": 6,
   "metadata": {},
   "outputs": [],
   "source": [
    "x_train_rgb = np.repeat(x_train[..., np.newaxis], 3, -1)\n",
    "x_val_rgb = np.repeat(x_valid[..., np.newaxis], 3, -1)\n",
    "x_test_rgb = np.repeat(x_test[..., np.newaxis], 3, -1)"
   ]
  },
  {
   "cell_type": "code",
   "execution_count": 7,
   "metadata": {},
   "outputs": [
    {
     "name": "stdout",
     "output_type": "stream",
     "text": [
      "WARNING:tensorflow:From /Users/zeevkalyuzhner/.virtualenvs/speckles-ml/lib/python3.7/site-packages/tensorflow/python/ops/resource_variable_ops.py:435: colocate_with (from tensorflow.python.framework.ops) is deprecated and will be removed in a future version.\n",
      "Instructions for updating:\n",
      "Colocations handled automatically by placer.\n"
     ]
    }
   ],
   "source": [
    "input_tensor = Input(shape=(128, 128, 3))\n",
    "inceptionv3_model = InceptionV3(input_tensor=input_tensor, weights=None, include_top=True, classes=len(labels))"
   ]
  },
  {
   "cell_type": "code",
   "execution_count": 8,
   "metadata": {},
   "outputs": [],
   "source": [
    "for layer in inceptionv3_model.layers:\n",
    "    layer.trainable = True"
   ]
  },
  {
   "cell_type": "code",
   "execution_count": 10,
   "metadata": {},
   "outputs": [],
   "source": [
    "inceptionv3_model.compile(optimizer='adam', loss='sparse_categorical_crossentropy',metrics=['accuracy'])"
   ]
  },
  {
   "cell_type": "code",
   "execution_count": 11,
   "metadata": {},
   "outputs": [],
   "source": [
    "curr_dt = set_curr_time()\n",
    "tb_callback = tf.keras.callbacks.TensorBoard(log_dir='./logs/{0}_{1}'.format('inceptionv3', curr_dt),\n",
    "                                             histogram_freq=0, write_graph=True)"
   ]
  },
  {
   "cell_type": "code",
   "execution_count": null,
   "metadata": {},
   "outputs": [],
   "source": [
    "inceptionv3_model.fit(x_train_rgb, y_train, validation_data=(x_val_rgb, y_valid), batch_size=128, epochs=50,\n",
    "          callbacks=[tb_callback])"
   ]
  },
  {
   "cell_type": "code",
   "execution_count": null,
   "metadata": {},
   "outputs": [],
   "source": [
    "print(ResNet50_model.evaluate(x_test_rgb, y_test))"
   ]
  },
  {
   "cell_type": "code",
   "execution_count": null,
   "metadata": {},
   "outputs": [],
   "source": [
    "def set_curr_time():\n",
    "    dt = datetime.datetime.now()\n",
    "    curr_dt = '{0}{1}{2}_{3}_{4}'.format(datetime.datetime.now().year, datetime.datetime.now().month,\n",
    "                                       datetime.datetime.now().day, datetime.datetime.now().hour,\n",
    "                                      datetime.datetime.now().minute)\n",
    "    return curr_dt\n",
    "inceptionv3_model.save('../models/inceptionv3_{0}.h5'.format(set_curr_time()))"
   ]
  }
 ],
 "metadata": {
  "kernelspec": {
   "display_name": "Python 3",
   "language": "python",
   "name": "python3"
  },
  "language_info": {
   "codemirror_mode": {
    "name": "ipython",
    "version": 3
   },
   "file_extension": ".py",
   "mimetype": "text/x-python",
   "name": "python",
   "nbconvert_exporter": "python",
   "pygments_lexer": "ipython3",
   "version": "3.5.2"
  }
 },
 "nbformat": 4,
 "nbformat_minor": 2
}
