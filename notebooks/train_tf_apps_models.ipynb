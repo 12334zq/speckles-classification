{
 "cells": [
  {
   "cell_type": "code",
   "execution_count": 1,
   "metadata": {},
   "outputs": [],
   "source": [
    "import sys\n",
    "sys.path.insert(0, '../')"
   ]
  },
  {
   "cell_type": "code",
   "execution_count": 2,
   "metadata": {},
   "outputs": [],
   "source": [
    "import numpy as np\n",
    "import tensorflow as tf\n",
    "import datetime\n",
    "import h5py  \n",
    "from   tensorflow.keras.layers import Input\n",
    "from   tensorflow.keras.applications.inception_v3 import InceptionV3\n",
    "from   utils.data_prep_utils import LABELS, DATES, prep_data\n",
    "from   utils.train_utils import prep_data_train_val_test, set_curr_time, show_sample"
   ]
  },
  {
   "cell_type": "code",
   "execution_count": 3,
   "metadata": {},
   "outputs": [],
   "source": [
    "labels = ['zeev', 'or', 'felix', 'ron', 'aviya']"
   ]
  },
  {
   "cell_type": "code",
   "execution_count": 4,
   "metadata": {},
   "outputs": [
    {
     "name": "stderr",
     "output_type": "stream",
     "text": [
      "100%|██████████| 3/3 [00:07<00:00,  2.47s/it]\n",
      "100%|██████████| 3/3 [00:08<00:00,  2.83s/it]\n",
      "0it [00:00, ?it/s]\n",
      "100%|██████████| 3/3 [00:08<00:00,  2.81s/it]\n",
      "0it [00:00, ?it/s]\n",
      "0it [00:00, ?it/s]\n",
      "100%|██████████| 30/30 [01:26<00:00,  2.93s/it]\n",
      "0it [00:00, ?it/s]\n",
      "100%|██████████| 30/30 [01:30<00:00,  2.77s/it]\n",
      "100%|██████████| 30/30 [01:31<00:00,  2.88s/it]\n",
      "100%|██████████| 21/21 [00:57<00:00,  2.95s/it]\n",
      "0it [00:00, ?it/s]\n",
      "100%|██████████| 21/21 [01:03<00:00,  2.97s/it]\n",
      "0it [00:00, ?it/s]\n",
      "0it [00:00, ?it/s]\n"
     ]
    }
   ],
   "source": [
    "prep_data(DATES, labels, frames_size=128)"
   ]
  },
  {
   "cell_type": "code",
   "execution_count": 5,
   "metadata": {},
   "outputs": [
    {
     "name": "stderr",
     "output_type": "stream",
     "text": [
      "100%|██████████| 3000/3000 [00:01<00:00, 1930.79it/s]\n",
      "100%|██████████| 3000/3000 [00:01<00:00, 1927.34it/s]\n",
      "0it [00:00, ?it/s]\n",
      "100%|██████████| 3000/3000 [00:01<00:00, 1906.51it/s]\n",
      "0it [00:00, ?it/s]\n",
      "0it [00:00, ?it/s]\n",
      "100%|██████████| 30000/30000 [00:16<00:00, 1832.32it/s]\n",
      "0it [00:00, ?it/s]\n",
      "100%|██████████| 30000/30000 [00:17<00:00, 1692.90it/s]\n",
      "100%|██████████| 30000/30000 [00:18<00:00, 1650.73it/s]\n",
      "100%|██████████| 21000/21000 [00:13<00:00, 1612.10it/s]\n",
      "0it [00:00, ?it/s]\n",
      "100%|██████████| 21000/21000 [00:13<00:00, 1560.48it/s]\n",
      "0it [00:00, ?it/s]\n",
      "0it [00:00, ?it/s]\n"
     ]
    }
   ],
   "source": [
    "x_train, x_valid, x_test, y_train, y_valid, y_test = prep_data_train_val_test(DATES, labels, frames_size=128)"
   ]
  },
  {
   "cell_type": "code",
   "execution_count": 6,
   "metadata": {},
   "outputs": [],
   "source": [
    "x_train_rgb = np.repeat(x_train[..., np.newaxis], 3, -1)\n",
    "x_val_rgb = np.repeat(x_valid[..., np.newaxis], 3, -1)\n",
    "x_test_rgb = np.repeat(x_test[..., np.newaxis], 3, -1)"
   ]
  },
  {
   "cell_type": "code",
   "execution_count": 7,
   "metadata": {},
   "outputs": [],
   "source": [
    "input_tensor = Input(shape=(128, 128, 3))\n",
    "inceptionv3_model = InceptionV3(input_tensor=input_tensor, weights=None, include_top=True, classes=len(labels))"
   ]
  },
  {
   "cell_type": "code",
   "execution_count": 8,
   "metadata": {},
   "outputs": [],
   "source": [
    "for layer in inceptionv3_model.layers:\n",
    "    layer.trainable = True"
   ]
  },
  {
   "cell_type": "code",
   "execution_count": 9,
   "metadata": {},
   "outputs": [],
   "source": [
    "inceptionv3_model.compile(optimizer='adam', loss='sparse_categorical_crossentropy',metrics=['accuracy'])"
   ]
  },
  {
   "cell_type": "code",
   "execution_count": 10,
   "metadata": {},
   "outputs": [],
   "source": [
    "def set_curr_time():\n",
    "    dt = datetime.datetime.now()\n",
    "    curr_dt = '{0}{1}{2}_{3}_{4}'.format(datetime.datetime.now().year, datetime.datetime.now().month,\n",
    "                                       datetime.datetime.now().day, datetime.datetime.now().hour,\n",
    "                                      datetime.datetime.now().minute)\n",
    "    return curr_dt"
   ]
  },
  {
   "cell_type": "code",
   "execution_count": 11,
   "metadata": {},
   "outputs": [],
   "source": [
    "curr_dt = set_curr_time()\n",
    "tb_callback = tf.keras.callbacks.TensorBoard(log_dir='./logs/{0}_{1}'.format('inceptionv3', curr_dt),\n",
    "                                             histogram_freq=0, write_graph=True)"
   ]
  },
  {
   "cell_type": "code",
   "execution_count": 12,
   "metadata": {
    "scrolled": true
   },
   "outputs": [
    {
     "name": "stdout",
     "output_type": "stream",
     "text": [
      "Train on 112800 samples, validate on 14100 samples\n",
      "Epoch 1/70\n",
      "112800/112800 [==============================] - 153s 1ms/step - loss: 0.5687 - acc: 0.7944 - val_loss: 1.4023 - val_acc: 0.6961\n",
      "Epoch 2/70\n",
      "112800/112800 [==============================] - 139s 1ms/step - loss: 0.1770 - acc: 0.9411 - val_loss: 0.2509 - val_acc: 0.9092\n",
      "Epoch 3/70\n",
      "112800/112800 [==============================] - 140s 1ms/step - loss: 0.0813 - acc: 0.9717 - val_loss: 0.0560 - val_acc: 0.9786\n",
      "Epoch 4/70\n",
      "112800/112800 [==============================] - 139s 1ms/step - loss: 0.0574 - acc: 0.9800 - val_loss: 1.0294 - val_acc: 0.7457\n",
      "Epoch 5/70\n",
      "112800/112800 [==============================] - 139s 1ms/step - loss: 0.0472 - acc: 0.9833 - val_loss: 0.0915 - val_acc: 0.9715\n",
      "Epoch 6/70\n",
      "112800/112800 [==============================] - 139s 1ms/step - loss: 0.0415 - acc: 0.9858 - val_loss: 0.1715 - val_acc: 0.9441\n",
      "Epoch 7/70\n",
      "112800/112800 [==============================] - 140s 1ms/step - loss: 0.0542 - acc: 0.9822 - val_loss: 0.1727 - val_acc: 0.9401\n",
      "Epoch 8/70\n",
      "112800/112800 [==============================] - 139s 1ms/step - loss: 0.0329 - acc: 0.9886 - val_loss: 0.9684 - val_acc: 0.8428\n",
      "Epoch 9/70\n",
      "112800/112800 [==============================] - 139s 1ms/step - loss: 0.0288 - acc: 0.9899 - val_loss: 0.0485 - val_acc: 0.9831\n",
      "Epoch 10/70\n",
      "112800/112800 [==============================] - 138s 1ms/step - loss: 0.0245 - acc: 0.9914 - val_loss: 0.0435 - val_acc: 0.9842\n",
      "Epoch 11/70\n",
      "112800/112800 [==============================] - 139s 1ms/step - loss: 0.0217 - acc: 0.9924 - val_loss: 0.0759 - val_acc: 0.9745\n",
      "Epoch 12/70\n",
      "112800/112800 [==============================] - 139s 1ms/step - loss: 0.0269 - acc: 0.9909 - val_loss: 0.0327 - val_acc: 0.9888\n",
      "Epoch 13/70\n",
      "112800/112800 [==============================] - 139s 1ms/step - loss: 0.0193 - acc: 0.9935 - val_loss: 0.2726 - val_acc: 0.9245\n",
      "Epoch 14/70\n",
      "112800/112800 [==============================] - 139s 1ms/step - loss: 0.0147 - acc: 0.9949 - val_loss: 0.3602 - val_acc: 0.9228\n",
      "Epoch 15/70\n",
      "112800/112800 [==============================] - 140s 1ms/step - loss: 0.0164 - acc: 0.9943 - val_loss: 0.4587 - val_acc: 0.8920\n",
      "Epoch 16/70\n",
      "112800/112800 [==============================] - 140s 1ms/step - loss: 0.0131 - acc: 0.9954 - val_loss: 0.8464 - val_acc: 0.8323\n",
      "Epoch 17/70\n",
      "112800/112800 [==============================] - 138s 1ms/step - loss: 0.0128 - acc: 0.9956 - val_loss: 0.0766 - val_acc: 0.9755\n",
      "Epoch 18/70\n",
      "112800/112800 [==============================] - 137s 1ms/step - loss: 0.0128 - acc: 0.9957 - val_loss: 0.3350 - val_acc: 0.9152\n",
      "Epoch 19/70\n",
      "112800/112800 [==============================] - 138s 1ms/step - loss: 0.0113 - acc: 0.9963 - val_loss: 0.2322 - val_acc: 0.9398\n",
      "Epoch 20/70\n",
      "112800/112800 [==============================] - 138s 1ms/step - loss: 0.0093 - acc: 0.9968 - val_loss: 0.1572 - val_acc: 0.9587\n",
      "Epoch 21/70\n",
      "112800/112800 [==============================] - 138s 1ms/step - loss: 0.0091 - acc: 0.9969 - val_loss: 1.1290 - val_acc: 0.7995\n",
      "Epoch 22/70\n",
      "112800/112800 [==============================] - 137s 1ms/step - loss: 0.0086 - acc: 0.9971 - val_loss: 0.0659 - val_acc: 0.9817\n",
      "Epoch 23/70\n",
      "112800/112800 [==============================] - 137s 1ms/step - loss: 0.0084 - acc: 0.9972 - val_loss: 2.2180 - val_acc: 0.6750\n",
      "Epoch 24/70\n",
      "112800/112800 [==============================] - 137s 1ms/step - loss: 0.0065 - acc: 0.9978 - val_loss: 0.0333 - val_acc: 0.9890\n",
      "Epoch 25/70\n",
      "112800/112800 [==============================] - 137s 1ms/step - loss: 0.0077 - acc: 0.9972 - val_loss: 0.2991 - val_acc: 0.9272\n",
      "Epoch 26/70\n",
      "112800/112800 [==============================] - 137s 1ms/step - loss: 0.0066 - acc: 0.9978 - val_loss: 0.0734 - val_acc: 0.9782\n",
      "Epoch 27/70\n",
      "112800/112800 [==============================] - 137s 1ms/step - loss: 0.0056 - acc: 0.9981 - val_loss: 0.1675 - val_acc: 0.9538\n",
      "Epoch 28/70\n",
      "112800/112800 [==============================] - 137s 1ms/step - loss: 0.0052 - acc: 0.9982 - val_loss: 0.9791 - val_acc: 0.8603\n",
      "Epoch 29/70\n",
      "112800/112800 [==============================] - 138s 1ms/step - loss: 0.0054 - acc: 0.9980 - val_loss: 0.0897 - val_acc: 0.9758\n",
      "Epoch 30/70\n",
      "112800/112800 [==============================] - 138s 1ms/step - loss: 0.0047 - acc: 0.9985 - val_loss: 0.0671 - val_acc: 0.9823\n",
      "Epoch 31/70\n",
      "112800/112800 [==============================] - 138s 1ms/step - loss: 0.0062 - acc: 0.9979 - val_loss: 0.6287 - val_acc: 0.8902\n",
      "Epoch 32/70\n",
      "112800/112800 [==============================] - 137s 1ms/step - loss: 0.0051 - acc: 0.9984 - val_loss: 1.9297 - val_acc: 0.7849\n",
      "Epoch 33/70\n",
      "112800/112800 [==============================] - 138s 1ms/step - loss: 0.0037 - acc: 0.9988 - val_loss: 0.1406 - val_acc: 0.9638\n",
      "Epoch 34/70\n",
      "112800/112800 [==============================] - 138s 1ms/step - loss: 0.0040 - acc: 0.9987 - val_loss: 0.5119 - val_acc: 0.8840\n",
      "Epoch 35/70\n",
      "112800/112800 [==============================] - 138s 1ms/step - loss: 0.0044 - acc: 0.9986 - val_loss: 0.0176 - val_acc: 0.9951\n",
      "Epoch 36/70\n",
      "112800/112800 [==============================] - 138s 1ms/step - loss: 0.0040 - acc: 0.9985 - val_loss: 1.2265 - val_acc: 0.8557\n",
      "Epoch 37/70\n",
      "112800/112800 [==============================] - 138s 1ms/step - loss: 0.0038 - acc: 0.9988 - val_loss: 0.0332 - val_acc: 0.9904\n",
      "Epoch 38/70\n",
      "112800/112800 [==============================] - 138s 1ms/step - loss: 0.0031 - acc: 0.9991 - val_loss: 0.1598 - val_acc: 0.9638\n",
      "Epoch 39/70\n",
      "112800/112800 [==============================] - 138s 1ms/step - loss: 0.0033 - acc: 0.9990 - val_loss: 0.0114 - val_acc: 0.9964\n",
      "Epoch 40/70\n",
      "112800/112800 [==============================] - 138s 1ms/step - loss: 0.0036 - acc: 0.9989 - val_loss: 0.0514 - val_acc: 0.9866\n",
      "Epoch 41/70\n",
      "112800/112800 [==============================] - 138s 1ms/step - loss: 0.0031 - acc: 0.9990 - val_loss: 0.0292 - val_acc: 0.9914\n",
      "Epoch 42/70\n",
      "112800/112800 [==============================] - 138s 1ms/step - loss: 0.0038 - acc: 0.9988 - val_loss: 0.7041 - val_acc: 0.8899\n",
      "Epoch 43/70\n",
      "112800/112800 [==============================] - 138s 1ms/step - loss: 0.0031 - acc: 0.9991 - val_loss: 0.9644 - val_acc: 0.8406\n",
      "Epoch 44/70\n",
      "112800/112800 [==============================] - 138s 1ms/step - loss: 0.0029 - acc: 0.9991 - val_loss: 0.0373 - val_acc: 0.9896\n",
      "Epoch 45/70\n",
      "112800/112800 [==============================] - 138s 1ms/step - loss: 0.0014 - acc: 0.9995 - val_loss: 0.0646 - val_acc: 0.9844\n",
      "Epoch 46/70\n",
      "112800/112800 [==============================] - 138s 1ms/step - loss: 0.0042 - acc: 0.9987 - val_loss: 0.2739 - val_acc: 0.9439\n",
      "Epoch 47/70\n",
      "112800/112800 [==============================] - 137s 1ms/step - loss: 0.0026 - acc: 0.9991 - val_loss: 0.0176 - val_acc: 0.9950\n",
      "Epoch 48/70\n",
      "112800/112800 [==============================] - 137s 1ms/step - loss: 0.0029 - acc: 0.9991 - val_loss: 0.5441 - val_acc: 0.9011\n",
      "Epoch 49/70\n",
      "112800/112800 [==============================] - 137s 1ms/step - loss: 0.0028 - acc: 0.9991 - val_loss: 0.0126 - val_acc: 0.9957\n",
      "Epoch 50/70\n",
      "112800/112800 [==============================] - 140s 1ms/step - loss: 0.0025 - acc: 0.9992 - val_loss: 0.0213 - val_acc: 0.9938\n",
      "Epoch 51/70\n",
      "112800/112800 [==============================] - 138s 1ms/step - loss: 0.0023 - acc: 0.9993 - val_loss: 0.0326 - val_acc: 0.9916\n",
      "Epoch 52/70\n",
      "112800/112800 [==============================] - 137s 1ms/step - loss: 0.0025 - acc: 0.9992 - val_loss: 0.1498 - val_acc: 0.9650\n",
      "Epoch 53/70\n",
      "112800/112800 [==============================] - 137s 1ms/step - loss: 0.0023 - acc: 0.9992 - val_loss: 0.0385 - val_acc: 0.9909\n",
      "Epoch 54/70\n",
      "112800/112800 [==============================] - 137s 1ms/step - loss: 0.0025 - acc: 0.9992 - val_loss: 0.5203 - val_acc: 0.9103\n",
      "Epoch 55/70\n",
      "112800/112800 [==============================] - 137s 1ms/step - loss: 0.0027 - acc: 0.9993 - val_loss: 0.0138 - val_acc: 0.9958\n",
      "Epoch 56/70\n",
      "112800/112800 [==============================] - 138s 1ms/step - loss: 0.0018 - acc: 0.9995 - val_loss: 0.0917 - val_acc: 0.9767\n",
      "Epoch 57/70\n",
      "112800/112800 [==============================] - 137s 1ms/step - loss: 0.0020 - acc: 0.9993 - val_loss: 0.0200 - val_acc: 0.9943\n",
      "Epoch 58/70\n",
      "112800/112800 [==============================] - 138s 1ms/step - loss: 0.0025 - acc: 0.9993 - val_loss: 0.0683 - val_acc: 0.9817\n"
     ]
    },
    {
     "name": "stdout",
     "output_type": "stream",
     "text": [
      "Epoch 59/70\n",
      "112800/112800 [==============================] - 138s 1ms/step - loss: 0.0019 - acc: 0.9994 - val_loss: 0.0082 - val_acc: 0.9974\n",
      "Epoch 60/70\n",
      "112800/112800 [==============================] - 139s 1ms/step - loss: 0.0028 - acc: 0.9992 - val_loss: 0.0388 - val_acc: 0.9891\n",
      "Epoch 61/70\n",
      "112800/112800 [==============================] - 139s 1ms/step - loss: 0.0011 - acc: 0.9996 - val_loss: 0.0172 - val_acc: 0.9957\n",
      "Epoch 62/70\n",
      "112800/112800 [==============================] - 138s 1ms/step - loss: 0.0029 - acc: 0.9991 - val_loss: 0.1043 - val_acc: 0.9776\n",
      "Epoch 63/70\n",
      "112800/112800 [==============================] - 138s 1ms/step - loss: 0.0017 - acc: 0.9994 - val_loss: 0.0262 - val_acc: 0.9923\n",
      "Epoch 64/70\n",
      "112800/112800 [==============================] - 138s 1ms/step - loss: 0.0026 - acc: 0.9992 - val_loss: 0.5074 - val_acc: 0.9160\n",
      "Epoch 65/70\n",
      "112800/112800 [==============================] - 138s 1ms/step - loss: 0.0015 - acc: 0.9995 - val_loss: 0.0886 - val_acc: 0.9815\n",
      "Epoch 66/70\n",
      "112800/112800 [==============================] - 138s 1ms/step - loss: 0.0015 - acc: 0.9995 - val_loss: 0.0653 - val_acc: 0.9830\n",
      "Epoch 67/70\n",
      "112800/112800 [==============================] - 138s 1ms/step - loss: 0.0015 - acc: 0.9995 - val_loss: 0.0059 - val_acc: 0.9980\n",
      "Epoch 68/70\n",
      "112800/112800 [==============================] - 138s 1ms/step - loss: 6.0447e-04 - acc: 0.9998 - val_loss: 0.0045 - val_acc: 0.9988\n",
      "Epoch 69/70\n",
      "112800/112800 [==============================] - 138s 1ms/step - loss: 0.0019 - acc: 0.9994 - val_loss: 0.0252 - val_acc: 0.9929\n",
      "Epoch 70/70\n",
      "112800/112800 [==============================] - 138s 1ms/step - loss: 0.0017 - acc: 0.9995 - val_loss: 0.0057 - val_acc: 0.9980\n"
     ]
    },
    {
     "data": {
      "text/plain": [
       "<tensorflow.python.keras.callbacks.History at 0x7fa808a89cc0>"
      ]
     },
     "execution_count": 12,
     "metadata": {},
     "output_type": "execute_result"
    }
   ],
   "source": [
    "inceptionv3_model.fit(x_train_rgb, y_train, validation_data=(x_val_rgb, y_valid), batch_size=128, epochs=70,\n",
    "          callbacks=[tb_callback])"
   ]
  },
  {
   "cell_type": "code",
   "execution_count": 14,
   "metadata": {},
   "outputs": [
    {
     "name": "stdout",
     "output_type": "stream",
     "text": [
      "14100/14100 [==============================] - 7s 524us/step\n",
      "[0.008283515103807308, 0.9973049645390071]\n"
     ]
    }
   ],
   "source": [
    "print(inceptionv3_model.evaluate(x_test_rgb, y_test))"
   ]
  },
  {
   "cell_type": "code",
   "execution_count": 13,
   "metadata": {},
   "outputs": [],
   "source": [
    "\n",
    "inceptionv3_model.save('../models/inceptionv3_{0}.h5'.format(set_curr_time()))"
   ]
  },
  {
   "cell_type": "code",
   "execution_count": null,
   "metadata": {},
   "outputs": [],
   "source": []
  }
 ],
 "metadata": {
  "kernelspec": {
   "display_name": "Python 3",
   "language": "python",
   "name": "python3"
  },
  "language_info": {
   "codemirror_mode": {
    "name": "ipython",
    "version": 3
   },
   "file_extension": ".py",
   "mimetype": "text/x-python",
   "name": "python",
   "nbconvert_exporter": "python",
   "pygments_lexer": "ipython3",
   "version": "3.6.7"
  }
 },
 "nbformat": 4,
 "nbformat_minor": 2
}
