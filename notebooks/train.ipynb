{
 "cells": [
  {
   "cell_type": "code",
   "execution_count": 32,
   "metadata": {},
   "outputs": [],
   "source": [
    "from sklearn.model_selection import train_test_split\n",
    "import matplotlib.pyplot as plt\n",
    "import tensorflow as tf\n",
    "from tqdm import tqdm\n",
    "import numpy as np\n",
    "import datetime\n",
    "import glob\n",
    "import cv2"
   ]
  },
  {
   "cell_type": "markdown",
   "metadata": {},
   "source": [
    "### Our data"
   ]
  },
  {
   "cell_type": "markdown",
   "metadata": {},
   "source": [
    "##### Load data"
   ]
  },
  {
   "cell_type": "code",
   "execution_count": 3,
   "metadata": {},
   "outputs": [],
   "source": [
    "dates = ['24032019', '17042019', '01052019']\n",
    "labels = ['yafim', 'zeev', 'or', 'ron', 'sergey', 'aviya', 'elnatan']"
   ]
  },
  {
   "cell_type": "code",
   "execution_count": 4,
   "metadata": {},
   "outputs": [],
   "source": [
    "x_data = []\n",
    "y_data = []"
   ]
  },
  {
   "cell_type": "code",
   "execution_count": 5,
   "metadata": {},
   "outputs": [
    {
     "name": "stderr",
     "output_type": "stream",
     "text": [
      "100%|██████████| 3000/3000 [00:00<00:00, 7590.61it/s]\n",
      "100%|██████████| 3000/3000 [00:00<00:00, 7523.15it/s]\n",
      "100%|██████████| 3000/3000 [00:00<00:00, 7612.90it/s]\n",
      "100%|██████████| 3000/3000 [00:00<00:00, 8253.71it/s]\n",
      "100%|██████████| 3000/3000 [00:00<00:00, 8092.66it/s]\n",
      "0it [00:00, ?it/s]\n",
      "0it [00:00, ?it/s]\n",
      "0it [00:00, ?it/s]\n",
      "0it [00:00, ?it/s]\n",
      "100%|██████████| 30000/30000 [00:03<00:00, 8185.13it/s]\n",
      "100%|██████████| 30000/30000 [00:03<00:00, 8200.85it/s]\n",
      "0it [00:00, ?it/s]\n",
      "100%|██████████| 30000/30000 [00:03<00:00, 8630.42it/s]\n",
      "0it [00:00, ?it/s]\n",
      "100%|██████████| 3000/3000 [00:00<00:00, 7876.62it/s]\n",
      "100%|██████████| 22000/22000 [00:02<00:00, 8716.62it/s]\n",
      "0it [00:00, ?it/s]\n",
      "0it [00:00, ?it/s]\n",
      "100%|██████████| 3000/3000 [00:00<00:00, 8396.37it/s]\n",
      "0it [00:00, ?it/s]\n",
      "100%|██████████| 3000/3000 [00:00<00:00, 8050.60it/s]\n"
     ]
    }
   ],
   "source": [
    "for d in dates:\n",
    "    for i, l in enumerate(labels):\n",
    "        for f in tqdm(glob.glob('../data/frames/{0}/{1}/32/*.png'.format(d, l))):\n",
    "            x_data.append(cv2.imread(f, cv2.IMREAD_GRAYSCALE))\n",
    "            y_data.append(i)"
   ]
  },
  {
   "cell_type": "code",
   "execution_count": 6,
   "metadata": {},
   "outputs": [],
   "source": [
    "x_data = np.asarray(x_data)\n",
    "y_data = np.asarray(y_data)"
   ]
  },
  {
   "cell_type": "code",
   "execution_count": 7,
   "metadata": {},
   "outputs": [
    {
     "data": {
      "text/plain": [
       "(136000, 32, 32)"
      ]
     },
     "execution_count": 7,
     "metadata": {},
     "output_type": "execute_result"
    }
   ],
   "source": [
    "x_data.shape"
   ]
  },
  {
   "cell_type": "code",
   "execution_count": 8,
   "metadata": {},
   "outputs": [
    {
     "data": {
      "text/plain": [
       "array([0, 0, 0, ..., 6, 6, 6])"
      ]
     },
     "execution_count": 8,
     "metadata": {},
     "output_type": "execute_result"
    }
   ],
   "source": [
    "y_data"
   ]
  },
  {
   "cell_type": "code",
   "execution_count": 9,
   "metadata": {},
   "outputs": [
    {
     "data": {
      "image/png": "[encoded data removed]",
      "text/plain": [
       "<Figure size 432x288 with 1 Axes>"
      ]
     },
     "metadata": {
      "needs_background": "light"
     },
     "output_type": "display_data"
    }
   ],
   "source": [
    "plt.imshow(x_data[0])\n",
    "plt.show()"
   ]
  },
  {
   "cell_type": "code",
   "execution_count": 10,
   "metadata": {},
   "outputs": [],
   "source": [
    "x_train, x_test, y_train, y_test = train_test_split(x_data, y_data, test_size=0.2)"
   ]
  },
  {
   "cell_type": "code",
   "execution_count": 11,
   "metadata": {},
   "outputs": [],
   "source": [
    "x_train, x_test = x_train / 255.0, x_test / 255.0"
   ]
  },
  {
   "cell_type": "code",
   "execution_count": 12,
   "metadata": {},
   "outputs": [
    {
     "data": {
      "text/plain": [
       "(108800, 32, 32)"
      ]
     },
     "execution_count": 12,
     "metadata": {},
     "output_type": "execute_result"
    }
   ],
   "source": [
    "x_train.shape"
   ]
  },
  {
   "cell_type": "code",
   "execution_count": 33,
   "metadata": {},
   "outputs": [
    {
     "data": {
      "text/plain": [
       "array([[   0, 1217],\n",
       "       [   1, 5007],\n",
       "       [   2, 6636],\n",
       "       [   3, 6658],\n",
       "       [   4, 1153],\n",
       "       [   5, 5896],\n",
       "       [   6,  633]])"
      ]
     },
     "execution_count": 33,
     "metadata": {},
     "output_type": "execute_result"
    }
   ],
   "source": [
    "unique, counts = np.unique(y_test, return_counts=True)\n",
    "np.asarray((unique, counts)).T"
   ]
  },
  {
   "cell_type": "code",
   "execution_count": 53,
   "metadata": {},
   "outputs": [],
   "source": [
    "model = tf.keras.models.Sequential([\n",
    "    tf.keras.layers.Flatten(input_shape=(32, 32)),\n",
    "    tf.keras.layers.Dense(512, activation=tf.nn.relu),\n",
    "    tf.keras.layers.Dropout(0.2),\n",
    "    tf.keras.layers.Dense(len(labels), activation=tf.nn.softmax)\n",
    "])"
   ]
  },
  {
   "cell_type": "code",
   "execution_count": 59,
   "metadata": {},
   "outputs": [],
   "source": [
    "model.compile(optimizer='adam',\n",
    "              loss='sparse_categorical_crossentropy',\n",
    "              metrics=['accuracy'])"
   ]
  },
  {
   "cell_type": "code",
   "execution_count": 60,
   "metadata": {},
   "outputs": [
    {
     "name": "stdout",
     "output_type": "stream",
     "text": [
      "_________________________________________________________________\n",
      "Layer (type)                 Output Shape              Param #   \n",
      "=================================================================\n",
      "flatten_5 (Flatten)          (None, 1024)              0         \n",
      "_________________________________________________________________\n",
      "dense_18 (Dense)             (None, 512)               524800    \n",
      "_________________________________________________________________\n",
      "dropout_5 (Dropout)          (None, 512)               0         \n",
      "_________________________________________________________________\n",
      "dense_19 (Dense)             (None, 7)                 3591      \n",
      "=================================================================\n",
      "Total params: 528,391\n",
      "Trainable params: 528,391\n",
      "Non-trainable params: 0\n",
      "_________________________________________________________________\n"
     ]
    }
   ],
   "source": [
    "model.summary()"
   ]
  },
  {
   "cell_type": "code",
   "execution_count": 69,
   "metadata": {},
   "outputs": [],
   "source": [
    "def set_curr_time():\n",
    "    dt = datetime.datetime.now()\n",
    "    curr_dt = '{0}{1}{2}_{3}_{4}'.format(datetime.datetime.now().year, datetime.datetime.now().month,\n",
    "                                       datetime.datetime.now().day, datetime.datetime.now().hour,\n",
    "                                      datetime.datetime.now().minute)\n",
    "    return curr_dt"
   ]
  },
  {
   "cell_type": "code",
   "execution_count": 57,
   "metadata": {},
   "outputs": [],
   "source": [
    "tb_callback = tf.keras.callbacks.TensorBoard(log_dir='./logs/{0}'.format(curr_dt), histogram_freq=0, write_graph=True, write_images=True)"
   ]
  },
  {
   "cell_type": "code",
   "execution_count": 58,
   "metadata": {},
   "outputs": [
    {
     "ename": "ValueError",
     "evalue": "You are passing a target array of shape (108800, 1) while using as loss `categorical_crossentropy`. `categorical_crossentropy` expects targets to be binary matrices (1s and 0s) of shape (samples, classes). If your targets are integer classes, you can convert them to the expected format via:\n```\nfrom keras.utils import to_categorical\ny_binary = to_categorical(y_int)\n```\n\nAlternatively, you can use the loss function `sparse_categorical_crossentropy` instead, which does expect integer targets.",
     "output_type": "error",
     "traceback": [
      "\u001b[0;31m---------------------------------------------------------------------------\u001b[0m",
      "\u001b[0;31mValueError\u001b[0m                                Traceback (most recent call last)",
      "\u001b[0;32m<ipython-input-58-9ec12f1cdbc3>\u001b[0m in \u001b[0;36m<module>\u001b[0;34m\u001b[0m\n\u001b[0;32m----> 1\u001b[0;31m \u001b[0mmodel\u001b[0m\u001b[0;34m.\u001b[0m\u001b[0mfit\u001b[0m\u001b[0;34m(\u001b[0m\u001b[0mx_train\u001b[0m\u001b[0;34m,\u001b[0m \u001b[0my_train\u001b[0m\u001b[0;34m,\u001b[0m \u001b[0mvalidation_data\u001b[0m\u001b[0;34m=\u001b[0m\u001b[0;34m(\u001b[0m\u001b[0mx_test\u001b[0m\u001b[0;34m,\u001b[0m \u001b[0my_test\u001b[0m\u001b[0;34m)\u001b[0m\u001b[0;34m,\u001b[0m \u001b[0mbatch_size\u001b[0m\u001b[0;34m=\u001b[0m\u001b[0;36m256\u001b[0m\u001b[0;34m,\u001b[0m \u001b[0mepochs\u001b[0m\u001b[0;34m=\u001b[0m\u001b[0;36m50\u001b[0m\u001b[0;34m,\u001b[0m \u001b[0mcallbacks\u001b[0m\u001b[0;34m=\u001b[0m\u001b[0;34m[\u001b[0m\u001b[0mtb_callback\u001b[0m\u001b[0;34m]\u001b[0m\u001b[0;34m)\u001b[0m\u001b[0;34m\u001b[0m\u001b[0;34m\u001b[0m\u001b[0m\n\u001b[0m",
      "\u001b[0;32m~/.virtualenvs/speckles-ml/lib/python3.7/site-packages/tensorflow/python/keras/engine/training.py\u001b[0m in \u001b[0;36mfit\u001b[0;34m(self, x, y, batch_size, epochs, verbose, callbacks, validation_split, validation_data, shuffle, class_weight, sample_weight, initial_epoch, steps_per_epoch, validation_steps, max_queue_size, workers, use_multiprocessing, **kwargs)\u001b[0m\n\u001b[1;32m    774\u001b[0m         \u001b[0msteps\u001b[0m\u001b[0;34m=\u001b[0m\u001b[0msteps_per_epoch\u001b[0m\u001b[0;34m,\u001b[0m\u001b[0;34m\u001b[0m\u001b[0;34m\u001b[0m\u001b[0m\n\u001b[1;32m    775\u001b[0m         \u001b[0mvalidation_split\u001b[0m\u001b[0;34m=\u001b[0m\u001b[0mvalidation_split\u001b[0m\u001b[0;34m,\u001b[0m\u001b[0;34m\u001b[0m\u001b[0;34m\u001b[0m\u001b[0m\n\u001b[0;32m--> 776\u001b[0;31m         shuffle=shuffle)\n\u001b[0m\u001b[1;32m    777\u001b[0m \u001b[0;34m\u001b[0m\u001b[0m\n\u001b[1;32m    778\u001b[0m     \u001b[0;31m# Prepare validation data.\u001b[0m\u001b[0;34m\u001b[0m\u001b[0;34m\u001b[0m\u001b[0;34m\u001b[0m\u001b[0m\n",
      "\u001b[0;32m~/.virtualenvs/speckles-ml/lib/python3.7/site-packages/tensorflow/python/keras/engine/training.py\u001b[0m in \u001b[0;36m_standardize_user_data\u001b[0;34m(self, x, y, sample_weight, class_weight, batch_size, check_steps, steps_name, steps, validation_split, shuffle)\u001b[0m\n\u001b[1;32m   2438\u001b[0m           \u001b[0;31m# Additional checks to avoid users mistakenly using improper loss fns.\u001b[0m\u001b[0;34m\u001b[0m\u001b[0;34m\u001b[0m\u001b[0;34m\u001b[0m\u001b[0m\n\u001b[1;32m   2439\u001b[0m           training_utils.check_loss_and_target_compatibility(\n\u001b[0;32m-> 2440\u001b[0;31m               y, self._feed_loss_fns, feed_output_shapes)\n\u001b[0m\u001b[1;32m   2441\u001b[0m     \u001b[0;32melse\u001b[0m\u001b[0;34m:\u001b[0m\u001b[0;34m\u001b[0m\u001b[0;34m\u001b[0m\u001b[0m\n\u001b[1;32m   2442\u001b[0m       \u001b[0my\u001b[0m \u001b[0;34m=\u001b[0m \u001b[0;34m[\u001b[0m\u001b[0;34m]\u001b[0m\u001b[0;34m\u001b[0m\u001b[0;34m\u001b[0m\u001b[0m\n",
      "\u001b[0;32m~/.virtualenvs/speckles-ml/lib/python3.7/site-packages/tensorflow/python/keras/engine/training_utils.py\u001b[0m in \u001b[0;36mcheck_loss_and_target_compatibility\u001b[0;34m(targets, loss_fns, output_shapes)\u001b[0m\n\u001b[1;32m    491\u001b[0m       \u001b[0;32mif\u001b[0m \u001b[0my\u001b[0m\u001b[0;34m.\u001b[0m\u001b[0mshape\u001b[0m\u001b[0;34m[\u001b[0m\u001b[0;34m-\u001b[0m\u001b[0;36m1\u001b[0m\u001b[0;34m]\u001b[0m \u001b[0;34m==\u001b[0m \u001b[0;36m1\u001b[0m\u001b[0;34m:\u001b[0m\u001b[0;34m\u001b[0m\u001b[0;34m\u001b[0m\u001b[0m\n\u001b[1;32m    492\u001b[0m         raise ValueError('You are passing a target array of shape ' + str(\n\u001b[0;32m--> 493\u001b[0;31m             y.shape) + ' while using as loss `categorical_crossentropy`. '\n\u001b[0m\u001b[1;32m    494\u001b[0m                          \u001b[0;34m'`categorical_crossentropy` expects '\u001b[0m\u001b[0;34m\u001b[0m\u001b[0;34m\u001b[0m\u001b[0m\n\u001b[1;32m    495\u001b[0m                          \u001b[0;34m'targets to be binary matrices (1s and 0s) '\u001b[0m\u001b[0;34m\u001b[0m\u001b[0;34m\u001b[0m\u001b[0m\n",
      "\u001b[0;31mValueError\u001b[0m: You are passing a target array of shape (108800, 1) while using as loss `categorical_crossentropy`. `categorical_crossentropy` expects targets to be binary matrices (1s and 0s) of shape (samples, classes). If your targets are integer classes, you can convert them to the expected format via:\n```\nfrom keras.utils import to_categorical\ny_binary = to_categorical(y_int)\n```\n\nAlternatively, you can use the loss function `sparse_categorical_crossentropy` instead, which does expect integer targets."
     ]
    }
   ],
   "source": [
    "model.fit(x_train, y_train, validation_data=(x_test, y_test), batch_size=256, epochs=50, callbacks=[tb_callback])"
   ]
  },
  {
   "cell_type": "code",
   "execution_count": 62,
   "metadata": {},
   "outputs": [
    {
     "name": "stdout",
     "output_type": "stream",
     "text": [
      "27200/27200 [==============================] - 1s 45us/sample - loss: 2.1906 - acc: 0.0249\n"
     ]
    },
    {
     "data": {
      "text/plain": [
       "[2.1906236864538755, 0.02492647]"
      ]
     },
     "execution_count": 62,
     "metadata": {},
     "output_type": "execute_result"
    }
   ],
   "source": [
    "model.evaluate(x_test, y_test)"
   ]
  },
  {
   "cell_type": "code",
   "execution_count": 75,
   "metadata": {},
   "outputs": [],
   "source": [
    "conf_list = [\n",
    "    [32, 512, 0.2],\n",
    "    [32, 256, 0.2],\n",
    "    [32, 512, 0.1],\n",
    "]"
   ]
  },
  {
   "cell_type": "code",
   "execution_count": 76,
   "metadata": {},
   "outputs": [],
   "source": [
    "def custom_model(config):\n",
    "    model = tf.keras.models.Sequential([\n",
    "        tf.keras.layers.Flatten(input_shape=(conf[0], conf[0])),\n",
    "        tf.keras.layers.Dense(conf[1], activation=tf.nn.relu),\n",
    "        tf.keras.layers.Dropout(conf[2]),\n",
    "        tf.keras.layers.Dense(len(labels), activation=tf.nn.softmax)\n",
    "    ])\n",
    "    model.compile(optimizer='adam',\n",
    "                  loss='sparse_categorical_crossentropy',\n",
    "                  metrics=['accuracy'])\n",
    "    return model"
   ]
  },
  {
   "cell_type": "code",
   "execution_count": 77,
   "metadata": {},
   "outputs": [
    {
     "name": "stdout",
     "output_type": "stream",
     "text": [
      "Train on 108800 samples, validate on 27200 samples\n",
      "Epoch 1/50\n",
      "108800/108800 [==============================] - 4s 38us/sample - loss: 1.1719 - acc: 0.4724 - val_loss: 0.9985 - val_acc: 0.5406\n",
      "Epoch 2/50\n",
      "108800/108800 [==============================] - 4s 34us/sample - loss: 0.9623 - acc: 0.5655 - val_loss: 0.9232 - val_acc: 0.5921\n",
      "Epoch 3/50\n",
      "108800/108800 [==============================] - 4s 34us/sample - loss: 0.9195 - acc: 0.5900 - val_loss: 0.8833 - val_acc: 0.6138\n",
      "Epoch 4/50\n",
      "108800/108800 [==============================] - 4s 35us/sample - loss: 0.9030 - acc: 0.5976 - val_loss: 0.8786 - val_acc: 0.6143\n",
      "Epoch 5/50\n",
      "108800/108800 [==============================] - 4s 34us/sample - loss: 0.8800 - acc: 0.6123 - val_loss: 0.8536 - val_acc: 0.6253\n",
      "Epoch 6/50\n",
      "108800/108800 [==============================] - 4s 35us/sample - loss: 0.8679 - acc: 0.6176 - val_loss: 0.8583 - val_acc: 0.6181\n",
      "Epoch 7/50\n",
      "108800/108800 [==============================] - 4s 35us/sample - loss: 0.8555 - acc: 0.6227 - val_loss: 0.8883 - val_acc: 0.6030\n",
      "Epoch 8/50\n",
      "108800/108800 [==============================] - 4s 35us/sample - loss: 0.8460 - acc: 0.6268 - val_loss: 0.8320 - val_acc: 0.6357\n",
      "Epoch 9/50\n",
      "108800/108800 [==============================] - 4s 36us/sample - loss: 0.8322 - acc: 0.6358 - val_loss: 0.8254 - val_acc: 0.6358\n",
      "Epoch 10/50\n",
      "108800/108800 [==============================] - 4s 37us/sample - loss: 0.8251 - acc: 0.6397 - val_loss: 0.8059 - val_acc: 0.6469\n",
      "Epoch 11/50\n",
      "108800/108800 [==============================] - 4s 38us/sample - loss: 0.8173 - acc: 0.6439 - val_loss: 0.8007 - val_acc: 0.6546\n",
      "Epoch 12/50\n",
      "108800/108800 [==============================] - 4s 37us/sample - loss: 0.8018 - acc: 0.6531 - val_loss: 0.8122 - val_acc: 0.6461\n",
      "Epoch 13/50\n",
      "108800/108800 [==============================] - 4s 36us/sample - loss: 0.8019 - acc: 0.6538 - val_loss: 0.7921 - val_acc: 0.6588\n",
      "Epoch 14/50\n",
      "108800/108800 [==============================] - 4s 36us/sample - loss: 0.7890 - acc: 0.6600 - val_loss: 0.7952 - val_acc: 0.6541\n",
      "Epoch 15/50\n",
      "108800/108800 [==============================] - 4s 36us/sample - loss: 0.7908 - acc: 0.6596 - val_loss: 0.7826 - val_acc: 0.6643\n",
      "Epoch 16/50\n",
      "108800/108800 [==============================] - 4s 36us/sample - loss: 0.7856 - acc: 0.6619 - val_loss: 0.7645 - val_acc: 0.6721\n",
      "Epoch 17/50\n",
      "108800/108800 [==============================] - 4s 36us/sample - loss: 0.7790 - acc: 0.6644 - val_loss: 0.7890 - val_acc: 0.6605\n",
      "Epoch 18/50\n",
      "108800/108800 [==============================] - 4s 36us/sample - loss: 0.7796 - acc: 0.6639 - val_loss: 0.7737 - val_acc: 0.6686\n",
      "Epoch 19/50\n",
      "108800/108800 [==============================] - 4s 36us/sample - loss: 0.7687 - acc: 0.6695 - val_loss: 0.7754 - val_acc: 0.6661\n",
      "Epoch 20/50\n",
      "108800/108800 [==============================] - 4s 36us/sample - loss: 0.7733 - acc: 0.6681 - val_loss: 0.7730 - val_acc: 0.6739\n",
      "Epoch 21/50\n",
      "108800/108800 [==============================] - 4s 36us/sample - loss: 0.7631 - acc: 0.6729 - val_loss: 0.7616 - val_acc: 0.6753\n",
      "Epoch 22/50\n",
      "108800/108800 [==============================] - 4s 36us/sample - loss: 0.7600 - acc: 0.6744 - val_loss: 0.7634 - val_acc: 0.6726\n",
      "Epoch 23/50\n",
      "108800/108800 [==============================] - 4s 37us/sample - loss: 0.7615 - acc: 0.6747 - val_loss: 0.7587 - val_acc: 0.6800\n",
      "Epoch 24/50\n",
      "108800/108800 [==============================] - 4s 36us/sample - loss: 0.7608 - acc: 0.6744 - val_loss: 0.7557 - val_acc: 0.6798\n",
      "Epoch 25/50\n",
      "108800/108800 [==============================] - 4s 39us/sample - loss: 0.7621 - acc: 0.6733 - val_loss: 0.7534 - val_acc: 0.6811\n",
      "Epoch 26/50\n",
      "108800/108800 [==============================] - 4s 37us/sample - loss: 0.7555 - acc: 0.6765 - val_loss: 0.7665 - val_acc: 0.6746\n",
      "Epoch 27/50\n",
      "108800/108800 [==============================] - 4s 36us/sample - loss: 0.7565 - acc: 0.6765 - val_loss: 0.7333 - val_acc: 0.6893\n",
      "Epoch 28/50\n",
      "108800/108800 [==============================] - 4s 36us/sample - loss: 0.7489 - acc: 0.6777 - val_loss: 0.7422 - val_acc: 0.6824\n",
      "Epoch 29/50\n",
      "108800/108800 [==============================] - 4s 36us/sample - loss: 0.7414 - acc: 0.6835 - val_loss: 0.7600 - val_acc: 0.6801\n",
      "Epoch 30/50\n",
      "108800/108800 [==============================] - 4s 36us/sample - loss: 0.7322 - acc: 0.6882 - val_loss: 0.7324 - val_acc: 0.6889\n",
      "Epoch 31/50\n",
      "108800/108800 [==============================] - 4s 38us/sample - loss: 0.7441 - acc: 0.6808 - val_loss: 0.7461 - val_acc: 0.6784\n",
      "Epoch 32/50\n",
      "108800/108800 [==============================] - 4s 38us/sample - loss: 0.7434 - acc: 0.6812 - val_loss: 0.7465 - val_acc: 0.6804\n",
      "Epoch 33/50\n",
      "108800/108800 [==============================] - 4s 38us/sample - loss: 0.7357 - acc: 0.6855 - val_loss: 0.7477 - val_acc: 0.6829\n",
      "Epoch 34/50\n",
      "108800/108800 [==============================] - 4s 38us/sample - loss: 0.7343 - acc: 0.6870 - val_loss: 0.7565 - val_acc: 0.6777\n",
      "Epoch 35/50\n",
      "108800/108800 [==============================] - 4s 38us/sample - loss: 0.7309 - acc: 0.6875 - val_loss: 0.7397 - val_acc: 0.6826\n",
      "Epoch 36/50\n",
      "108800/108800 [==============================] - 4s 37us/sample - loss: 0.7212 - acc: 0.6914 - val_loss: 0.7404 - val_acc: 0.6849\n",
      "Epoch 37/50\n",
      "108800/108800 [==============================] - 4s 37us/sample - loss: 0.7168 - acc: 0.6947 - val_loss: 0.7334 - val_acc: 0.6873\n",
      "Epoch 38/50\n",
      "108800/108800 [==============================] - 4s 37us/sample - loss: 0.7111 - acc: 0.6971 - val_loss: 0.7177 - val_acc: 0.6962\n",
      "Epoch 39/50\n",
      "108800/108800 [==============================] - 4s 37us/sample - loss: 0.7032 - acc: 0.7011 - val_loss: 0.7304 - val_acc: 0.6912\n",
      "Epoch 40/50\n",
      "108800/108800 [==============================] - 4s 37us/sample - loss: 0.7118 - acc: 0.6973 - val_loss: 0.7288 - val_acc: 0.6898\n",
      "Epoch 41/50\n",
      "108800/108800 [==============================] - 4s 36us/sample - loss: 0.7092 - acc: 0.6983 - val_loss: 0.7119 - val_acc: 0.6963\n",
      "Epoch 42/50\n",
      "108800/108800 [==============================] - 4s 37us/sample - loss: 0.7051 - acc: 0.6995 - val_loss: 0.7279 - val_acc: 0.6899\n",
      "Epoch 43/50\n",
      "108800/108800 [==============================] - 4s 36us/sample - loss: 0.7092 - acc: 0.6973 - val_loss: 0.7253 - val_acc: 0.6915\n",
      "Epoch 44/50\n",
      "108800/108800 [==============================] - 4s 37us/sample - loss: 0.7094 - acc: 0.6969 - val_loss: 0.7311 - val_acc: 0.6877\n",
      "Epoch 45/50\n",
      "108800/108800 [==============================] - 4s 37us/sample - loss: 0.6954 - acc: 0.7039 - val_loss: 0.7136 - val_acc: 0.7004\n",
      "Epoch 46/50\n",
      "108800/108800 [==============================] - 4s 39us/sample - loss: 0.7005 - acc: 0.6998 - val_loss: 0.6997 - val_acc: 0.7056\n",
      "Epoch 47/50\n",
      "108800/108800 [==============================] - 4s 38us/sample - loss: 0.6883 - acc: 0.7074 - val_loss: 0.7215 - val_acc: 0.6916\n",
      "Epoch 48/50\n",
      "108800/108800 [==============================] - 4s 37us/sample - loss: 0.6951 - acc: 0.7030 - val_loss: 0.7176 - val_acc: 0.6938\n",
      "Epoch 49/50\n",
      "108800/108800 [==============================] - 4s 38us/sample - loss: 0.6884 - acc: 0.7088 - val_loss: 0.7205 - val_acc: 0.6957\n",
      "Epoch 50/50\n",
      "108800/108800 [==============================] - 4s 37us/sample - loss: 0.6874 - acc: 0.7063 - val_loss: 0.7060 - val_acc: 0.7012\n",
      "27200/27200 [==============================] - 1s 46us/sample - loss: 0.7060 - acc: 0.7012\n",
      "Train on 108800 samples, validate on 27200 samples\n",
      "Epoch 1/50\n",
      "108800/108800 [==============================] - 3s 26us/sample - loss: 1.1763 - acc: 0.4685 - val_loss: 0.9704 - val_acc: 0.5686\n",
      "Epoch 2/50\n",
      "108800/108800 [==============================] - 3s 24us/sample - loss: 0.9655 - acc: 0.5664 - val_loss: 0.9047 - val_acc: 0.6033\n",
      "Epoch 3/50\n",
      "108800/108800 [==============================] - 3s 23us/sample - loss: 0.9294 - acc: 0.5861 - val_loss: 0.8849 - val_acc: 0.6109\n",
      "Epoch 4/50\n",
      "108800/108800 [==============================] - 3s 23us/sample - loss: 0.8988 - acc: 0.6023 - val_loss: 0.8722 - val_acc: 0.6194\n",
      "Epoch 5/50\n",
      "108800/108800 [==============================] - 3s 23us/sample - loss: 0.8859 - acc: 0.6085 - val_loss: 0.8641 - val_acc: 0.6187\n",
      "Epoch 6/50\n",
      "108800/108800 [==============================] - 3s 25us/sample - loss: 0.8685 - acc: 0.6182 - val_loss: 0.8586 - val_acc: 0.6186\n",
      "Epoch 7/50\n"
     ]
    },
    {
     "name": "stdout",
     "output_type": "stream",
     "text": [
      "108800/108800 [==============================] - 3s 24us/sample - loss: 0.8554 - acc: 0.6229 - val_loss: 0.8330 - val_acc: 0.6333\n",
      "Epoch 8/50\n",
      "108800/108800 [==============================] - 3s 24us/sample - loss: 0.8436 - acc: 0.6304 - val_loss: 0.8177 - val_acc: 0.6419\n",
      "Epoch 9/50\n",
      "108800/108800 [==============================] - 3s 24us/sample - loss: 0.8327 - acc: 0.6365 - val_loss: 0.8109 - val_acc: 0.6472\n",
      "Epoch 10/50\n",
      "108800/108800 [==============================] - 3s 24us/sample - loss: 0.8293 - acc: 0.6373 - val_loss: 0.8168 - val_acc: 0.6439\n",
      "Epoch 11/50\n",
      "108800/108800 [==============================] - 3s 24us/sample - loss: 0.8144 - acc: 0.6460 - val_loss: 0.8169 - val_acc: 0.6438\n",
      "Epoch 12/50\n",
      "108800/108800 [==============================] - 3s 23us/sample - loss: 0.8097 - acc: 0.6469 - val_loss: 0.7956 - val_acc: 0.6541\n",
      "Epoch 13/50\n",
      "108800/108800 [==============================] - 3s 24us/sample - loss: 0.8026 - acc: 0.6523 - val_loss: 0.7946 - val_acc: 0.6590\n",
      "Epoch 14/50\n",
      "108800/108800 [==============================] - 3s 23us/sample - loss: 0.8020 - acc: 0.6524 - val_loss: 0.7888 - val_acc: 0.6561\n",
      "Epoch 15/50\n",
      "108800/108800 [==============================] - 3s 24us/sample - loss: 0.7989 - acc: 0.6532 - val_loss: 0.7870 - val_acc: 0.6600\n",
      "Epoch 16/50\n",
      "108800/108800 [==============================] - 3s 23us/sample - loss: 0.7907 - acc: 0.6593 - val_loss: 0.7768 - val_acc: 0.6690\n",
      "Epoch 17/50\n",
      "108800/108800 [==============================] - 3s 24us/sample - loss: 0.7873 - acc: 0.6604 - val_loss: 0.7785 - val_acc: 0.6652\n",
      "Epoch 18/50\n",
      "108800/108800 [==============================] - 3s 23us/sample - loss: 0.7731 - acc: 0.6678 - val_loss: 0.7871 - val_acc: 0.6590\n",
      "Epoch 19/50\n",
      "108800/108800 [==============================] - 3s 24us/sample - loss: 0.7728 - acc: 0.6681 - val_loss: 0.7816 - val_acc: 0.6631\n",
      "Epoch 20/50\n",
      "108800/108800 [==============================] - 3s 23us/sample - loss: 0.7715 - acc: 0.6684 - val_loss: 0.7728 - val_acc: 0.6637\n",
      "Epoch 21/50\n",
      "108800/108800 [==============================] - 3s 23us/sample - loss: 0.7660 - acc: 0.6706 - val_loss: 0.7575 - val_acc: 0.6778\n",
      "Epoch 22/50\n",
      "108800/108800 [==============================] - 3s 25us/sample - loss: 0.7546 - acc: 0.6778 - val_loss: 0.7566 - val_acc: 0.6747\n",
      "Epoch 23/50\n",
      "108800/108800 [==============================] - 3s 26us/sample - loss: 0.7622 - acc: 0.6737 - val_loss: 0.7474 - val_acc: 0.6829\n",
      "Epoch 24/50\n",
      "108800/108800 [==============================] - 3s 25us/sample - loss: 0.7598 - acc: 0.6733 - val_loss: 0.7668 - val_acc: 0.6724\n",
      "Epoch 25/50\n",
      "108800/108800 [==============================] - 3s 24us/sample - loss: 0.7556 - acc: 0.6777 - val_loss: 0.7525 - val_acc: 0.6801\n",
      "Epoch 26/50\n",
      "108800/108800 [==============================] - 3s 25us/sample - loss: 0.7477 - acc: 0.6804 - val_loss: 0.7534 - val_acc: 0.6754\n",
      "Epoch 27/50\n",
      "108800/108800 [==============================] - 3s 26us/sample - loss: 0.7483 - acc: 0.6788 - val_loss: 0.7624 - val_acc: 0.6742\n",
      "Epoch 28/50\n",
      "108800/108800 [==============================] - 3s 25us/sample - loss: 0.7452 - acc: 0.6819 - val_loss: 0.7338 - val_acc: 0.6845\n",
      "Epoch 29/50\n",
      "108800/108800 [==============================] - 3s 25us/sample - loss: 0.7396 - acc: 0.6831 - val_loss: 0.7505 - val_acc: 0.6785\n",
      "Epoch 30/50\n",
      "108800/108800 [==============================] - 3s 26us/sample - loss: 0.7453 - acc: 0.6809 - val_loss: 0.7371 - val_acc: 0.6882\n",
      "Epoch 31/50\n",
      "108800/108800 [==============================] - 3s 25us/sample - loss: 0.7316 - acc: 0.6899 - val_loss: 0.7412 - val_acc: 0.6849\n",
      "Epoch 32/50\n",
      "108800/108800 [==============================] - 3s 25us/sample - loss: 0.7352 - acc: 0.6877 - val_loss: 0.7418 - val_acc: 0.6813\n",
      "Epoch 33/50\n",
      "108800/108800 [==============================] - 3s 25us/sample - loss: 0.7340 - acc: 0.6858 - val_loss: 0.7379 - val_acc: 0.6851\n",
      "Epoch 34/50\n",
      "108800/108800 [==============================] - 3s 24us/sample - loss: 0.7297 - acc: 0.6901 - val_loss: 0.7387 - val_acc: 0.6856\n",
      "Epoch 35/50\n",
      "108800/108800 [==============================] - 3s 26us/sample - loss: 0.7245 - acc: 0.6913 - val_loss: 0.7572 - val_acc: 0.6814\n",
      "Epoch 36/50\n",
      "108800/108800 [==============================] - 3s 23us/sample - loss: 0.7252 - acc: 0.6904 - val_loss: 0.7476 - val_acc: 0.6787\n",
      "Epoch 37/50\n",
      "108800/108800 [==============================] - 3s 25us/sample - loss: 0.7370 - acc: 0.6857 - val_loss: 0.7213 - val_acc: 0.6954\n",
      "Epoch 38/50\n",
      "108800/108800 [==============================] - 3s 25us/sample - loss: 0.7217 - acc: 0.6928 - val_loss: 0.7274 - val_acc: 0.6914\n",
      "Epoch 39/50\n",
      "108800/108800 [==============================] - 3s 26us/sample - loss: 0.7253 - acc: 0.6896 - val_loss: 0.7360 - val_acc: 0.6855\n",
      "Epoch 40/50\n",
      "108800/108800 [==============================] - 3s 24us/sample - loss: 0.7124 - acc: 0.6973 - val_loss: 0.7386 - val_acc: 0.6873\n",
      "Epoch 41/50\n",
      "108800/108800 [==============================] - 3s 25us/sample - loss: 0.7282 - acc: 0.6875 - val_loss: 0.7456 - val_acc: 0.6784\n",
      "Epoch 42/50\n",
      "108800/108800 [==============================] - 3s 25us/sample - loss: 0.7231 - acc: 0.6910 - val_loss: 0.7305 - val_acc: 0.6904\n",
      "Epoch 43/50\n",
      "108800/108800 [==============================] - 3s 24us/sample - loss: 0.7210 - acc: 0.6911 - val_loss: 0.7626 - val_acc: 0.6734\n",
      "Epoch 44/50\n",
      "108800/108800 [==============================] - 3s 24us/sample - loss: 0.7219 - acc: 0.6901 - val_loss: 0.7228 - val_acc: 0.6885\n",
      "Epoch 45/50\n",
      "108800/108800 [==============================] - 3s 24us/sample - loss: 0.7119 - acc: 0.6970 - val_loss: 0.7210 - val_acc: 0.6915\n",
      "Epoch 46/50\n",
      "108800/108800 [==============================] - 3s 24us/sample - loss: 0.7114 - acc: 0.6953 - val_loss: 0.7193 - val_acc: 0.6968\n",
      "Epoch 47/50\n",
      "108800/108800 [==============================] - 3s 24us/sample - loss: 0.7131 - acc: 0.6944 - val_loss: 0.7252 - val_acc: 0.6928\n",
      "Epoch 48/50\n",
      "108800/108800 [==============================] - 3s 23us/sample - loss: 0.7136 - acc: 0.6930 - val_loss: 0.7240 - val_acc: 0.6919\n",
      "Epoch 49/50\n",
      "108800/108800 [==============================] - 3s 23us/sample - loss: 0.7074 - acc: 0.6961 - val_loss: 0.7170 - val_acc: 0.6966\n",
      "Epoch 50/50\n",
      "108800/108800 [==============================] - 3s 23us/sample - loss: 0.7069 - acc: 0.6966 - val_loss: 0.7264 - val_acc: 0.6867\n",
      "27200/27200 [==============================] - 1s 30us/sample - loss: 0.7264 - acc: 0.6867\n",
      "Train on 108800 samples, validate on 27200 samples\n",
      "Epoch 1/50\n",
      "108800/108800 [==============================] - 4s 38us/sample - loss: 1.1638 - acc: 0.4799 - val_loss: 0.9658 - val_acc: 0.5684\n",
      "Epoch 2/50\n",
      "108800/108800 [==============================] - 4s 35us/sample - loss: 0.9492 - acc: 0.5752 - val_loss: 0.9110 - val_acc: 0.5873\n",
      "Epoch 3/50\n",
      "108800/108800 [==============================] - 4s 37us/sample - loss: 0.9126 - acc: 0.5936 - val_loss: 0.9229 - val_acc: 0.5904\n",
      "Epoch 4/50\n",
      "108800/108800 [==============================] - 4s 37us/sample - loss: 0.8903 - acc: 0.6082 - val_loss: 0.8602 - val_acc: 0.6221\n",
      "Epoch 5/50\n",
      "108800/108800 [==============================] - 4s 38us/sample - loss: 0.8639 - acc: 0.6212 - val_loss: 0.8427 - val_acc: 0.6342\n",
      "Epoch 6/50\n",
      "108800/108800 [==============================] - 4s 37us/sample - loss: 0.8565 - acc: 0.6256 - val_loss: 0.8284 - val_acc: 0.6415\n",
      "Epoch 7/50\n",
      "108800/108800 [==============================] - 4s 37us/sample - loss: 0.8378 - acc: 0.6347 - val_loss: 0.8272 - val_acc: 0.6410\n",
      "Epoch 8/50\n",
      "108800/108800 [==============================] - 4s 39us/sample - loss: 0.8294 - acc: 0.6389 - val_loss: 0.8309 - val_acc: 0.6382\n",
      "Epoch 9/50\n",
      "108800/108800 [==============================] - 4s 37us/sample - loss: 0.8110 - acc: 0.6492 - val_loss: 0.8061 - val_acc: 0.6526\n",
      "Epoch 10/50\n",
      "108800/108800 [==============================] - 4s 36us/sample - loss: 0.8052 - acc: 0.6513 - val_loss: 0.7895 - val_acc: 0.6612\n",
      "Epoch 11/50\n",
      "108800/108800 [==============================] - 4s 37us/sample - loss: 0.7947 - acc: 0.6570 - val_loss: 0.7839 - val_acc: 0.6642\n",
      "Epoch 12/50\n",
      "108800/108800 [==============================] - 4s 36us/sample - loss: 0.7878 - acc: 0.6609 - val_loss: 0.7860 - val_acc: 0.6624\n",
      "Epoch 13/50\n",
      "108800/108800 [==============================] - 4s 36us/sample - loss: 0.7791 - acc: 0.6642 - val_loss: 0.7704 - val_acc: 0.6700\n"
     ]
    },
    {
     "name": "stdout",
     "output_type": "stream",
     "text": [
      "Epoch 14/50\n",
      "108800/108800 [==============================] - 4s 37us/sample - loss: 0.7758 - acc: 0.6661 - val_loss: 0.7641 - val_acc: 0.6736\n",
      "Epoch 15/50\n",
      "108800/108800 [==============================] - 4s 37us/sample - loss: 0.7664 - acc: 0.6714 - val_loss: 0.7602 - val_acc: 0.6761\n",
      "Epoch 16/50\n",
      "108800/108800 [==============================] - 4s 37us/sample - loss: 0.7597 - acc: 0.6735 - val_loss: 0.7752 - val_acc: 0.6662\n",
      "Epoch 17/50\n",
      "108800/108800 [==============================] - 4s 36us/sample - loss: 0.7571 - acc: 0.6776 - val_loss: 0.7566 - val_acc: 0.6770\n",
      "Epoch 18/50\n",
      "108800/108800 [==============================] - 4s 36us/sample - loss: 0.7464 - acc: 0.6816 - val_loss: 0.7541 - val_acc: 0.6793\n",
      "Epoch 19/50\n",
      "108800/108800 [==============================] - 4s 38us/sample - loss: 0.7320 - acc: 0.6880 - val_loss: 0.7470 - val_acc: 0.6815\n",
      "Epoch 20/50\n",
      "108800/108800 [==============================] - 4s 37us/sample - loss: 0.7268 - acc: 0.6912 - val_loss: 0.7460 - val_acc: 0.6843\n",
      "Epoch 21/50\n",
      "108800/108800 [==============================] - 4s 36us/sample - loss: 0.7227 - acc: 0.6956 - val_loss: 0.7425 - val_acc: 0.6818\n",
      "Epoch 22/50\n",
      "108800/108800 [==============================] - 4s 36us/sample - loss: 0.7179 - acc: 0.6964 - val_loss: 0.7476 - val_acc: 0.6800\n",
      "Epoch 23/50\n",
      "108800/108800 [==============================] - 4s 36us/sample - loss: 0.7164 - acc: 0.6961 - val_loss: 0.7552 - val_acc: 0.6760\n",
      "Epoch 24/50\n",
      "108800/108800 [==============================] - 4s 36us/sample - loss: 0.7114 - acc: 0.6988 - val_loss: 0.7335 - val_acc: 0.6865\n",
      "Epoch 25/50\n",
      "108800/108800 [==============================] - 4s 36us/sample - loss: 0.7035 - acc: 0.7025 - val_loss: 0.7596 - val_acc: 0.6773\n",
      "Epoch 26/50\n",
      "108800/108800 [==============================] - 4s 37us/sample - loss: 0.6917 - acc: 0.7086 - val_loss: 0.7327 - val_acc: 0.6910\n",
      "Epoch 27/50\n",
      "108800/108800 [==============================] - 4s 38us/sample - loss: 0.6966 - acc: 0.7060 - val_loss: 0.7376 - val_acc: 0.6900\n",
      "Epoch 28/50\n",
      "108800/108800 [==============================] - 4s 37us/sample - loss: 0.6844 - acc: 0.7133 - val_loss: 0.7247 - val_acc: 0.6948\n",
      "Epoch 29/50\n",
      "108800/108800 [==============================] - 4s 36us/sample - loss: 0.6743 - acc: 0.7177 - val_loss: 0.7056 - val_acc: 0.7035\n",
      "Epoch 30/50\n",
      "108800/108800 [==============================] - 4s 37us/sample - loss: 0.6696 - acc: 0.7206 - val_loss: 0.7015 - val_acc: 0.7064\n",
      "Epoch 31/50\n",
      "108800/108800 [==============================] - 4s 36us/sample - loss: 0.6701 - acc: 0.7192 - val_loss: 0.7100 - val_acc: 0.6985\n",
      "Epoch 32/50\n",
      "108800/108800 [==============================] - 4s 36us/sample - loss: 0.6507 - acc: 0.7290 - val_loss: 0.7013 - val_acc: 0.7083\n",
      "Epoch 33/50\n",
      "108800/108800 [==============================] - 4s 36us/sample - loss: 0.6491 - acc: 0.7296 - val_loss: 0.7210 - val_acc: 0.6995\n",
      "Epoch 34/50\n",
      "108800/108800 [==============================] - 4s 36us/sample - loss: 0.6550 - acc: 0.7295 - val_loss: 0.7041 - val_acc: 0.7063\n",
      "Epoch 35/50\n",
      "108800/108800 [==============================] - 4s 36us/sample - loss: 0.6455 - acc: 0.7326 - val_loss: 0.7150 - val_acc: 0.7003\n",
      "Epoch 36/50\n",
      "108800/108800 [==============================] - 4s 36us/sample - loss: 0.6449 - acc: 0.7319 - val_loss: 0.6794 - val_acc: 0.7204\n",
      "Epoch 37/50\n",
      "108800/108800 [==============================] - 4s 36us/sample - loss: 0.6352 - acc: 0.7383 - val_loss: 0.7091 - val_acc: 0.7056\n",
      "Epoch 38/50\n",
      "108800/108800 [==============================] - 4s 36us/sample - loss: 0.6296 - acc: 0.7395 - val_loss: 0.6872 - val_acc: 0.7142\n",
      "Epoch 39/50\n",
      "108800/108800 [==============================] - 4s 36us/sample - loss: 0.6283 - acc: 0.7408 - val_loss: 0.6951 - val_acc: 0.7124\n",
      "Epoch 40/50\n",
      "108800/108800 [==============================] - 4s 36us/sample - loss: 0.6288 - acc: 0.7392 - val_loss: 0.6911 - val_acc: 0.7104\n",
      "Epoch 41/50\n",
      "108800/108800 [==============================] - 4s 36us/sample - loss: 0.6286 - acc: 0.7386 - val_loss: 0.6997 - val_acc: 0.7115\n",
      "Epoch 42/50\n",
      "108800/108800 [==============================] - 4s 36us/sample - loss: 0.6187 - acc: 0.7437 - val_loss: 0.6803 - val_acc: 0.7180\n",
      "Epoch 43/50\n",
      "108800/108800 [==============================] - 4s 36us/sample - loss: 0.6162 - acc: 0.7459 - val_loss: 0.6752 - val_acc: 0.7224\n",
      "Epoch 44/50\n",
      "108800/108800 [==============================] - 4s 36us/sample - loss: 0.6212 - acc: 0.7450 - val_loss: 0.6822 - val_acc: 0.7201\n",
      "Epoch 45/50\n",
      "108800/108800 [==============================] - 4s 36us/sample - loss: 0.6158 - acc: 0.7443 - val_loss: 0.7134 - val_acc: 0.7024\n",
      "Epoch 46/50\n",
      "108800/108800 [==============================] - 4s 36us/sample - loss: 0.6053 - acc: 0.7511 - val_loss: 0.6868 - val_acc: 0.7156\n",
      "Epoch 47/50\n",
      "108800/108800 [==============================] - 4s 37us/sample - loss: 0.6063 - acc: 0.7506 - val_loss: 0.6663 - val_acc: 0.7256\n",
      "Epoch 48/50\n",
      "108800/108800 [==============================] - 4s 37us/sample - loss: 0.6047 - acc: 0.7513 - val_loss: 0.6749 - val_acc: 0.7217\n",
      "Epoch 49/50\n",
      "108800/108800 [==============================] - 4s 37us/sample - loss: 0.5970 - acc: 0.7540 - val_loss: 0.6648 - val_acc: 0.7259\n",
      "Epoch 50/50\n",
      "108800/108800 [==============================] - 4s 36us/sample - loss: 0.5858 - acc: 0.7601 - val_loss: 0.6649 - val_acc: 0.7292\n",
      "27200/27200 [==============================] - 1s 45us/sample - loss: 0.6649 - acc: 0.7292\n"
     ]
    }
   ],
   "source": [
    "for conf in conf_list:\n",
    "    curr_dt = set_curr_time()\n",
    "    tb_callback = tf.keras.callbacks.TensorBoard(log_dir='./logs/{0}_{1}'.format(conf, curr_dt),\n",
    "                                                 histogram_freq=0, write_graph=True)\n",
    "    model = custom_model(conf)\n",
    "    model.fit(x_train, y_train, validation_data=(x_test, y_test), batch_size=256,\n",
    "              epochs=50, callbacks=[tb_callback])\n",
    "    model.evaluate(x_test, y_test)\n",
    "    model.save('../models/{0}_{1}.h5'.format(conf, curr_dt))"
   ]
  },
  {
   "cell_type": "markdown",
   "metadata": {},
   "source": [
    "##### continues training"
   ]
  },
  {
   "cell_type": "code",
   "execution_count": 79,
   "metadata": {},
   "outputs": [],
   "source": [
    "c_model = tf.keras.models.load_model('../models/[32, 512, 0.1]_201953_12_56.h5')"
   ]
  },
  {
   "cell_type": "code",
   "execution_count": 80,
   "metadata": {},
   "outputs": [
    {
     "name": "stdout",
     "output_type": "stream",
     "text": [
      "Train on 108800 samples, validate on 27200 samples\n",
      "Epoch 1/50\n",
      "108800/108800 [==============================] - 4s 38us/sample - loss: 0.9533 - acc: 0.5728 - val_loss: 0.8804 - val_acc: 0.6037\n",
      "Epoch 2/50\n",
      "108800/108800 [==============================] - 4s 35us/sample - loss: 0.8633 - acc: 0.6125 - val_loss: 0.8448 - val_acc: 0.6270\n",
      "Epoch 3/50\n",
      "108800/108800 [==============================] - 4s 35us/sample - loss: 0.8428 - acc: 0.6237 - val_loss: 0.8382 - val_acc: 0.6372\n",
      "Epoch 4/50\n",
      "108800/108800 [==============================] - 4s 36us/sample - loss: 0.8259 - acc: 0.6343 - val_loss: 0.8250 - val_acc: 0.6406\n",
      "Epoch 5/50\n",
      "108800/108800 [==============================] - 4s 36us/sample - loss: 0.8123 - acc: 0.6428 - val_loss: 0.8121 - val_acc: 0.6474\n",
      "Epoch 6/50\n",
      "108800/108800 [==============================] - 4s 36us/sample - loss: 0.8077 - acc: 0.6449 - val_loss: 0.8207 - val_acc: 0.6395\n",
      "Epoch 7/50\n",
      "108800/108800 [==============================] - 4s 36us/sample - loss: 0.7951 - acc: 0.6513 - val_loss: 0.7967 - val_acc: 0.6546\n",
      "Epoch 8/50\n",
      "108800/108800 [==============================] - 4s 37us/sample - loss: 0.7880 - acc: 0.6566 - val_loss: 0.7901 - val_acc: 0.6597\n",
      "Epoch 9/50\n",
      "108800/108800 [==============================] - 4s 38us/sample - loss: 0.7831 - acc: 0.6574 - val_loss: 0.7818 - val_acc: 0.6629\n",
      "Epoch 10/50\n",
      "108800/108800 [==============================] - 4s 40us/sample - loss: 0.7834 - acc: 0.6570 - val_loss: 0.8114 - val_acc: 0.6393\n",
      "Epoch 11/50\n",
      "108800/108800 [==============================] - 4s 40us/sample - loss: 0.7759 - acc: 0.6616 - val_loss: 0.8109 - val_acc: 0.6441\n",
      "Epoch 12/50\n",
      "108800/108800 [==============================] - 4s 39us/sample - loss: 0.7735 - acc: 0.6634 - val_loss: 0.7842 - val_acc: 0.6635\n",
      "Epoch 13/50\n",
      "108800/108800 [==============================] - 4s 38us/sample - loss: 0.7687 - acc: 0.6654 - val_loss: 0.7988 - val_acc: 0.6469\n",
      "Epoch 14/50\n",
      "108800/108800 [==============================] - 4s 38us/sample - loss: 0.7667 - acc: 0.6675 - val_loss: 0.7736 - val_acc: 0.6702\n",
      "Epoch 15/50\n",
      "108800/108800 [==============================] - 4s 38us/sample - loss: 0.7620 - acc: 0.6713 - val_loss: 0.7719 - val_acc: 0.6681\n",
      "Epoch 16/50\n",
      "108800/108800 [==============================] - 4s 38us/sample - loss: 0.7605 - acc: 0.6715 - val_loss: 0.7724 - val_acc: 0.6681\n",
      "Epoch 17/50\n",
      "108800/108800 [==============================] - 4s 38us/sample - loss: 0.7571 - acc: 0.6725 - val_loss: 0.7759 - val_acc: 0.6672\n",
      "Epoch 18/50\n",
      "108800/108800 [==============================] - 4s 38us/sample - loss: 0.7527 - acc: 0.6744 - val_loss: 0.7653 - val_acc: 0.6707\n",
      "Epoch 19/50\n",
      "108800/108800 [==============================] - 4s 39us/sample - loss: 0.7520 - acc: 0.6736 - val_loss: 0.7712 - val_acc: 0.6673\n",
      "Epoch 20/50\n",
      "108800/108800 [==============================] - 4s 39us/sample - loss: 0.7497 - acc: 0.6755 - val_loss: 0.7593 - val_acc: 0.6749\n",
      "Epoch 21/50\n",
      "108800/108800 [==============================] - 4s 41us/sample - loss: 0.7469 - acc: 0.6775 - val_loss: 0.7533 - val_acc: 0.6785\n",
      "Epoch 22/50\n",
      "108800/108800 [==============================] - 4s 37us/sample - loss: 0.7466 - acc: 0.6771 - val_loss: 0.7613 - val_acc: 0.6717\n",
      "Epoch 23/50\n",
      "108800/108800 [==============================] - 4s 37us/sample - loss: 0.7399 - acc: 0.6807 - val_loss: 0.7572 - val_acc: 0.6757\n",
      "Epoch 24/50\n",
      "108800/108800 [==============================] - 4s 37us/sample - loss: 0.7435 - acc: 0.6790 - val_loss: 0.7628 - val_acc: 0.6739\n",
      "Epoch 25/50\n",
      "108800/108800 [==============================] - 4s 36us/sample - loss: 0.7370 - acc: 0.6821 - val_loss: 0.7538 - val_acc: 0.6794\n",
      "Epoch 26/50\n",
      "108800/108800 [==============================] - 4s 36us/sample - loss: 0.7389 - acc: 0.6811 - val_loss: 0.7552 - val_acc: 0.6761\n",
      "Epoch 27/50\n",
      "108800/108800 [==============================] - 4s 40us/sample - loss: 0.7327 - acc: 0.6840 - val_loss: 0.7598 - val_acc: 0.6718\n",
      "Epoch 28/50\n",
      "108800/108800 [==============================] - 5s 42us/sample - loss: 0.7339 - acc: 0.6837 - val_loss: 0.7482 - val_acc: 0.6826\n",
      "Epoch 29/50\n",
      "108800/108800 [==============================] - 4s 38us/sample - loss: 0.7314 - acc: 0.6853 - val_loss: 0.7791 - val_acc: 0.6643\n",
      "Epoch 30/50\n",
      "108800/108800 [==============================] - 4s 38us/sample - loss: 0.7272 - acc: 0.6871 - val_loss: 0.7527 - val_acc: 0.6800\n",
      "Epoch 31/50\n",
      "108800/108800 [==============================] - 4s 39us/sample - loss: 0.7302 - acc: 0.6842 - val_loss: 0.7570 - val_acc: 0.6764\n",
      "Epoch 32/50\n",
      "108800/108800 [==============================] - 4s 40us/sample - loss: 0.7274 - acc: 0.6870 - val_loss: 0.7723 - val_acc: 0.6673\n",
      "Epoch 33/50\n",
      "108800/108800 [==============================] - 4s 36us/sample - loss: 0.7285 - acc: 0.6873 - val_loss: 0.7525 - val_acc: 0.6787\n",
      "Epoch 34/50\n",
      "108800/108800 [==============================] - 4s 38us/sample - loss: 0.7225 - acc: 0.6901 - val_loss: 0.7474 - val_acc: 0.6800\n",
      "Epoch 35/50\n",
      "108800/108800 [==============================] - 4s 37us/sample - loss: 0.7215 - acc: 0.6894 - val_loss: 0.7562 - val_acc: 0.6786\n",
      "Epoch 36/50\n",
      "108800/108800 [==============================] - 4s 37us/sample - loss: 0.7189 - acc: 0.6902 - val_loss: 0.7636 - val_acc: 0.6690\n",
      "Epoch 37/50\n",
      "108800/108800 [==============================] - 4s 36us/sample - loss: 0.7215 - acc: 0.6898 - val_loss: 0.7663 - val_acc: 0.6725\n",
      "Epoch 38/50\n",
      "108800/108800 [==============================] - 4s 40us/sample - loss: 0.7191 - acc: 0.6907 - val_loss: 0.7460 - val_acc: 0.6797\n",
      "Epoch 39/50\n",
      "108800/108800 [==============================] - 5s 44us/sample - loss: 0.7152 - acc: 0.6915 - val_loss: 0.7463 - val_acc: 0.6796\n",
      "Epoch 40/50\n",
      "108800/108800 [==============================] - 5s 50us/sample - loss: 0.7145 - acc: 0.6927 - val_loss: 0.7654 - val_acc: 0.6740\n",
      "Epoch 41/50\n",
      "108800/108800 [==============================] - 4s 39us/sample - loss: 0.7165 - acc: 0.6909 - val_loss: 0.7397 - val_acc: 0.6865\n",
      "Epoch 42/50\n",
      "108800/108800 [==============================] - 4s 38us/sample - loss: 0.7144 - acc: 0.6930 - val_loss: 0.7412 - val_acc: 0.6842\n",
      "Epoch 43/50\n",
      "108800/108800 [==============================] - 4s 39us/sample - loss: 0.7135 - acc: 0.6926 - val_loss: 0.7520 - val_acc: 0.6783\n",
      "Epoch 44/50\n",
      "108800/108800 [==============================] - 4s 39us/sample - loss: 0.7111 - acc: 0.6950 - val_loss: 0.7364 - val_acc: 0.6866\n",
      "Epoch 45/50\n",
      "108800/108800 [==============================] - 4s 39us/sample - loss: 0.7095 - acc: 0.6947 - val_loss: 0.7483 - val_acc: 0.6853\n",
      "Epoch 46/50\n",
      "108800/108800 [==============================] - 4s 37us/sample - loss: 0.7090 - acc: 0.6946 - val_loss: 0.7447 - val_acc: 0.6838\n",
      "Epoch 47/50\n",
      "108800/108800 [==============================] - 4s 39us/sample - loss: 0.7078 - acc: 0.6953 - val_loss: 0.7563 - val_acc: 0.6780\n",
      "Epoch 48/50\n",
      "108800/108800 [==============================] - 4s 37us/sample - loss: 0.7116 - acc: 0.6932 - val_loss: 0.7551 - val_acc: 0.6820\n",
      "Epoch 49/50\n",
      "108800/108800 [==============================] - 4s 41us/sample - loss: 0.7105 - acc: 0.6956 - val_loss: 0.7501 - val_acc: 0.6801\n",
      "Epoch 50/50\n",
      "108800/108800 [==============================] - 4s 38us/sample - loss: 0.7052 - acc: 0.6981 - val_loss: 0.7825 - val_acc: 0.6661\n"
     ]
    },
    {
     "data": {
      "text/plain": [
       "<tensorflow.python.keras.callbacks.History at 0x19ce83e10>"
      ]
     },
     "execution_count": 80,
     "metadata": {},
     "output_type": "execute_result"
    }
   ],
   "source": [
    "c_model.fit(x_train, y_train, validation_data=(x_test, y_test), batch_size=256,\n",
    "              epochs=50, callbacks=[tb_callback])"
   ]
  },
  {
   "cell_type": "code",
   "execution_count": 81,
   "metadata": {},
   "outputs": [
    {
     "name": "stdout",
     "output_type": "stream",
     "text": [
      "27200/27200 [==============================] - 1s 46us/sample - loss: 0.7825 - acc: 0.6661\n"
     ]
    },
    {
     "data": {
      "text/plain": [
       "[0.7825135770615409, 0.66610295]"
      ]
     },
     "execution_count": 81,
     "metadata": {},
     "output_type": "execute_result"
    }
   ],
   "source": [
    "c_model.evaluate(x_test, y_test)"
   ]
  },
  {
   "cell_type": "code",
   "execution_count": 84,
   "metadata": {},
   "outputs": [
    {
     "name": "stdout",
     "output_type": "stream",
     "text": [
      "../models/[32, 512, 0.2]_201953_12_51.h5\n",
      "27200/27200 [==============================] - 1s 54us/sample - loss: 0.7060 - acc: 0.7012\n",
      "../models/[32, 256, 0.2]_201953_12_54.h5\n",
      "27200/27200 [==============================] - 1s 44us/sample - loss: 0.7264 - acc: 0.6867\n",
      "../models/[32, 512, 0.1]_201953_12_56.h5\n",
      "27200/27200 [==============================] - 2s 59us/sample - loss: 0.6649 - acc: 0.7292\n",
      "../models/[32, 512, 0.2]_201953_12_46.h5\n",
      "27200/27200 [==============================] - 2s 61us/sample - loss: 0.7218 - acc: 0.6947\n"
     ]
    }
   ],
   "source": [
    "for model_path in glob.glob('../models/*.h5'):\n",
    "    print(model_path)\n",
    "    best_loaded = tf.keras.models.load_model(model_path)\n",
    "    best_loaded.evaluate(x_test, y_test)"
   ]
  },
  {
   "cell_type": "code",
   "execution_count": 85,
   "metadata": {},
   "outputs": [],
   "source": [
    "best_loaded = tf.keras.models.load_model('../models/[32, 512, 0.1]_201953_12_56.h5')\n",
    "test_predictions = best_loaded.predict(x_test)"
   ]
  },
  {
   "cell_type": "code",
   "execution_count": 87,
   "metadata": {},
   "outputs": [
    {
     "data": {
      "text/plain": [
       "array([[1217,    0,    0,    0,    0,    0,    0],\n",
       "       [   0, 3174,  309,  879,    0,  645,    0],\n",
       "       [   0,  177, 5386,  443,    0,  630,    0],\n",
       "       [   0,  569,  666, 4133,    0, 1290,    0],\n",
       "       [   0,    0,    0,    0, 1153,    0,    0],\n",
       "       [   0,  289,  546,  924,    0, 4137,    0],\n",
       "       [   0,    0,    0,    0,    0,    0,  633]])"
      ]
     },
     "execution_count": 87,
     "metadata": {},
     "output_type": "execute_result"
    }
   ],
   "source": [
    "from sklearn.metrics import confusion_matrix\n",
    "confusion = confusion_matrix(y_test, np.argmax(test_predictions,axis=1))\n",
    "confusion"
   ]
  },
  {
   "cell_type": "code",
   "execution_count": 104,
   "metadata": {},
   "outputs": [
    {
     "data": {
      "text/plain": [
       "<matplotlib.axes._subplots.AxesSubplot at 0x1a6051240>"
      ]
     },
     "execution_count": 104,
     "metadata": {},
     "output_type": "execute_result"
    },
    {
     "data": {
      "image/png": "[encoded data removed]",
      "text/plain": [
       "<Figure size 864x648 with 2 Axes>"
      ]
     },
     "metadata": {},
     "output_type": "display_data"
    }
   ],
   "source": [
    "import seaborn as sn\n",
    "import pandas as pd\n",
    "import matplotlib.pyplot as plt\n",
    "\n",
    "df_cm = pd.DataFrame(confusion, labels, labels)\n",
    "plt.figure(figsize = (12, 9))\n",
    "sn.set(font_scale=1.2)\n",
    "sn.heatmap(df_cm, annot=True, fmt='.5g', annot_kws={\"size\": 12})"
   ]
  },
  {
   "cell_type": "code",
   "execution_count": 105,
   "metadata": {},
   "outputs": [
    {
     "data": {
      "text/html": [
       "<div>\n",
       "<style scoped>\n",
       "    .dataframe tbody tr th:only-of-type {\n",
       "        vertical-align: middle;\n",
       "    }\n",
       "\n",
       "    .dataframe tbody tr th {\n",
       "        vertical-align: top;\n",
       "    }\n",
       "\n",
       "    .dataframe thead th {\n",
       "        text-align: right;\n",
       "    }\n",
       "</style>\n",
       "<table border=\"1\" class=\"dataframe\">\n",
       "  <thead>\n",
       "    <tr style=\"text-align: right;\">\n",
       "      <th></th>\n",
       "      <th>yafim</th>\n",
       "      <th>zeev</th>\n",
       "      <th>or</th>\n",
       "      <th>ron</th>\n",
       "      <th>sergey</th>\n",
       "      <th>aviya</th>\n",
       "      <th>elnatan</th>\n",
       "    </tr>\n",
       "  </thead>\n",
       "  <tbody>\n",
       "    <tr>\n",
       "      <th>yafim</th>\n",
       "      <td>1217</td>\n",
       "      <td>0</td>\n",
       "      <td>0</td>\n",
       "      <td>0</td>\n",
       "      <td>0</td>\n",
       "      <td>0</td>\n",
       "      <td>0</td>\n",
       "    </tr>\n",
       "    <tr>\n",
       "      <th>zeev</th>\n",
       "      <td>0</td>\n",
       "      <td>3174</td>\n",
       "      <td>309</td>\n",
       "      <td>879</td>\n",
       "      <td>0</td>\n",
       "      <td>645</td>\n",
       "      <td>0</td>\n",
       "    </tr>\n",
       "    <tr>\n",
       "      <th>or</th>\n",
       "      <td>0</td>\n",
       "      <td>177</td>\n",
       "      <td>5386</td>\n",
       "      <td>443</td>\n",
       "      <td>0</td>\n",
       "      <td>630</td>\n",
       "      <td>0</td>\n",
       "    </tr>\n",
       "    <tr>\n",
       "      <th>ron</th>\n",
       "      <td>0</td>\n",
       "      <td>569</td>\n",
       "      <td>666</td>\n",
       "      <td>4133</td>\n",
       "      <td>0</td>\n",
       "      <td>1290</td>\n",
       "      <td>0</td>\n",
       "    </tr>\n",
       "    <tr>\n",
       "      <th>sergey</th>\n",
       "      <td>0</td>\n",
       "      <td>0</td>\n",
       "      <td>0</td>\n",
       "      <td>0</td>\n",
       "      <td>1153</td>\n",
       "      <td>0</td>\n",
       "      <td>0</td>\n",
       "    </tr>\n",
       "    <tr>\n",
       "      <th>aviya</th>\n",
       "      <td>0</td>\n",
       "      <td>289</td>\n",
       "      <td>546</td>\n",
       "      <td>924</td>\n",
       "      <td>0</td>\n",
       "      <td>4137</td>\n",
       "      <td>0</td>\n",
       "    </tr>\n",
       "    <tr>\n",
       "      <th>elnatan</th>\n",
       "      <td>0</td>\n",
       "      <td>0</td>\n",
       "      <td>0</td>\n",
       "      <td>0</td>\n",
       "      <td>0</td>\n",
       "      <td>0</td>\n",
       "      <td>633</td>\n",
       "    </tr>\n",
       "  </tbody>\n",
       "</table>\n",
       "</div>"
      ],
      "text/plain": [
       "         yafim  zeev    or   ron  sergey  aviya  elnatan\n",
       "yafim     1217     0     0     0       0      0        0\n",
       "zeev         0  3174   309   879       0    645        0\n",
       "or           0   177  5386   443       0    630        0\n",
       "ron          0   569   666  4133       0   1290        0\n",
       "sergey       0     0     0     0    1153      0        0\n",
       "aviya        0   289   546   924       0   4137        0\n",
       "elnatan      0     0     0     0       0      0      633"
      ]
     },
     "execution_count": 105,
     "metadata": {},
     "output_type": "execute_result"
    }
   ],
   "source": [
    "df_cm"
   ]
  },
  {
   "cell_type": "code",
   "execution_count": null,
   "metadata": {},
   "outputs": [],
   "source": []
  }
 ],
 "metadata": {
  "kernelspec": {
   "display_name": "Python 3",
   "language": "python",
   "name": "python3"
  },
  "language_info": {
   "codemirror_mode": {
    "name": "ipython",
    "version": 3
   },
   "file_extension": ".py",
   "mimetype": "text/x-python",
   "name": "python",
   "nbconvert_exporter": "python",
   "pygments_lexer": "ipython3",
   "version": "3.7.3"
  }
 },
 "nbformat": 4,
 "nbformat_minor": 2
}
