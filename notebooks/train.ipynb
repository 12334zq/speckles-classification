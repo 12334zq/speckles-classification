{
 "cells": [
  {
   "cell_type": "code",
   "execution_count": 113,
   "metadata": {},
   "outputs": [],
   "source": [
    "from sklearn.model_selection import train_test_split\n",
    "import matplotlib.pyplot as plt\n",
    "import tensorflow as tf\n",
    "from tqdm import tqdm\n",
    "import numpy as np\n",
    "import datetime\n",
    "import glob\n",
    "import cv2\n",
    "import os"
   ]
  },
  {
   "cell_type": "markdown",
   "metadata": {},
   "source": [
    "### Our data"
   ]
  },
  {
   "cell_type": "markdown",
   "metadata": {},
   "source": [
    "##### Load data"
   ]
  },
  {
   "cell_type": "code",
   "execution_count": 146,
   "metadata": {},
   "outputs": [],
   "source": [
    "dates = ['24032019', '17042019', '01052019']\n",
    "labels = ['yafim', 'zeev', 'or', 'ron', 'sergey', 'aviya', 'elnatan', 'felix']"
   ]
  },
  {
   "cell_type": "code",
   "execution_count": 176,
   "metadata": {},
   "outputs": [],
   "source": [
    "x_data = []\n",
    "y_data = []"
   ]
  },
  {
   "cell_type": "code",
   "execution_count": 178,
   "metadata": {},
   "outputs": [],
   "source": [
    "def prep_data(dates, labels, x_data, y_data):\n",
    "    for d in dates:\n",
    "        for i, l in enumerate(labels):\n",
    "            for f in tqdm(glob.glob('../data/frames/{0}/{1}/32/*.png'.format(d, l))):\n",
    "                x_data.append(cv2.imread(f, cv2.IMREAD_GRAYSCALE))\n",
    "                y_data.append(i)                \n",
    "    \n",
    "    x_data = np.asarray(x_data)\n",
    "    y_data = np.asarray(y_data)\n",
    "    \n",
    "    x_train, x_test, y_train, y_test = train_test_split(x_data, y_data, test_size=0.2)\n",
    "    x_train, x_test = x_train / 255.0, x_test / 255.0\n",
    "    return x_train, x_test, y_train, y_test"
   ]
  },
  {
   "cell_type": "code",
   "execution_count": 174,
   "metadata": {},
   "outputs": [],
   "source": [
    "def show_sample(idx):\n",
    "    plt.imshow(x_data[idx])\n",
    "    plt.show()"
   ]
  },
  {
   "cell_type": "code",
   "execution_count": 33,
   "metadata": {},
   "outputs": [
    {
     "data": {
      "text/plain": [
       "array([[   0, 1217],\n",
       "       [   1, 5007],\n",
       "       [   2, 6636],\n",
       "       [   3, 6658],\n",
       "       [   4, 1153],\n",
       "       [   5, 5896],\n",
       "       [   6,  633]])"
      ]
     },
     "execution_count": 33,
     "metadata": {},
     "output_type": "execute_result"
    }
   ],
   "source": [
    "unique, counts = np.unique(y_test, return_counts=True)\n",
    "np.asarray((unique, counts)).T"
   ]
  },
  {
   "cell_type": "code",
   "execution_count": 53,
   "metadata": {},
   "outputs": [],
   "source": [
    "model = tf.keras.models.Sequential([\n",
    "    tf.keras.layers.Flatten(input_shape=(32, 32)),\n",
    "    tf.keras.layers.Dense(512, activation=tf.nn.relu),\n",
    "    tf.keras.layers.Dropout(0.2),\n",
    "    tf.keras.layers.Dense(len(labels), activation=tf.nn.softmax)\n",
    "])"
   ]
  },
  {
   "cell_type": "code",
   "execution_count": 59,
   "metadata": {},
   "outputs": [],
   "source": [
    "model.compile(optimizer='adam',\n",
    "              loss='sparse_categorical_crossentropy',\n",
    "              metrics=['accuracy'])"
   ]
  },
  {
   "cell_type": "code",
   "execution_count": 60,
   "metadata": {},
   "outputs": [
    {
     "name": "stdout",
     "output_type": "stream",
     "text": [
      "_________________________________________________________________\n",
      "Layer (type)                 Output Shape              Param #   \n",
      "=================================================================\n",
      "flatten_5 (Flatten)          (None, 1024)              0         \n",
      "_________________________________________________________________\n",
      "dense_18 (Dense)             (None, 512)               524800    \n",
      "_________________________________________________________________\n",
      "dropout_5 (Dropout)          (None, 512)               0         \n",
      "_________________________________________________________________\n",
      "dense_19 (Dense)             (None, 7)                 3591      \n",
      "=================================================================\n",
      "Total params: 528,391\n",
      "Trainable params: 528,391\n",
      "Non-trainable params: 0\n",
      "_________________________________________________________________\n"
     ]
    }
   ],
   "source": [
    "model.summary()"
   ]
  },
  {
   "cell_type": "code",
   "execution_count": 69,
   "metadata": {},
   "outputs": [],
   "source": [
    "def set_curr_time():\n",
    "    dt = datetime.datetime.now()\n",
    "    curr_dt = '{0}{1}{2}_{3}_{4}'.format(datetime.datetime.now().year, datetime.datetime.now().month,\n",
    "                                       datetime.datetime.now().day, datetime.datetime.now().hour,\n",
    "                                      datetime.datetime.now().minute)\n",
    "    return curr_dt"
   ]
  },
  {
   "cell_type": "code",
   "execution_count": 57,
   "metadata": {},
   "outputs": [],
   "source": [
    "tb_callback = tf.keras.callbacks.TensorBoard(log_dir='./logs/{0}'.format(curr_dt), histogram_freq=0, write_graph=True, write_images=True)"
   ]
  },
  {
   "cell_type": "code",
   "execution_count": 58,
   "metadata": {},
   "outputs": [
    {
     "ename": "ValueError",
     "evalue": "You are passing a target array of shape (108800, 1) while using as loss `categorical_crossentropy`. `categorical_crossentropy` expects targets to be binary matrices (1s and 0s) of shape (samples, classes). If your targets are integer classes, you can convert them to the expected format via:\n```\nfrom keras.utils import to_categorical\ny_binary = to_categorical(y_int)\n```\n\nAlternatively, you can use the loss function `sparse_categorical_crossentropy` instead, which does expect integer targets.",
     "output_type": "error",
     "traceback": [
      "\u001b[0;31m---------------------------------------------------------------------------\u001b[0m",
      "\u001b[0;31mValueError\u001b[0m                                Traceback (most recent call last)",
      "\u001b[0;32m<ipython-input-58-9ec12f1cdbc3>\u001b[0m in \u001b[0;36m<module>\u001b[0;34m\u001b[0m\n\u001b[0;32m----> 1\u001b[0;31m \u001b[0mmodel\u001b[0m\u001b[0;34m.\u001b[0m\u001b[0mfit\u001b[0m\u001b[0;34m(\u001b[0m\u001b[0mx_train\u001b[0m\u001b[0;34m,\u001b[0m \u001b[0my_train\u001b[0m\u001b[0;34m,\u001b[0m \u001b[0mvalidation_data\u001b[0m\u001b[0;34m=\u001b[0m\u001b[0;34m(\u001b[0m\u001b[0mx_test\u001b[0m\u001b[0;34m,\u001b[0m \u001b[0my_test\u001b[0m\u001b[0;34m)\u001b[0m\u001b[0;34m,\u001b[0m \u001b[0mbatch_size\u001b[0m\u001b[0;34m=\u001b[0m\u001b[0;36m256\u001b[0m\u001b[0;34m,\u001b[0m \u001b[0mepochs\u001b[0m\u001b[0;34m=\u001b[0m\u001b[0;36m50\u001b[0m\u001b[0;34m,\u001b[0m \u001b[0mcallbacks\u001b[0m\u001b[0;34m=\u001b[0m\u001b[0;34m[\u001b[0m\u001b[0mtb_callback\u001b[0m\u001b[0;34m]\u001b[0m\u001b[0;34m)\u001b[0m\u001b[0;34m\u001b[0m\u001b[0;34m\u001b[0m\u001b[0m\n\u001b[0m",
      "\u001b[0;32m~/.virtualenvs/speckles-ml/lib/python3.7/site-packages/tensorflow/python/keras/engine/training.py\u001b[0m in \u001b[0;36mfit\u001b[0;34m(self, x, y, batch_size, epochs, verbose, callbacks, validation_split, validation_data, shuffle, class_weight, sample_weight, initial_epoch, steps_per_epoch, validation_steps, max_queue_size, workers, use_multiprocessing, **kwargs)\u001b[0m\n\u001b[1;32m    774\u001b[0m         \u001b[0msteps\u001b[0m\u001b[0;34m=\u001b[0m\u001b[0msteps_per_epoch\u001b[0m\u001b[0;34m,\u001b[0m\u001b[0;34m\u001b[0m\u001b[0;34m\u001b[0m\u001b[0m\n\u001b[1;32m    775\u001b[0m         \u001b[0mvalidation_split\u001b[0m\u001b[0;34m=\u001b[0m\u001b[0mvalidation_split\u001b[0m\u001b[0;34m,\u001b[0m\u001b[0;34m\u001b[0m\u001b[0;34m\u001b[0m\u001b[0m\n\u001b[0;32m--> 776\u001b[0;31m         shuffle=shuffle)\n\u001b[0m\u001b[1;32m    777\u001b[0m \u001b[0;34m\u001b[0m\u001b[0m\n\u001b[1;32m    778\u001b[0m     \u001b[0;31m# Prepare validation data.\u001b[0m\u001b[0;34m\u001b[0m\u001b[0;34m\u001b[0m\u001b[0;34m\u001b[0m\u001b[0m\n",
      "\u001b[0;32m~/.virtualenvs/speckles-ml/lib/python3.7/site-packages/tensorflow/python/keras/engine/training.py\u001b[0m in \u001b[0;36m_standardize_user_data\u001b[0;34m(self, x, y, sample_weight, class_weight, batch_size, check_steps, steps_name, steps, validation_split, shuffle)\u001b[0m\n\u001b[1;32m   2438\u001b[0m           \u001b[0;31m# Additional checks to avoid users mistakenly using improper loss fns.\u001b[0m\u001b[0;34m\u001b[0m\u001b[0;34m\u001b[0m\u001b[0;34m\u001b[0m\u001b[0m\n\u001b[1;32m   2439\u001b[0m           training_utils.check_loss_and_target_compatibility(\n\u001b[0;32m-> 2440\u001b[0;31m               y, self._feed_loss_fns, feed_output_shapes)\n\u001b[0m\u001b[1;32m   2441\u001b[0m     \u001b[0;32melse\u001b[0m\u001b[0;34m:\u001b[0m\u001b[0;34m\u001b[0m\u001b[0;34m\u001b[0m\u001b[0m\n\u001b[1;32m   2442\u001b[0m       \u001b[0my\u001b[0m \u001b[0;34m=\u001b[0m \u001b[0;34m[\u001b[0m\u001b[0;34m]\u001b[0m\u001b[0;34m\u001b[0m\u001b[0;34m\u001b[0m\u001b[0m\n",
      "\u001b[0;32m~/.virtualenvs/speckles-ml/lib/python3.7/site-packages/tensorflow/python/keras/engine/training_utils.py\u001b[0m in \u001b[0;36mcheck_loss_and_target_compatibility\u001b[0;34m(targets, loss_fns, output_shapes)\u001b[0m\n\u001b[1;32m    491\u001b[0m       \u001b[0;32mif\u001b[0m \u001b[0my\u001b[0m\u001b[0;34m.\u001b[0m\u001b[0mshape\u001b[0m\u001b[0;34m[\u001b[0m\u001b[0;34m-\u001b[0m\u001b[0;36m1\u001b[0m\u001b[0;34m]\u001b[0m \u001b[0;34m==\u001b[0m \u001b[0;36m1\u001b[0m\u001b[0;34m:\u001b[0m\u001b[0;34m\u001b[0m\u001b[0;34m\u001b[0m\u001b[0m\n\u001b[1;32m    492\u001b[0m         raise ValueError('You are passing a target array of shape ' + str(\n\u001b[0;32m--> 493\u001b[0;31m             y.shape) + ' while using as loss `categorical_crossentropy`. '\n\u001b[0m\u001b[1;32m    494\u001b[0m                          \u001b[0;34m'`categorical_crossentropy` expects '\u001b[0m\u001b[0;34m\u001b[0m\u001b[0;34m\u001b[0m\u001b[0m\n\u001b[1;32m    495\u001b[0m                          \u001b[0;34m'targets to be binary matrices (1s and 0s) '\u001b[0m\u001b[0;34m\u001b[0m\u001b[0;34m\u001b[0m\u001b[0m\n",
      "\u001b[0;31mValueError\u001b[0m: You are passing a target array of shape (108800, 1) while using as loss `categorical_crossentropy`. `categorical_crossentropy` expects targets to be binary matrices (1s and 0s) of shape (samples, classes). If your targets are integer classes, you can convert them to the expected format via:\n```\nfrom keras.utils import to_categorical\ny_binary = to_categorical(y_int)\n```\n\nAlternatively, you can use the loss function `sparse_categorical_crossentropy` instead, which does expect integer targets."
     ]
    }
   ],
   "source": [
    "model.fit(x_train, y_train, validation_data=(x_test, y_test), batch_size=256, epochs=50, callbacks=[tb_callback])"
   ]
  },
  {
   "cell_type": "code",
   "execution_count": 62,
   "metadata": {},
   "outputs": [
    {
     "name": "stdout",
     "output_type": "stream",
     "text": [
      "27200/27200 [==============================] - 1s 45us/sample - loss: 2.1906 - acc: 0.0249\n"
     ]
    },
    {
     "data": {
      "text/plain": [
       "[2.1906236864538755, 0.02492647]"
      ]
     },
     "execution_count": 62,
     "metadata": {},
     "output_type": "execute_result"
    }
   ],
   "source": [
    "model.evaluate(x_test, y_test)"
   ]
  },
  {
   "cell_type": "code",
   "execution_count": 126,
   "metadata": {},
   "outputs": [],
   "source": [
    "conf_list = [\n",
    "    [32, 512, 0.2],\n",
    "    [32, 256, 0.2],\n",
    "    [32, 512, 0.1],\n",
    "]"
   ]
  },
  {
   "cell_type": "code",
   "execution_count": 189,
   "metadata": {},
   "outputs": [],
   "source": [
    "def custom_model(config, model_weights=None):\n",
    "    model = tf.keras.models.Sequential([\n",
    "        tf.keras.layers.Flatten(input_shape=(conf[0], conf[0])),\n",
    "        tf.keras.layers.Dense(conf[1], activation=tf.nn.relu),\n",
    "        tf.keras.layers.Dropout(conf[2]),\n",
    "        tf.keras.layers.Dense(len(labels), activation=tf.nn.softmax)\n",
    "    ])\n",
    "    if model_weights is not None:\n",
    "        print('loading pre-trained model')\n",
    "        model.load_weights(model_weights, by_name=True)\n",
    "    model.compile(optimizer='adam',\n",
    "                  loss='sparse_categorical_crossentropy',\n",
    "                  metrics=['accuracy'])\n",
    "    return model"
   ]
  },
  {
   "cell_type": "code",
   "execution_count": 187,
   "metadata": {},
   "outputs": [],
   "source": [
    "def run_custom_training(conf_list, x_train, y_train, x_test, y_test, model_path_prefix=None, model_weights=None):\n",
    "    for conf in conf_list:\n",
    "        curr_dt = set_curr_time()\n",
    "        tb_callback = tf.keras.callbacks.TensorBoard(log_dir='./logs/{0}_{1}'.format(conf, curr_dt),\n",
    "                                                     histogram_freq=0, write_graph=True)\n",
    "        model = custom_model(conf, model_weights)\n",
    "        model.fit(x_train, y_train, validation_data=(x_test, y_test), batch_size=256,\n",
    "                  epochs=50, callbacks=[tb_callback])\n",
    "        model.evaluate(x_test, y_test)\n",
    "        if model_path_prefix is None:\n",
    "            model.save('../models/{0}_{1}.h5'.format(conf, curr_dt))\n",
    "        else:\n",
    "            model.save('../models/{0}_{1}_{2}.h5'.format(model_path_prefix, conf, curr_dt))"
   ]
  },
  {
   "cell_type": "markdown",
   "metadata": {},
   "source": [
    "##### continues training"
   ]
  },
  {
   "cell_type": "code",
   "execution_count": 79,
   "metadata": {},
   "outputs": [],
   "source": [
    "c_model = tf.keras.models.load_model('../models/[32, 512, 0.1]_201953_12_56.h5')"
   ]
  },
  {
   "cell_type": "code",
   "execution_count": 80,
   "metadata": {},
   "outputs": [
    {
     "name": "stdout",
     "output_type": "stream",
     "text": [
      "Train on 108800 samples, validate on 27200 samples\n",
      "Epoch 1/50\n",
      "108800/108800 [==============================] - 4s 38us/sample - loss: 0.9533 - acc: 0.5728 - val_loss: 0.8804 - val_acc: 0.6037\n",
      "Epoch 2/50\n",
      "108800/108800 [==============================] - 4s 35us/sample - loss: 0.8633 - acc: 0.6125 - val_loss: 0.8448 - val_acc: 0.6270\n",
      "Epoch 3/50\n",
      "108800/108800 [==============================] - 4s 35us/sample - loss: 0.8428 - acc: 0.6237 - val_loss: 0.8382 - val_acc: 0.6372\n",
      "Epoch 4/50\n",
      "108800/108800 [==============================] - 4s 36us/sample - loss: 0.8259 - acc: 0.6343 - val_loss: 0.8250 - val_acc: 0.6406\n",
      "Epoch 5/50\n",
      "108800/108800 [==============================] - 4s 36us/sample - loss: 0.8123 - acc: 0.6428 - val_loss: 0.8121 - val_acc: 0.6474\n",
      "Epoch 6/50\n",
      "108800/108800 [==============================] - 4s 36us/sample - loss: 0.8077 - acc: 0.6449 - val_loss: 0.8207 - val_acc: 0.6395\n",
      "Epoch 7/50\n",
      "108800/108800 [==============================] - 4s 36us/sample - loss: 0.7951 - acc: 0.6513 - val_loss: 0.7967 - val_acc: 0.6546\n",
      "Epoch 8/50\n",
      "108800/108800 [==============================] - 4s 37us/sample - loss: 0.7880 - acc: 0.6566 - val_loss: 0.7901 - val_acc: 0.6597\n",
      "Epoch 9/50\n",
      "108800/108800 [==============================] - 4s 38us/sample - loss: 0.7831 - acc: 0.6574 - val_loss: 0.7818 - val_acc: 0.6629\n",
      "Epoch 10/50\n",
      "108800/108800 [==============================] - 4s 40us/sample - loss: 0.7834 - acc: 0.6570 - val_loss: 0.8114 - val_acc: 0.6393\n",
      "Epoch 11/50\n",
      "108800/108800 [==============================] - 4s 40us/sample - loss: 0.7759 - acc: 0.6616 - val_loss: 0.8109 - val_acc: 0.6441\n",
      "Epoch 12/50\n",
      "108800/108800 [==============================] - 4s 39us/sample - loss: 0.7735 - acc: 0.6634 - val_loss: 0.7842 - val_acc: 0.6635\n",
      "Epoch 13/50\n",
      "108800/108800 [==============================] - 4s 38us/sample - loss: 0.7687 - acc: 0.6654 - val_loss: 0.7988 - val_acc: 0.6469\n",
      "Epoch 14/50\n",
      "108800/108800 [==============================] - 4s 38us/sample - loss: 0.7667 - acc: 0.6675 - val_loss: 0.7736 - val_acc: 0.6702\n",
      "Epoch 15/50\n",
      "108800/108800 [==============================] - 4s 38us/sample - loss: 0.7620 - acc: 0.6713 - val_loss: 0.7719 - val_acc: 0.6681\n",
      "Epoch 16/50\n",
      "108800/108800 [==============================] - 4s 38us/sample - loss: 0.7605 - acc: 0.6715 - val_loss: 0.7724 - val_acc: 0.6681\n",
      "Epoch 17/50\n",
      "108800/108800 [==============================] - 4s 38us/sample - loss: 0.7571 - acc: 0.6725 - val_loss: 0.7759 - val_acc: 0.6672\n",
      "Epoch 18/50\n",
      "108800/108800 [==============================] - 4s 38us/sample - loss: 0.7527 - acc: 0.6744 - val_loss: 0.7653 - val_acc: 0.6707\n",
      "Epoch 19/50\n",
      "108800/108800 [==============================] - 4s 39us/sample - loss: 0.7520 - acc: 0.6736 - val_loss: 0.7712 - val_acc: 0.6673\n",
      "Epoch 20/50\n",
      "108800/108800 [==============================] - 4s 39us/sample - loss: 0.7497 - acc: 0.6755 - val_loss: 0.7593 - val_acc: 0.6749\n",
      "Epoch 21/50\n",
      "108800/108800 [==============================] - 4s 41us/sample - loss: 0.7469 - acc: 0.6775 - val_loss: 0.7533 - val_acc: 0.6785\n",
      "Epoch 22/50\n",
      "108800/108800 [==============================] - 4s 37us/sample - loss: 0.7466 - acc: 0.6771 - val_loss: 0.7613 - val_acc: 0.6717\n",
      "Epoch 23/50\n",
      "108800/108800 [==============================] - 4s 37us/sample - loss: 0.7399 - acc: 0.6807 - val_loss: 0.7572 - val_acc: 0.6757\n",
      "Epoch 24/50\n",
      "108800/108800 [==============================] - 4s 37us/sample - loss: 0.7435 - acc: 0.6790 - val_loss: 0.7628 - val_acc: 0.6739\n",
      "Epoch 25/50\n",
      "108800/108800 [==============================] - 4s 36us/sample - loss: 0.7370 - acc: 0.6821 - val_loss: 0.7538 - val_acc: 0.6794\n",
      "Epoch 26/50\n",
      "108800/108800 [==============================] - 4s 36us/sample - loss: 0.7389 - acc: 0.6811 - val_loss: 0.7552 - val_acc: 0.6761\n",
      "Epoch 27/50\n",
      "108800/108800 [==============================] - 4s 40us/sample - loss: 0.7327 - acc: 0.6840 - val_loss: 0.7598 - val_acc: 0.6718\n",
      "Epoch 28/50\n",
      "108800/108800 [==============================] - 5s 42us/sample - loss: 0.7339 - acc: 0.6837 - val_loss: 0.7482 - val_acc: 0.6826\n",
      "Epoch 29/50\n",
      "108800/108800 [==============================] - 4s 38us/sample - loss: 0.7314 - acc: 0.6853 - val_loss: 0.7791 - val_acc: 0.6643\n",
      "Epoch 30/50\n",
      "108800/108800 [==============================] - 4s 38us/sample - loss: 0.7272 - acc: 0.6871 - val_loss: 0.7527 - val_acc: 0.6800\n",
      "Epoch 31/50\n",
      "108800/108800 [==============================] - 4s 39us/sample - loss: 0.7302 - acc: 0.6842 - val_loss: 0.7570 - val_acc: 0.6764\n",
      "Epoch 32/50\n",
      "108800/108800 [==============================] - 4s 40us/sample - loss: 0.7274 - acc: 0.6870 - val_loss: 0.7723 - val_acc: 0.6673\n",
      "Epoch 33/50\n",
      "108800/108800 [==============================] - 4s 36us/sample - loss: 0.7285 - acc: 0.6873 - val_loss: 0.7525 - val_acc: 0.6787\n",
      "Epoch 34/50\n",
      "108800/108800 [==============================] - 4s 38us/sample - loss: 0.7225 - acc: 0.6901 - val_loss: 0.7474 - val_acc: 0.6800\n",
      "Epoch 35/50\n",
      "108800/108800 [==============================] - 4s 37us/sample - loss: 0.7215 - acc: 0.6894 - val_loss: 0.7562 - val_acc: 0.6786\n",
      "Epoch 36/50\n",
      "108800/108800 [==============================] - 4s 37us/sample - loss: 0.7189 - acc: 0.6902 - val_loss: 0.7636 - val_acc: 0.6690\n",
      "Epoch 37/50\n",
      "108800/108800 [==============================] - 4s 36us/sample - loss: 0.7215 - acc: 0.6898 - val_loss: 0.7663 - val_acc: 0.6725\n",
      "Epoch 38/50\n",
      "108800/108800 [==============================] - 4s 40us/sample - loss: 0.7191 - acc: 0.6907 - val_loss: 0.7460 - val_acc: 0.6797\n",
      "Epoch 39/50\n",
      "108800/108800 [==============================] - 5s 44us/sample - loss: 0.7152 - acc: 0.6915 - val_loss: 0.7463 - val_acc: 0.6796\n",
      "Epoch 40/50\n",
      "108800/108800 [==============================] - 5s 50us/sample - loss: 0.7145 - acc: 0.6927 - val_loss: 0.7654 - val_acc: 0.6740\n",
      "Epoch 41/50\n",
      "108800/108800 [==============================] - 4s 39us/sample - loss: 0.7165 - acc: 0.6909 - val_loss: 0.7397 - val_acc: 0.6865\n",
      "Epoch 42/50\n",
      "108800/108800 [==============================] - 4s 38us/sample - loss: 0.7144 - acc: 0.6930 - val_loss: 0.7412 - val_acc: 0.6842\n",
      "Epoch 43/50\n",
      "108800/108800 [==============================] - 4s 39us/sample - loss: 0.7135 - acc: 0.6926 - val_loss: 0.7520 - val_acc: 0.6783\n",
      "Epoch 44/50\n",
      "108800/108800 [==============================] - 4s 39us/sample - loss: 0.7111 - acc: 0.6950 - val_loss: 0.7364 - val_acc: 0.6866\n",
      "Epoch 45/50\n",
      "108800/108800 [==============================] - 4s 39us/sample - loss: 0.7095 - acc: 0.6947 - val_loss: 0.7483 - val_acc: 0.6853\n",
      "Epoch 46/50\n",
      "108800/108800 [==============================] - 4s 37us/sample - loss: 0.7090 - acc: 0.6946 - val_loss: 0.7447 - val_acc: 0.6838\n",
      "Epoch 47/50\n",
      "108800/108800 [==============================] - 4s 39us/sample - loss: 0.7078 - acc: 0.6953 - val_loss: 0.7563 - val_acc: 0.6780\n",
      "Epoch 48/50\n",
      "108800/108800 [==============================] - 4s 37us/sample - loss: 0.7116 - acc: 0.6932 - val_loss: 0.7551 - val_acc: 0.6820\n",
      "Epoch 49/50\n",
      "108800/108800 [==============================] - 4s 41us/sample - loss: 0.7105 - acc: 0.6956 - val_loss: 0.7501 - val_acc: 0.6801\n",
      "Epoch 50/50\n",
      "108800/108800 [==============================] - 4s 38us/sample - loss: 0.7052 - acc: 0.6981 - val_loss: 0.7825 - val_acc: 0.6661\n"
     ]
    },
    {
     "data": {
      "text/plain": [
       "<tensorflow.python.keras.callbacks.History at 0x19ce83e10>"
      ]
     },
     "execution_count": 80,
     "metadata": {},
     "output_type": "execute_result"
    }
   ],
   "source": [
    "c_model.fit(x_train, y_train, validation_data=(x_test, y_test), batch_size=256,\n",
    "              epochs=50, callbacks=[tb_callback])"
   ]
  },
  {
   "cell_type": "code",
   "execution_count": 81,
   "metadata": {},
   "outputs": [
    {
     "name": "stdout",
     "output_type": "stream",
     "text": [
      "27200/27200 [==============================] - 1s 46us/sample - loss: 0.7825 - acc: 0.6661\n"
     ]
    },
    {
     "data": {
      "text/plain": [
       "[0.7825135770615409, 0.66610295]"
      ]
     },
     "execution_count": 81,
     "metadata": {},
     "output_type": "execute_result"
    }
   ],
   "source": [
    "c_model.evaluate(x_test, y_test)"
   ]
  },
  {
   "cell_type": "code",
   "execution_count": 84,
   "metadata": {},
   "outputs": [
    {
     "name": "stdout",
     "output_type": "stream",
     "text": [
      "../models/[32, 512, 0.2]_201953_12_51.h5\n",
      "27200/27200 [==============================] - 1s 54us/sample - loss: 0.7060 - acc: 0.7012\n",
      "../models/[32, 256, 0.2]_201953_12_54.h5\n",
      "27200/27200 [==============================] - 1s 44us/sample - loss: 0.7264 - acc: 0.6867\n",
      "../models/[32, 512, 0.1]_201953_12_56.h5\n",
      "27200/27200 [==============================] - 2s 59us/sample - loss: 0.6649 - acc: 0.7292\n",
      "../models/[32, 512, 0.2]_201953_12_46.h5\n",
      "27200/27200 [==============================] - 2s 61us/sample - loss: 0.7218 - acc: 0.6947\n"
     ]
    }
   ],
   "source": [
    "for model_path in glob.glob('../models/*.h5'):\n",
    "    print(model_path)\n",
    "    best_loaded = tf.keras.models.load_model(model_path)\n",
    "    best_loaded.evaluate(x_test, y_test)"
   ]
  },
  {
   "cell_type": "code",
   "execution_count": 85,
   "metadata": {},
   "outputs": [],
   "source": [
    "best_loaded = tf.keras.models.load_model('../models/[32, 512, 0.1]_201953_12_56.h5')\n",
    "test_predictions = best_loaded.predict(x_test)"
   ]
  },
  {
   "cell_type": "code",
   "execution_count": 87,
   "metadata": {},
   "outputs": [
    {
     "data": {
      "text/plain": [
       "array([[1217,    0,    0,    0,    0,    0,    0],\n",
       "       [   0, 3174,  309,  879,    0,  645,    0],\n",
       "       [   0,  177, 5386,  443,    0,  630,    0],\n",
       "       [   0,  569,  666, 4133,    0, 1290,    0],\n",
       "       [   0,    0,    0,    0, 1153,    0,    0],\n",
       "       [   0,  289,  546,  924,    0, 4137,    0],\n",
       "       [   0,    0,    0,    0,    0,    0,  633]])"
      ]
     },
     "execution_count": 87,
     "metadata": {},
     "output_type": "execute_result"
    }
   ],
   "source": [
    "from sklearn.metrics import confusion_matrix\n",
    "confusion = confusion_matrix(y_test, np.argmax(test_predictions,axis=1))\n",
    "confusion"
   ]
  },
  {
   "cell_type": "code",
   "execution_count": 104,
   "metadata": {},
   "outputs": [
    {
     "data": {
      "text/plain": [
       "<matplotlib.axes._subplots.AxesSubplot at 0x1a6051240>"
      ]
     },
     "execution_count": 104,
     "metadata": {},
     "output_type": "execute_result"
    },
    {
     "data": {
      "image/png": "[encoded data removed]",
      "text/plain": [
       "<Figure size 864x648 with 2 Axes>"
      ]
     },
     "metadata": {},
     "output_type": "display_data"
    }
   ],
   "source": [
    "import seaborn as sn\n",
    "import pandas as pd\n",
    "import matplotlib.pyplot as plt\n",
    "\n",
    "df_cm = pd.DataFrame(confusion, labels, labels)\n",
    "plt.figure(figsize = (12, 9))\n",
    "sn.set(font_scale=1.2)\n",
    "sn.heatmap(df_cm, annot=True, fmt='.5g', annot_kws={\"size\": 12})"
   ]
  },
  {
   "cell_type": "code",
   "execution_count": 105,
   "metadata": {},
   "outputs": [
    {
     "data": {
      "text/html": [
       "<div>\n",
       "<style scoped>\n",
       "    .dataframe tbody tr th:only-of-type {\n",
       "        vertical-align: middle;\n",
       "    }\n",
       "\n",
       "    .dataframe tbody tr th {\n",
       "        vertical-align: top;\n",
       "    }\n",
       "\n",
       "    .dataframe thead th {\n",
       "        text-align: right;\n",
       "    }\n",
       "</style>\n",
       "<table border=\"1\" class=\"dataframe\">\n",
       "  <thead>\n",
       "    <tr style=\"text-align: right;\">\n",
       "      <th></th>\n",
       "      <th>yafim</th>\n",
       "      <th>zeev</th>\n",
       "      <th>or</th>\n",
       "      <th>ron</th>\n",
       "      <th>sergey</th>\n",
       "      <th>aviya</th>\n",
       "      <th>elnatan</th>\n",
       "    </tr>\n",
       "  </thead>\n",
       "  <tbody>\n",
       "    <tr>\n",
       "      <th>yafim</th>\n",
       "      <td>1217</td>\n",
       "      <td>0</td>\n",
       "      <td>0</td>\n",
       "      <td>0</td>\n",
       "      <td>0</td>\n",
       "      <td>0</td>\n",
       "      <td>0</td>\n",
       "    </tr>\n",
       "    <tr>\n",
       "      <th>zeev</th>\n",
       "      <td>0</td>\n",
       "      <td>3174</td>\n",
       "      <td>309</td>\n",
       "      <td>879</td>\n",
       "      <td>0</td>\n",
       "      <td>645</td>\n",
       "      <td>0</td>\n",
       "    </tr>\n",
       "    <tr>\n",
       "      <th>or</th>\n",
       "      <td>0</td>\n",
       "      <td>177</td>\n",
       "      <td>5386</td>\n",
       "      <td>443</td>\n",
       "      <td>0</td>\n",
       "      <td>630</td>\n",
       "      <td>0</td>\n",
       "    </tr>\n",
       "    <tr>\n",
       "      <th>ron</th>\n",
       "      <td>0</td>\n",
       "      <td>569</td>\n",
       "      <td>666</td>\n",
       "      <td>4133</td>\n",
       "      <td>0</td>\n",
       "      <td>1290</td>\n",
       "      <td>0</td>\n",
       "    </tr>\n",
       "    <tr>\n",
       "      <th>sergey</th>\n",
       "      <td>0</td>\n",
       "      <td>0</td>\n",
       "      <td>0</td>\n",
       "      <td>0</td>\n",
       "      <td>1153</td>\n",
       "      <td>0</td>\n",
       "      <td>0</td>\n",
       "    </tr>\n",
       "    <tr>\n",
       "      <th>aviya</th>\n",
       "      <td>0</td>\n",
       "      <td>289</td>\n",
       "      <td>546</td>\n",
       "      <td>924</td>\n",
       "      <td>0</td>\n",
       "      <td>4137</td>\n",
       "      <td>0</td>\n",
       "    </tr>\n",
       "    <tr>\n",
       "      <th>elnatan</th>\n",
       "      <td>0</td>\n",
       "      <td>0</td>\n",
       "      <td>0</td>\n",
       "      <td>0</td>\n",
       "      <td>0</td>\n",
       "      <td>0</td>\n",
       "      <td>633</td>\n",
       "    </tr>\n",
       "  </tbody>\n",
       "</table>\n",
       "</div>"
      ],
      "text/plain": [
       "         yafim  zeev    or   ron  sergey  aviya  elnatan\n",
       "yafim     1217     0     0     0       0      0        0\n",
       "zeev         0  3174   309   879       0    645        0\n",
       "or           0   177  5386   443       0    630        0\n",
       "ron          0   569   666  4133       0   1290        0\n",
       "sergey       0     0     0     0    1153      0        0\n",
       "aviya        0   289   546   924       0   4137        0\n",
       "elnatan      0     0     0     0       0      0      633"
      ]
     },
     "execution_count": 105,
     "metadata": {},
     "output_type": "execute_result"
    }
   ],
   "source": [
    "df_cm"
   ]
  },
  {
   "cell_type": "markdown",
   "metadata": {},
   "source": [
    "### devided images (biased)"
   ]
  },
  {
   "cell_type": "code",
   "execution_count": 132,
   "metadata": {},
   "outputs": [],
   "source": [
    "x_data = []\n",
    "y_data = []"
   ]
  },
  {
   "cell_type": "code",
   "execution_count": 133,
   "metadata": {},
   "outputs": [
    {
     "name": "stderr",
     "output_type": "stream",
     "text": [
      "100%|██████████| 2999/2999 [00:00<00:00, 4890.82it/s]\n",
      "100%|██████████| 2999/2999 [00:00<00:00, 4802.53it/s]\n",
      "100%|██████████| 2999/2999 [00:00<00:00, 4617.89it/s]\n",
      "100%|██████████| 2999/2999 [00:00<00:00, 4785.58it/s]\n",
      "100%|██████████| 2999/2999 [00:00<00:00, 4245.68it/s]\n",
      "100%|██████████| 29999/29999 [00:06<00:00, 4412.81it/s]\n",
      "100%|██████████| 29999/29999 [00:06<00:00, 4513.05it/s]\n",
      "100%|██████████| 29999/29999 [00:06<00:00, 4529.50it/s]\n",
      "100%|██████████| 2999/2999 [00:00<00:00, 4035.08it/s]\n",
      "100%|██████████| 21999/21999 [00:04<00:00, 4478.74it/s]\n",
      "100%|██████████| 2999/2999 [00:00<00:00, 4497.77it/s]\n",
      "100%|██████████| 2999/2999 [00:00<00:00, 4497.99it/s]\n"
     ]
    }
   ],
   "source": [
    "for d in dates:\n",
    "    for l_idx, l in enumerate(labels):\n",
    "        f_path = '../data/frames/{0}/{1}/32'.format(d, l)\n",
    "        if os.path.exists(f_path):\n",
    "            f_list = os.listdir(f_path)\n",
    "            for i in tqdm(range(0, len(f_list) - 1)):\n",
    "                img1 = cv2.imread('{0}/{1}'.format(f_path, f_list[i]), cv2.IMREAD_GRAYSCALE)\n",
    "                img2 = cv2.imread('{0}/{1}'.format(f_path, f_list[i+1]), cv2.IMREAD_GRAYSCALE)\n",
    "                img = img1 - img2\n",
    "                x_data.append(img)\n",
    "                y_data.append(l_idx)"
   ]
  },
  {
   "cell_type": "code",
   "execution_count": 134,
   "metadata": {},
   "outputs": [],
   "source": [
    "x_data = np.asarray(x_data)\n",
    "y_data = np.asarray(y_data)"
   ]
  },
  {
   "cell_type": "code",
   "execution_count": 135,
   "metadata": {},
   "outputs": [
    {
     "data": {
      "text/plain": [
       "(135988, 32, 32)"
      ]
     },
     "execution_count": 135,
     "metadata": {},
     "output_type": "execute_result"
    }
   ],
   "source": [
    "x_data.shape"
   ]
  },
  {
   "cell_type": "code",
   "execution_count": 136,
   "metadata": {},
   "outputs": [
    {
     "data": {
      "text/plain": [
       "array([0, 0, 0, ..., 6, 6, 6])"
      ]
     },
     "execution_count": 136,
     "metadata": {},
     "output_type": "execute_result"
    }
   ],
   "source": [
    "y_data"
   ]
  },
  {
   "cell_type": "code",
   "execution_count": 137,
   "metadata": {},
   "outputs": [
    {
     "data": {
      "image/png": "[encoded data removed]",
      "text/plain": [
       "<Figure size 432x288 with 1 Axes>"
      ]
     },
     "metadata": {},
     "output_type": "display_data"
    }
   ],
   "source": [
    "plt.imshow(x_data[0])\n",
    "plt.show()"
   ]
  },
  {
   "cell_type": "code",
   "execution_count": 138,
   "metadata": {},
   "outputs": [],
   "source": [
    "x_train, x_test, y_train, y_test = train_test_split(x_data, y_data, test_size=0.2)"
   ]
  },
  {
   "cell_type": "code",
   "execution_count": 139,
   "metadata": {},
   "outputs": [],
   "source": [
    "x_train, x_test = x_train / 255.0, x_test / 255.0"
   ]
  },
  {
   "cell_type": "code",
   "execution_count": 140,
   "metadata": {},
   "outputs": [
    {
     "data": {
      "text/plain": [
       "(108790, 32, 32)"
      ]
     },
     "execution_count": 140,
     "metadata": {},
     "output_type": "execute_result"
    }
   ],
   "source": [
    "x_train.shape"
   ]
  },
  {
   "cell_type": "code",
   "execution_count": 141,
   "metadata": {},
   "outputs": [
    {
     "data": {
      "text/plain": [
       "array([[   0, 1154],\n",
       "       [   1, 5030],\n",
       "       [   2, 6678],\n",
       "       [   3, 6583],\n",
       "       [   4, 1201],\n",
       "       [   5, 5958],\n",
       "       [   6,  594]])"
      ]
     },
     "execution_count": 141,
     "metadata": {},
     "output_type": "execute_result"
    }
   ],
   "source": [
    "unique, counts = np.unique(y_test, return_counts=True)\n",
    "np.asarray((unique, counts)).T"
   ]
  },
  {
   "cell_type": "code",
   "execution_count": 142,
   "metadata": {},
   "outputs": [
    {
     "name": "stdout",
     "output_type": "stream",
     "text": [
      "Train on 108790 samples, validate on 27198 samples\n",
      "Epoch 1/50\n",
      "108790/108790 [==============================] - 4s 41us/sample - loss: 1.4098 - acc: 0.3781 - val_loss: 1.1859 - val_acc: 0.4530\n",
      "Epoch 2/50\n",
      "108790/108790 [==============================] - 4s 36us/sample - loss: 1.1648 - acc: 0.4623 - val_loss: 1.1280 - val_acc: 0.4711\n",
      "Epoch 3/50\n",
      "108790/108790 [==============================] - 4s 35us/sample - loss: 1.1079 - acc: 0.4849 - val_loss: 1.0926 - val_acc: 0.4780\n",
      "Epoch 4/50\n",
      "108790/108790 [==============================] - 4s 36us/sample - loss: 1.0711 - acc: 0.5026 - val_loss: 1.0672 - val_acc: 0.4867\n",
      "Epoch 5/50\n",
      "108790/108790 [==============================] - 4s 36us/sample - loss: 1.0442 - acc: 0.5141 - val_loss: 1.0690 - val_acc: 0.4903\n",
      "Epoch 6/50\n",
      "108790/108790 [==============================] - 4s 39us/sample - loss: 1.0201 - acc: 0.5257 - val_loss: 1.0343 - val_acc: 0.5121\n",
      "Epoch 7/50\n",
      "108790/108790 [==============================] - 4s 40us/sample - loss: 1.0010 - acc: 0.5354 - val_loss: 1.0232 - val_acc: 0.5178\n",
      "Epoch 8/50\n",
      "108790/108790 [==============================] - 4s 40us/sample - loss: 0.9846 - acc: 0.5450 - val_loss: 1.0092 - val_acc: 0.5213\n",
      "Epoch 9/50\n",
      "108790/108790 [==============================] - 4s 39us/sample - loss: 0.9753 - acc: 0.5497 - val_loss: 1.0410 - val_acc: 0.5133\n",
      "Epoch 10/50\n",
      "108790/108790 [==============================] - 4s 40us/sample - loss: 0.9612 - acc: 0.5556 - val_loss: 1.0002 - val_acc: 0.5242\n",
      "Epoch 11/50\n",
      "108790/108790 [==============================] - 4s 41us/sample - loss: 0.9491 - acc: 0.5637 - val_loss: 1.0028 - val_acc: 0.5289\n",
      "Epoch 12/50\n",
      "108790/108790 [==============================] - 4s 39us/sample - loss: 0.9393 - acc: 0.5679 - val_loss: 1.0001 - val_acc: 0.5333\n",
      "Epoch 13/50\n",
      "108790/108790 [==============================] - 4s 39us/sample - loss: 0.9280 - acc: 0.5754 - val_loss: 0.9982 - val_acc: 0.5322\n",
      "Epoch 14/50\n",
      "108790/108790 [==============================] - 4s 40us/sample - loss: 0.9188 - acc: 0.5812 - val_loss: 0.9952 - val_acc: 0.5315\n",
      "Epoch 15/50\n",
      "108790/108790 [==============================] - 4s 39us/sample - loss: 0.9088 - acc: 0.5862 - val_loss: 1.0112 - val_acc: 0.5263\n",
      "Epoch 16/50\n",
      "108790/108790 [==============================] - 4s 40us/sample - loss: 0.9021 - acc: 0.5906 - val_loss: 1.0034 - val_acc: 0.5359\n",
      "Epoch 17/50\n",
      "108790/108790 [==============================] - 4s 38us/sample - loss: 0.8876 - acc: 0.5981 - val_loss: 1.0052 - val_acc: 0.5331\n",
      "Epoch 18/50\n",
      "108790/108790 [==============================] - 4s 38us/sample - loss: 0.8851 - acc: 0.5991 - val_loss: 1.0229 - val_acc: 0.5230\n",
      "Epoch 19/50\n",
      "108790/108790 [==============================] - 4s 37us/sample - loss: 0.8808 - acc: 0.6021 - val_loss: 1.0073 - val_acc: 0.5299\n",
      "Epoch 20/50\n",
      "108790/108790 [==============================] - 4s 38us/sample - loss: 0.8608 - acc: 0.6129 - val_loss: 1.0100 - val_acc: 0.5353\n",
      "Epoch 21/50\n",
      "108790/108790 [==============================] - 4s 37us/sample - loss: 0.8560 - acc: 0.6154 - val_loss: 1.0150 - val_acc: 0.5363\n",
      "Epoch 22/50\n",
      "108790/108790 [==============================] - 4s 37us/sample - loss: 0.8555 - acc: 0.6158 - val_loss: 1.0281 - val_acc: 0.5342\n",
      "Epoch 23/50\n",
      "108790/108790 [==============================] - 4s 37us/sample - loss: 0.8507 - acc: 0.6195 - val_loss: 1.0060 - val_acc: 0.5361\n",
      "Epoch 24/50\n",
      "108790/108790 [==============================] - 4s 38us/sample - loss: 0.8366 - acc: 0.6273 - val_loss: 1.0313 - val_acc: 0.5367\n",
      "Epoch 25/50\n",
      "108790/108790 [==============================] - 4s 37us/sample - loss: 0.8295 - acc: 0.6307 - val_loss: 1.0239 - val_acc: 0.5356\n",
      "Epoch 26/50\n",
      "108790/108790 [==============================] - 4s 37us/sample - loss: 0.8182 - acc: 0.6368 - val_loss: 1.0282 - val_acc: 0.5338\n",
      "Epoch 27/50\n",
      "108790/108790 [==============================] - 4s 37us/sample - loss: 0.8095 - acc: 0.6416 - val_loss: 1.0379 - val_acc: 0.5374\n",
      "Epoch 28/50\n",
      "108790/108790 [==============================] - 4s 37us/sample - loss: 0.8094 - acc: 0.6421 - val_loss: 1.0452 - val_acc: 0.5346\n",
      "Epoch 29/50\n",
      "108790/108790 [==============================] - 4s 37us/sample - loss: 0.8017 - acc: 0.6467 - val_loss: 1.0535 - val_acc: 0.5333\n",
      "Epoch 30/50\n",
      "108790/108790 [==============================] - 4s 37us/sample - loss: 0.7940 - acc: 0.6496 - val_loss: 1.0422 - val_acc: 0.5356\n",
      "Epoch 31/50\n",
      "108790/108790 [==============================] - 4s 38us/sample - loss: 0.7834 - acc: 0.6552 - val_loss: 1.0733 - val_acc: 0.5396\n",
      "Epoch 32/50\n",
      "108790/108790 [==============================] - 4s 38us/sample - loss: 0.7788 - acc: 0.6585 - val_loss: 1.0526 - val_acc: 0.5348\n",
      "Epoch 33/50\n",
      "108790/108790 [==============================] - 4s 38us/sample - loss: 0.7674 - acc: 0.6645 - val_loss: 1.0707 - val_acc: 0.5342\n",
      "Epoch 34/50\n",
      "108790/108790 [==============================] - 4s 38us/sample - loss: 0.7643 - acc: 0.6661 - val_loss: 1.0715 - val_acc: 0.5338\n",
      "Epoch 35/50\n",
      "108790/108790 [==============================] - 4s 38us/sample - loss: 0.7576 - acc: 0.6695 - val_loss: 1.0750 - val_acc: 0.5301\n",
      "Epoch 36/50\n",
      "108790/108790 [==============================] - 4s 37us/sample - loss: 0.7554 - acc: 0.6701 - val_loss: 1.0850 - val_acc: 0.5379\n",
      "Epoch 37/50\n",
      "108790/108790 [==============================] - 4s 37us/sample - loss: 0.7441 - acc: 0.6782 - val_loss: 1.0796 - val_acc: 0.5368\n",
      "Epoch 38/50\n",
      "108790/108790 [==============================] - 4s 38us/sample - loss: 0.7419 - acc: 0.6771 - val_loss: 1.0939 - val_acc: 0.5349\n",
      "Epoch 39/50\n",
      "108790/108790 [==============================] - 4s 38us/sample - loss: 0.7408 - acc: 0.6777 - val_loss: 1.1192 - val_acc: 0.5336\n",
      "Epoch 40/50\n",
      "108790/108790 [==============================] - 4s 38us/sample - loss: 0.7306 - acc: 0.6825 - val_loss: 1.0951 - val_acc: 0.5369\n",
      "Epoch 41/50\n",
      "108790/108790 [==============================] - 4s 37us/sample - loss: 0.7286 - acc: 0.6846 - val_loss: 1.1003 - val_acc: 0.5309\n",
      "Epoch 42/50\n",
      "108790/108790 [==============================] - 4s 37us/sample - loss: 0.7213 - acc: 0.6883 - val_loss: 1.1218 - val_acc: 0.5292\n",
      "Epoch 43/50\n",
      "108790/108790 [==============================] - 4s 38us/sample - loss: 0.7147 - acc: 0.6900 - val_loss: 1.1337 - val_acc: 0.5361\n",
      "Epoch 44/50\n",
      "108790/108790 [==============================] - 4s 37us/sample - loss: 0.7145 - acc: 0.6920 - val_loss: 1.1431 - val_acc: 0.5317\n",
      "Epoch 45/50\n",
      "108790/108790 [==============================] - 4s 37us/sample - loss: 0.7077 - acc: 0.6943 - val_loss: 1.1559 - val_acc: 0.5289\n",
      "Epoch 46/50\n",
      "108790/108790 [==============================] - 4s 37us/sample - loss: 0.7048 - acc: 0.6985 - val_loss: 1.1651 - val_acc: 0.5299\n",
      "Epoch 47/50\n",
      "108790/108790 [==============================] - 4s 37us/sample - loss: 0.7008 - acc: 0.6984 - val_loss: 1.1525 - val_acc: 0.5317\n",
      "Epoch 48/50\n",
      "108790/108790 [==============================] - 4s 37us/sample - loss: 0.7000 - acc: 0.6996 - val_loss: 1.1741 - val_acc: 0.5313\n",
      "Epoch 49/50\n",
      "108790/108790 [==============================] - 4s 37us/sample - loss: 0.6928 - acc: 0.7040 - val_loss: 1.1691 - val_acc: 0.5277\n",
      "Epoch 50/50\n",
      "108790/108790 [==============================] - 4s 38us/sample - loss: 0.6921 - acc: 0.7025 - val_loss: 1.1618 - val_acc: 0.5304\n",
      "27198/27198 [==============================] - 1s 51us/sample - loss: 1.1618 - acc: 0.5304\n",
      "Train on 108790 samples, validate on 27198 samples\n",
      "Epoch 1/50\n",
      "108790/108790 [==============================] - 3s 29us/sample - loss: 1.4296 - acc: 0.3668 - val_loss: 1.2016 - val_acc: 0.4551\n",
      "Epoch 2/50\n",
      "108790/108790 [==============================] - 3s 25us/sample - loss: 1.1843 - acc: 0.4585 - val_loss: 1.1464 - val_acc: 0.4740\n",
      "Epoch 3/50\n",
      "108790/108790 [==============================] - 3s 24us/sample - loss: 1.1322 - acc: 0.4761 - val_loss: 1.1126 - val_acc: 0.4755\n",
      "Epoch 4/50\n",
      "108790/108790 [==============================] - 3s 24us/sample - loss: 1.0990 - acc: 0.4886 - val_loss: 1.0854 - val_acc: 0.4863\n",
      "Epoch 5/50\n",
      "108790/108790 [==============================] - 3s 24us/sample - loss: 1.0711 - acc: 0.4991 - val_loss: 1.0828 - val_acc: 0.4921\n",
      "Epoch 6/50\n",
      "108790/108790 [==============================] - 3s 24us/sample - loss: 1.0500 - acc: 0.5100 - val_loss: 1.0633 - val_acc: 0.4919\n",
      "Epoch 7/50\n"
     ]
    },
    {
     "name": "stdout",
     "output_type": "stream",
     "text": [
      "108790/108790 [==============================] - 3s 24us/sample - loss: 1.0329 - acc: 0.5167 - val_loss: 1.0484 - val_acc: 0.5039\n",
      "Epoch 8/50\n",
      "108790/108790 [==============================] - 3s 24us/sample - loss: 1.0178 - acc: 0.5261 - val_loss: 1.0305 - val_acc: 0.5113\n",
      "Epoch 9/50\n",
      "108790/108790 [==============================] - 3s 24us/sample - loss: 1.0030 - acc: 0.5341 - val_loss: 1.0285 - val_acc: 0.5132\n",
      "Epoch 10/50\n",
      "108790/108790 [==============================] - 3s 24us/sample - loss: 0.9913 - acc: 0.5408 - val_loss: 1.0175 - val_acc: 0.5185\n",
      "Epoch 11/50\n",
      "108790/108790 [==============================] - 3s 24us/sample - loss: 0.9784 - acc: 0.5486 - val_loss: 1.0133 - val_acc: 0.5224\n",
      "Epoch 12/50\n",
      "108790/108790 [==============================] - 3s 24us/sample - loss: 0.9702 - acc: 0.5506 - val_loss: 1.0162 - val_acc: 0.5192\n",
      "Epoch 13/50\n",
      "108790/108790 [==============================] - 3s 24us/sample - loss: 0.9618 - acc: 0.5551 - val_loss: 1.0433 - val_acc: 0.5149\n",
      "Epoch 14/50\n",
      "108790/108790 [==============================] - 3s 24us/sample - loss: 0.9540 - acc: 0.5597 - val_loss: 1.0166 - val_acc: 0.5215\n",
      "Epoch 15/50\n",
      "108790/108790 [==============================] - 3s 25us/sample - loss: 0.9511 - acc: 0.5612 - val_loss: 1.0153 - val_acc: 0.5236\n",
      "Epoch 16/50\n",
      "108790/108790 [==============================] - 3s 25us/sample - loss: 0.9396 - acc: 0.5690 - val_loss: 1.0124 - val_acc: 0.5244\n",
      "Epoch 17/50\n",
      "108790/108790 [==============================] - 3s 25us/sample - loss: 0.9335 - acc: 0.5721 - val_loss: 1.0081 - val_acc: 0.5283\n",
      "Epoch 18/50\n",
      "108790/108790 [==============================] - 3s 24us/sample - loss: 0.9272 - acc: 0.5757 - val_loss: 1.0240 - val_acc: 0.5242\n",
      "Epoch 19/50\n",
      "108790/108790 [==============================] - 3s 24us/sample - loss: 0.9196 - acc: 0.5793 - val_loss: 1.0137 - val_acc: 0.5246\n",
      "Epoch 20/50\n",
      "108790/108790 [==============================] - 3s 24us/sample - loss: 0.9195 - acc: 0.5796 - val_loss: 1.0234 - val_acc: 0.5201\n",
      "Epoch 21/50\n",
      "108790/108790 [==============================] - 3s 25us/sample - loss: 0.9092 - acc: 0.5833 - val_loss: 1.0186 - val_acc: 0.5255\n",
      "Epoch 22/50\n",
      "108790/108790 [==============================] - 3s 24us/sample - loss: 0.9082 - acc: 0.5857 - val_loss: 1.0203 - val_acc: 0.5285\n",
      "Epoch 23/50\n",
      "108790/108790 [==============================] - 3s 26us/sample - loss: 0.9021 - acc: 0.5876 - val_loss: 1.0207 - val_acc: 0.5278\n",
      "Epoch 24/50\n",
      "108790/108790 [==============================] - 3s 28us/sample - loss: 0.8943 - acc: 0.5927 - val_loss: 1.0281 - val_acc: 0.5267\n",
      "Epoch 25/50\n",
      "108790/108790 [==============================] - 3s 26us/sample - loss: 0.8905 - acc: 0.5952 - val_loss: 1.0275 - val_acc: 0.5293\n",
      "Epoch 26/50\n",
      "108790/108790 [==============================] - 3s 24us/sample - loss: 0.8846 - acc: 0.5994 - val_loss: 1.0206 - val_acc: 0.5334\n",
      "Epoch 27/50\n",
      "108790/108790 [==============================] - 3s 24us/sample - loss: 0.8803 - acc: 0.6013 - val_loss: 1.0233 - val_acc: 0.5274\n",
      "Epoch 28/50\n",
      "108790/108790 [==============================] - 3s 24us/sample - loss: 0.8775 - acc: 0.6045 - val_loss: 1.0242 - val_acc: 0.5351\n",
      "Epoch 29/50\n",
      "108790/108790 [==============================] - 3s 24us/sample - loss: 0.8693 - acc: 0.6067 - val_loss: 1.0286 - val_acc: 0.5281\n",
      "Epoch 30/50\n",
      "108790/108790 [==============================] - 3s 24us/sample - loss: 0.8664 - acc: 0.6083 - val_loss: 1.0303 - val_acc: 0.5304\n",
      "Epoch 31/50\n",
      "108790/108790 [==============================] - 3s 24us/sample - loss: 0.8651 - acc: 0.6101 - val_loss: 1.0385 - val_acc: 0.5359\n",
      "Epoch 32/50\n",
      "108790/108790 [==============================] - 3s 24us/sample - loss: 0.8556 - acc: 0.6151 - val_loss: 1.0543 - val_acc: 0.5255\n",
      "Epoch 33/50\n",
      "108790/108790 [==============================] - 3s 24us/sample - loss: 0.8535 - acc: 0.6145 - val_loss: 1.0391 - val_acc: 0.5304\n",
      "Epoch 34/50\n",
      "108790/108790 [==============================] - 3s 24us/sample - loss: 0.8505 - acc: 0.6179 - val_loss: 1.0488 - val_acc: 0.5290\n",
      "Epoch 35/50\n",
      "108790/108790 [==============================] - 3s 24us/sample - loss: 0.8499 - acc: 0.6186 - val_loss: 1.0594 - val_acc: 0.5294\n",
      "Epoch 36/50\n",
      "108790/108790 [==============================] - 3s 24us/sample - loss: 0.8459 - acc: 0.6194 - val_loss: 1.0476 - val_acc: 0.5324\n",
      "Epoch 37/50\n",
      "108790/108790 [==============================] - 3s 24us/sample - loss: 0.8450 - acc: 0.6219 - val_loss: 1.0685 - val_acc: 0.5314\n",
      "Epoch 38/50\n",
      "108790/108790 [==============================] - 3s 24us/sample - loss: 0.8399 - acc: 0.6240 - val_loss: 1.0640 - val_acc: 0.5317\n",
      "Epoch 39/50\n",
      "108790/108790 [==============================] - 3s 24us/sample - loss: 0.8388 - acc: 0.6245 - val_loss: 1.0570 - val_acc: 0.5346\n",
      "Epoch 40/50\n",
      "108790/108790 [==============================] - 3s 24us/sample - loss: 0.8330 - acc: 0.6273 - val_loss: 1.0543 - val_acc: 0.5345\n",
      "Epoch 41/50\n",
      "108790/108790 [==============================] - 3s 24us/sample - loss: 0.8308 - acc: 0.6297 - val_loss: 1.0574 - val_acc: 0.5339\n",
      "Epoch 42/50\n",
      "108790/108790 [==============================] - 3s 24us/sample - loss: 0.8284 - acc: 0.6301 - val_loss: 1.0967 - val_acc: 0.5303\n",
      "Epoch 43/50\n",
      "108790/108790 [==============================] - 3s 24us/sample - loss: 0.8212 - acc: 0.6326 - val_loss: 1.0597 - val_acc: 0.5326\n",
      "Epoch 44/50\n",
      "108790/108790 [==============================] - 3s 24us/sample - loss: 0.8189 - acc: 0.6341 - val_loss: 1.0747 - val_acc: 0.5290\n",
      "Epoch 45/50\n",
      "108790/108790 [==============================] - 3s 24us/sample - loss: 0.8202 - acc: 0.6351 - val_loss: 1.0954 - val_acc: 0.5258\n",
      "Epoch 46/50\n",
      "108790/108790 [==============================] - 3s 24us/sample - loss: 0.8180 - acc: 0.6359 - val_loss: 1.0859 - val_acc: 0.5331\n",
      "Epoch 47/50\n",
      "108790/108790 [==============================] - 3s 25us/sample - loss: 0.8177 - acc: 0.6365 - val_loss: 1.0949 - val_acc: 0.5238\n",
      "Epoch 48/50\n",
      "108790/108790 [==============================] - 3s 25us/sample - loss: 0.8134 - acc: 0.6392 - val_loss: 1.0832 - val_acc: 0.5314\n",
      "Epoch 49/50\n",
      "108790/108790 [==============================] - 3s 24us/sample - loss: 0.8119 - acc: 0.6403 - val_loss: 1.0816 - val_acc: 0.5302\n",
      "Epoch 50/50\n",
      "108790/108790 [==============================] - 3s 24us/sample - loss: 0.8091 - acc: 0.6418 - val_loss: 1.1043 - val_acc: 0.5327\n",
      "27198/27198 [==============================] - 1s 34us/sample - loss: 1.1043 - acc: 0.5327\n",
      "Train on 108790 samples, validate on 27198 samples\n",
      "Epoch 1/50\n",
      "108790/108790 [==============================] - 4s 41us/sample - loss: 1.3868 - acc: 0.3892 - val_loss: 1.2054 - val_acc: 0.4366\n",
      "Epoch 2/50\n",
      "108790/108790 [==============================] - 4s 37us/sample - loss: 1.1534 - acc: 0.4696 - val_loss: 1.1406 - val_acc: 0.4653\n",
      "Epoch 3/50\n",
      "108790/108790 [==============================] - 4s 40us/sample - loss: 1.1087 - acc: 0.4860 - val_loss: 1.1182 - val_acc: 0.4700\n",
      "Epoch 4/50\n",
      "108790/108790 [==============================] - 4s 40us/sample - loss: 1.0718 - acc: 0.5002 - val_loss: 1.0736 - val_acc: 0.5001\n",
      "Epoch 5/50\n",
      "108790/108790 [==============================] - 4s 38us/sample - loss: 1.0377 - acc: 0.5175 - val_loss: 1.0571 - val_acc: 0.5053\n",
      "Epoch 6/50\n",
      "108790/108790 [==============================] - 4s 39us/sample - loss: 1.0140 - acc: 0.5315 - val_loss: 1.0284 - val_acc: 0.5156\n",
      "Epoch 7/50\n",
      "108790/108790 [==============================] - 4s 38us/sample - loss: 0.9958 - acc: 0.5391 - val_loss: 1.0310 - val_acc: 0.5169\n",
      "Epoch 8/50\n",
      "108790/108790 [==============================] - 4s 41us/sample - loss: 0.9790 - acc: 0.5490 - val_loss: 1.0138 - val_acc: 0.5225\n",
      "Epoch 9/50\n",
      "108790/108790 [==============================] - 4s 39us/sample - loss: 0.9622 - acc: 0.5587 - val_loss: 1.0170 - val_acc: 0.5207\n",
      "Epoch 10/50\n",
      "108790/108790 [==============================] - 4s 38us/sample - loss: 0.9487 - acc: 0.5668 - val_loss: 1.0037 - val_acc: 0.5299\n",
      "Epoch 11/50\n",
      "108790/108790 [==============================] - 4s 39us/sample - loss: 0.9333 - acc: 0.5744 - val_loss: 0.9983 - val_acc: 0.5307\n",
      "Epoch 12/50\n",
      "108790/108790 [==============================] - 4s 37us/sample - loss: 0.9248 - acc: 0.5779 - val_loss: 1.0012 - val_acc: 0.5321\n",
      "Epoch 13/50\n",
      "108790/108790 [==============================] - 4s 36us/sample - loss: 0.9137 - acc: 0.5866 - val_loss: 1.0169 - val_acc: 0.5342\n"
     ]
    },
    {
     "name": "stdout",
     "output_type": "stream",
     "text": [
      "Epoch 14/50\n",
      "108790/108790 [==============================] - 4s 37us/sample - loss: 0.9057 - acc: 0.5916 - val_loss: 0.9906 - val_acc: 0.5365\n",
      "Epoch 15/50\n",
      "108790/108790 [==============================] - 4s 36us/sample - loss: 0.8939 - acc: 0.5973 - val_loss: 0.9861 - val_acc: 0.5416\n",
      "Epoch 16/50\n",
      "108790/108790 [==============================] - 4s 37us/sample - loss: 0.8843 - acc: 0.6024 - val_loss: 1.0064 - val_acc: 0.5358\n",
      "Epoch 17/50\n",
      "108790/108790 [==============================] - 4s 37us/sample - loss: 0.8681 - acc: 0.6127 - val_loss: 1.0112 - val_acc: 0.5396\n",
      "Epoch 18/50\n",
      "108790/108790 [==============================] - 4s 37us/sample - loss: 0.8554 - acc: 0.6199 - val_loss: 1.0154 - val_acc: 0.5383\n",
      "Epoch 19/50\n",
      "108790/108790 [==============================] - 4s 36us/sample - loss: 0.8462 - acc: 0.6258 - val_loss: 1.0060 - val_acc: 0.5402\n",
      "Epoch 20/50\n",
      "108790/108790 [==============================] - 4s 36us/sample - loss: 0.8299 - acc: 0.6334 - val_loss: 1.0203 - val_acc: 0.5348\n",
      "Epoch 21/50\n",
      "108790/108790 [==============================] - 4s 37us/sample - loss: 0.8226 - acc: 0.6391 - val_loss: 1.0317 - val_acc: 0.5404\n",
      "Epoch 22/50\n",
      "108790/108790 [==============================] - 4s 37us/sample - loss: 0.8096 - acc: 0.6445 - val_loss: 1.0263 - val_acc: 0.5425\n",
      "Epoch 23/50\n",
      "108790/108790 [==============================] - 4s 36us/sample - loss: 0.8008 - acc: 0.6511 - val_loss: 1.0321 - val_acc: 0.5384\n",
      "Epoch 24/50\n",
      "108790/108790 [==============================] - 4s 37us/sample - loss: 0.7846 - acc: 0.6595 - val_loss: 1.0541 - val_acc: 0.5376\n",
      "Epoch 25/50\n",
      "108790/108790 [==============================] - 4s 36us/sample - loss: 0.7731 - acc: 0.6647 - val_loss: 1.0454 - val_acc: 0.5371\n",
      "Epoch 26/50\n",
      "108790/108790 [==============================] - 4s 37us/sample - loss: 0.7626 - acc: 0.6722 - val_loss: 1.0662 - val_acc: 0.5364\n",
      "Epoch 27/50\n",
      "108790/108790 [==============================] - 4s 39us/sample - loss: 0.7536 - acc: 0.6776 - val_loss: 1.0495 - val_acc: 0.5440\n",
      "Epoch 28/50\n",
      "108790/108790 [==============================] - 4s 37us/sample - loss: 0.7421 - acc: 0.6820 - val_loss: 1.0610 - val_acc: 0.5443\n",
      "Epoch 29/50\n",
      "108790/108790 [==============================] - 4s 37us/sample - loss: 0.7386 - acc: 0.6845 - val_loss: 1.0809 - val_acc: 0.5445\n",
      "Epoch 30/50\n",
      "108790/108790 [==============================] - 4s 36us/sample - loss: 0.7249 - acc: 0.6913 - val_loss: 1.0953 - val_acc: 0.5389\n",
      "Epoch 31/50\n",
      "108790/108790 [==============================] - 4s 38us/sample - loss: 0.7153 - acc: 0.6966 - val_loss: 1.0971 - val_acc: 0.5393\n",
      "Epoch 32/50\n",
      "108790/108790 [==============================] - 4s 38us/sample - loss: 0.7096 - acc: 0.6976 - val_loss: 1.0917 - val_acc: 0.5400\n",
      "Epoch 33/50\n",
      "108790/108790 [==============================] - 4s 38us/sample - loss: 0.7005 - acc: 0.7034 - val_loss: 1.1313 - val_acc: 0.5317\n",
      "Epoch 34/50\n",
      "108790/108790 [==============================] - 4s 37us/sample - loss: 0.6976 - acc: 0.7053 - val_loss: 1.1056 - val_acc: 0.5388\n",
      "Epoch 35/50\n",
      "108790/108790 [==============================] - 4s 37us/sample - loss: 0.6860 - acc: 0.7105 - val_loss: 1.1670 - val_acc: 0.5333\n",
      "Epoch 36/50\n",
      "108790/108790 [==============================] - 4s 37us/sample - loss: 0.6826 - acc: 0.7125 - val_loss: 1.1510 - val_acc: 0.5285\n",
      "Epoch 37/50\n",
      "108790/108790 [==============================] - 4s 37us/sample - loss: 0.6725 - acc: 0.7182 - val_loss: 1.1319 - val_acc: 0.5364\n",
      "Epoch 38/50\n",
      "108790/108790 [==============================] - 4s 37us/sample - loss: 0.6652 - acc: 0.7204 - val_loss: 1.1504 - val_acc: 0.5336\n",
      "Epoch 39/50\n",
      "108790/108790 [==============================] - 4s 37us/sample - loss: 0.6600 - acc: 0.7238 - val_loss: 1.1551 - val_acc: 0.5339\n",
      "Epoch 40/50\n",
      "108790/108790 [==============================] - 4s 37us/sample - loss: 0.6543 - acc: 0.7272 - val_loss: 1.1601 - val_acc: 0.5340\n",
      "Epoch 41/50\n",
      "108790/108790 [==============================] - 4s 38us/sample - loss: 0.6460 - acc: 0.7302 - val_loss: 1.1963 - val_acc: 0.5310\n",
      "Epoch 42/50\n",
      "108790/108790 [==============================] - 4s 36us/sample - loss: 0.6423 - acc: 0.7330 - val_loss: 1.2071 - val_acc: 0.5316\n",
      "Epoch 43/50\n",
      "108790/108790 [==============================] - 4s 38us/sample - loss: 0.6410 - acc: 0.7337 - val_loss: 1.2155 - val_acc: 0.5264\n",
      "Epoch 44/50\n",
      "108790/108790 [==============================] - 4s 38us/sample - loss: 0.6300 - acc: 0.7386 - val_loss: 1.2197 - val_acc: 0.5330\n",
      "Epoch 45/50\n",
      "108790/108790 [==============================] - 5s 43us/sample - loss: 0.6263 - acc: 0.7401 - val_loss: 1.2201 - val_acc: 0.5295\n",
      "Epoch 46/50\n",
      "108790/108790 [==============================] - 4s 39us/sample - loss: 0.6233 - acc: 0.7409 - val_loss: 1.1949 - val_acc: 0.5335\n",
      "Epoch 47/50\n",
      "108790/108790 [==============================] - 4s 40us/sample - loss: 0.6172 - acc: 0.7457 - val_loss: 1.2467 - val_acc: 0.5300\n",
      "Epoch 48/50\n",
      "108790/108790 [==============================] - 4s 38us/sample - loss: 0.6096 - acc: 0.7486 - val_loss: 1.2390 - val_acc: 0.5286\n",
      "Epoch 49/50\n",
      "108790/108790 [==============================] - 4s 38us/sample - loss: 0.6063 - acc: 0.7499 - val_loss: 1.2503 - val_acc: 0.5328\n",
      "Epoch 50/50\n",
      "108790/108790 [==============================] - 4s 37us/sample - loss: 0.5992 - acc: 0.7524 - val_loss: 1.2542 - val_acc: 0.5325\n",
      "27198/27198 [==============================] - 1s 53us/sample - loss: 1.2542 - acc: 0.5325\n"
     ]
    }
   ],
   "source": [
    "for conf in conf_list:\n",
    "    curr_dt = set_curr_time()\n",
    "    tb_callback = tf.keras.callbacks.TensorBoard(log_dir='./logs/sub_imgs_{0}_{1}'.format(conf, curr_dt),\n",
    "                                                 histogram_freq=0, write_graph=True)\n",
    "    model = custom_model(conf)\n",
    "    model.fit(x_train, y_train, validation_data=(x_test, y_test), batch_size=256,\n",
    "              epochs=50, callbacks=[tb_callback])\n",
    "    model.evaluate(x_test, y_test)\n",
    "    model.save('../models/sub_imgs_{0}_{1}.h5'.format(conf, curr_dt))"
   ]
  },
  {
   "cell_type": "markdown",
   "metadata": {},
   "source": [
    "### 5 labels (a lot of data for each)"
   ]
  },
  {
   "cell_type": "code",
   "execution_count": 179,
   "metadata": {},
   "outputs": [],
   "source": [
    "labels = ['zeev', 'or', 'ron', 'aviya', 'felix']"
   ]
  },
  {
   "cell_type": "code",
   "execution_count": 180,
   "metadata": {},
   "outputs": [
    {
     "name": "stderr",
     "output_type": "stream",
     "text": [
      "100%|██████████| 3000/3000 [00:00<00:00, 9728.52it/s]\n",
      "100%|██████████| 3000/3000 [00:00<00:00, 8593.01it/s]\n",
      "100%|██████████| 3000/3000 [00:00<00:00, 9925.23it/s]\n",
      "0it [00:00, ?it/s]\n",
      "0it [00:00, ?it/s]\n",
      "0it [00:00, ?it/s]\n",
      "100%|██████████| 30000/30000 [00:03<00:00, 9710.71it/s]\n",
      "100%|██████████| 30000/30000 [00:03<00:00, 9635.05it/s]\n",
      "100%|██████████| 30000/30000 [00:03<00:00, 9501.30it/s]\n",
      "0it [00:00, ?it/s]\n",
      "100%|██████████| 22000/22000 [00:02<00:00, 9229.77it/s]\n",
      "0it [00:00, ?it/s]\n",
      "0it [00:00, ?it/s]\n",
      "0it [00:00, ?it/s]\n",
      "0it [00:00, ?it/s]\n"
     ]
    }
   ],
   "source": [
    "x_train, x_test, y_train, y_test = prep_data(dates, labels, x_data, y_data)"
   ]
  },
  {
   "cell_type": "code",
   "execution_count": 182,
   "metadata": {},
   "outputs": [
    {
     "data": {
      "image/png": "[encoded data removed]",
      "text/plain": [
       "<Figure size 432x288 with 1 Axes>"
      ]
     },
     "metadata": {},
     "output_type": "display_data"
    }
   ],
   "source": [
    "show_sample(1)"
   ]
  },
  {
   "cell_type": "code",
   "execution_count": 190,
   "metadata": {},
   "outputs": [
    {
     "name": "stdout",
     "output_type": "stream",
     "text": [
      "loading pre-trained model\n",
      "Train on 96800 samples, validate on 24200 samples\n",
      "Epoch 1/50\n",
      "96800/96800 [==============================] - 4s 44us/sample - loss: 1.1835 - acc: 0.4488 - val_loss: 1.1399 - val_acc: 0.4496\n",
      "Epoch 2/50\n",
      "96800/96800 [==============================] - 4s 40us/sample - loss: 1.0609 - acc: 0.5205 - val_loss: 1.0094 - val_acc: 0.5531\n",
      "Epoch 3/50\n",
      "96800/96800 [==============================] - 4s 39us/sample - loss: 1.0169 - acc: 0.5474 - val_loss: 1.0608 - val_acc: 0.5215\n",
      "Epoch 4/50\n",
      "96800/96800 [==============================] - 4s 39us/sample - loss: 0.9935 - acc: 0.5612 - val_loss: 0.9959 - val_acc: 0.5554\n",
      "Epoch 5/50\n",
      "96800/96800 [==============================] - 4s 40us/sample - loss: 0.9825 - acc: 0.5666 - val_loss: 0.9728 - val_acc: 0.5700\n",
      "Epoch 6/50\n",
      "96800/96800 [==============================] - 4s 41us/sample - loss: 0.9606 - acc: 0.5784 - val_loss: 0.9787 - val_acc: 0.5681\n",
      "Epoch 7/50\n",
      "96800/96800 [==============================] - 4s 40us/sample - loss: 0.9480 - acc: 0.5845 - val_loss: 0.9778 - val_acc: 0.5676\n",
      "Epoch 8/50\n",
      "96800/96800 [==============================] - 4s 42us/sample - loss: 0.9398 - acc: 0.5880 - val_loss: 0.9291 - val_acc: 0.5915\n",
      "Epoch 9/50\n",
      "96800/96800 [==============================] - 4s 43us/sample - loss: 0.9221 - acc: 0.5988 - val_loss: 0.9415 - val_acc: 0.5838\n",
      "Epoch 10/50\n",
      "96800/96800 [==============================] - 4s 43us/sample - loss: 0.9114 - acc: 0.6029 - val_loss: 0.9261 - val_acc: 0.5981\n",
      "Epoch 11/50\n",
      "96800/96800 [==============================] - 4s 43us/sample - loss: 0.8971 - acc: 0.6129 - val_loss: 0.8976 - val_acc: 0.6103\n",
      "Epoch 12/50\n",
      "96800/96800 [==============================] - 4s 43us/sample - loss: 0.8877 - acc: 0.6165 - val_loss: 0.9198 - val_acc: 0.5915\n",
      "Epoch 13/50\n",
      "96800/96800 [==============================] - 4s 44us/sample - loss: 0.8798 - acc: 0.6210 - val_loss: 0.8956 - val_acc: 0.6071\n",
      "Epoch 14/50\n",
      "96800/96800 [==============================] - 4s 42us/sample - loss: 0.8816 - acc: 0.6186 - val_loss: 0.8855 - val_acc: 0.6166\n",
      "Epoch 15/50\n",
      "96800/96800 [==============================] - 4s 40us/sample - loss: 0.8685 - acc: 0.6257 - val_loss: 0.8708 - val_acc: 0.6250\n",
      "Epoch 16/50\n",
      "96800/96800 [==============================] - 4s 41us/sample - loss: 0.8620 - acc: 0.6292 - val_loss: 0.8861 - val_acc: 0.6222\n",
      "Epoch 17/50\n",
      "96800/96800 [==============================] - 4s 42us/sample - loss: 0.8587 - acc: 0.6314 - val_loss: 0.8720 - val_acc: 0.6283\n",
      "Epoch 18/50\n",
      "96800/96800 [==============================] - 4s 43us/sample - loss: 0.8512 - acc: 0.6345 - val_loss: 0.9165 - val_acc: 0.6004\n",
      "Epoch 19/50\n",
      "96800/96800 [==============================] - 4s 42us/sample - loss: 0.8370 - acc: 0.6442 - val_loss: 0.8595 - val_acc: 0.6302\n",
      "Epoch 20/50\n",
      "96800/96800 [==============================] - 4s 39us/sample - loss: 0.8286 - acc: 0.6461 - val_loss: 0.9507 - val_acc: 0.5766\n",
      "Epoch 21/50\n",
      "96800/96800 [==============================] - 4s 40us/sample - loss: 0.8274 - acc: 0.6486 - val_loss: 0.8656 - val_acc: 0.6286\n",
      "Epoch 22/50\n",
      "96800/96800 [==============================] - 4s 43us/sample - loss: 0.8195 - acc: 0.6521 - val_loss: 0.8746 - val_acc: 0.6243\n",
      "Epoch 23/50\n",
      "96800/96800 [==============================] - 4s 40us/sample - loss: 0.8189 - acc: 0.6530 - val_loss: 0.8476 - val_acc: 0.6394\n",
      "Epoch 24/50\n",
      "96800/96800 [==============================] - 4s 41us/sample - loss: 0.8160 - acc: 0.6544 - val_loss: 0.9010 - val_acc: 0.6089\n",
      "Epoch 25/50\n",
      "96800/96800 [==============================] - 4s 41us/sample - loss: 0.8160 - acc: 0.6524 - val_loss: 0.8467 - val_acc: 0.6360\n",
      "Epoch 26/50\n",
      "96800/96800 [==============================] - 4s 40us/sample - loss: 0.8060 - acc: 0.6584 - val_loss: 0.8694 - val_acc: 0.6261\n",
      "Epoch 27/50\n",
      "96800/96800 [==============================] - 4s 41us/sample - loss: 0.8015 - acc: 0.6626 - val_loss: 0.8414 - val_acc: 0.6419\n",
      "Epoch 28/50\n",
      "96800/96800 [==============================] - 4s 40us/sample - loss: 0.7895 - acc: 0.6662 - val_loss: 0.8686 - val_acc: 0.6286\n",
      "Epoch 29/50\n",
      "96800/96800 [==============================] - 4s 40us/sample - loss: 0.7849 - acc: 0.6676 - val_loss: 0.8768 - val_acc: 0.6313\n",
      "Epoch 30/50\n",
      "96800/96800 [==============================] - 4s 40us/sample - loss: 0.7827 - acc: 0.6719 - val_loss: 0.8418 - val_acc: 0.6430\n",
      "Epoch 31/50\n",
      "96800/96800 [==============================] - 4s 42us/sample - loss: 0.7685 - acc: 0.6774 - val_loss: 0.8184 - val_acc: 0.6567\n",
      "Epoch 32/50\n",
      "96800/96800 [==============================] - 4s 40us/sample - loss: 0.7626 - acc: 0.6815 - val_loss: 0.8122 - val_acc: 0.6593\n",
      "Epoch 33/50\n",
      "96800/96800 [==============================] - 4s 42us/sample - loss: 0.7637 - acc: 0.6808 - val_loss: 0.8354 - val_acc: 0.6412\n",
      "Epoch 34/50\n",
      "96800/96800 [==============================] - 4s 41us/sample - loss: 0.7598 - acc: 0.6816 - val_loss: 0.8183 - val_acc: 0.6555\n",
      "Epoch 35/50\n",
      "96800/96800 [==============================] - 4s 40us/sample - loss: 0.7606 - acc: 0.6795 - val_loss: 0.9044 - val_acc: 0.6127\n",
      "Epoch 36/50\n",
      "96800/96800 [==============================] - 4s 40us/sample - loss: 0.7469 - acc: 0.6876 - val_loss: 0.8049 - val_acc: 0.6610\n",
      "Epoch 37/50\n",
      "96800/96800 [==============================] - 4s 39us/sample - loss: 0.7336 - acc: 0.6952 - val_loss: 0.8455 - val_acc: 0.6406\n",
      "Epoch 38/50\n",
      "96800/96800 [==============================] - 4s 40us/sample - loss: 0.7321 - acc: 0.6949 - val_loss: 0.8271 - val_acc: 0.6538\n",
      "Epoch 39/50\n",
      "96800/96800 [==============================] - 4s 39us/sample - loss: 0.7294 - acc: 0.6965 - val_loss: 0.8707 - val_acc: 0.6324\n",
      "Epoch 40/50\n",
      "96800/96800 [==============================] - 4s 39us/sample - loss: 0.7405 - acc: 0.6911 - val_loss: 0.8372 - val_acc: 0.6471\n",
      "Epoch 41/50\n",
      "96800/96800 [==============================] - 4s 39us/sample - loss: 0.7302 - acc: 0.6963 - val_loss: 0.8327 - val_acc: 0.6525\n",
      "Epoch 42/50\n",
      "96800/96800 [==============================] - 4s 40us/sample - loss: 0.7270 - acc: 0.6984 - val_loss: 0.8763 - val_acc: 0.6387\n",
      "Epoch 43/50\n",
      "96800/96800 [==============================] - 4s 40us/sample - loss: 0.7143 - acc: 0.7043 - val_loss: 0.7959 - val_acc: 0.6664\n",
      "Epoch 44/50\n",
      "96800/96800 [==============================] - 4s 41us/sample - loss: 0.7199 - acc: 0.7013 - val_loss: 0.8488 - val_acc: 0.6419\n",
      "Epoch 45/50\n",
      "96800/96800 [==============================] - 4s 40us/sample - loss: 0.7111 - acc: 0.7057 - val_loss: 0.7826 - val_acc: 0.6762\n",
      "Epoch 46/50\n",
      "96800/96800 [==============================] - 4s 40us/sample - loss: 0.7141 - acc: 0.7027 - val_loss: 0.8301 - val_acc: 0.6518\n",
      "Epoch 47/50\n",
      "96800/96800 [==============================] - 4s 40us/sample - loss: 0.7144 - acc: 0.7018 - val_loss: 0.8365 - val_acc: 0.6565\n",
      "Epoch 48/50\n",
      "96800/96800 [==============================] - 4s 40us/sample - loss: 0.7054 - acc: 0.7078 - val_loss: 0.8213 - val_acc: 0.6567\n",
      "Epoch 49/50\n",
      "96800/96800 [==============================] - 4s 41us/sample - loss: 0.6947 - acc: 0.7135 - val_loss: 0.8994 - val_acc: 0.6243\n",
      "Epoch 50/50\n",
      "96800/96800 [==============================] - 4s 40us/sample - loss: 0.7038 - acc: 0.7088 - val_loss: 0.8835 - val_acc: 0.6326\n",
      "24200/24200 [==============================] - 1s 56us/sample - loss: 0.8835 - acc: 0.6326\n",
      "loading pre-trained model\n",
      "Train on 96800 samples, validate on 24200 samples\n",
      "Epoch 1/50\n",
      "96800/96800 [==============================] - 4s 45us/sample - loss: 1.2242 - acc: 0.4238 - val_loss: 1.1231 - val_acc: 0.4594\n",
      "Epoch 2/50\n",
      "96800/96800 [==============================] - 4s 39us/sample - loss: 1.0689 - acc: 0.5151 - val_loss: 1.1102 - val_acc: 0.5067\n",
      "Epoch 3/50\n",
      "96800/96800 [==============================] - 4s 40us/sample - loss: 1.0298 - acc: 0.5426 - val_loss: 1.0586 - val_acc: 0.5329\n",
      "Epoch 4/50\n",
      "96800/96800 [==============================] - 4s 41us/sample - loss: 1.0054 - acc: 0.5549 - val_loss: 1.0117 - val_acc: 0.5436\n",
      "Epoch 5/50\n",
      "96800/96800 [==============================] - 4s 41us/sample - loss: 0.9879 - acc: 0.5655 - val_loss: 0.9875 - val_acc: 0.5662\n",
      "Epoch 6/50\n",
      "96800/96800 [==============================] - 4s 42us/sample - loss: 0.9763 - acc: 0.5703 - val_loss: 1.0297 - val_acc: 0.5440\n",
      "Epoch 7/50\n",
      "96800/96800 [==============================] - 4s 40us/sample - loss: 0.9592 - acc: 0.5802 - val_loss: 0.9753 - val_acc: 0.5651\n"
     ]
    },
    {
     "name": "stdout",
     "output_type": "stream",
     "text": [
      "Epoch 8/50\n",
      "96800/96800 [==============================] - 4s 40us/sample - loss: 0.9455 - acc: 0.5859 - val_loss: 0.9778 - val_acc: 0.5714\n",
      "Epoch 9/50\n",
      "96800/96800 [==============================] - 4s 40us/sample - loss: 0.9320 - acc: 0.5938 - val_loss: 0.9341 - val_acc: 0.5873\n",
      "Epoch 10/50\n",
      "96800/96800 [==============================] - 4s 39us/sample - loss: 0.9228 - acc: 0.5985 - val_loss: 0.9556 - val_acc: 0.5812\n",
      "Epoch 11/50\n",
      "96800/96800 [==============================] - 4s 39us/sample - loss: 0.9063 - acc: 0.6063 - val_loss: 0.9754 - val_acc: 0.5719\n",
      "Epoch 12/50\n",
      "96800/96800 [==============================] - 4s 39us/sample - loss: 0.8990 - acc: 0.6103 - val_loss: 0.9156 - val_acc: 0.6045\n",
      "Epoch 13/50\n",
      "96800/96800 [==============================] - 4s 40us/sample - loss: 0.8905 - acc: 0.6150 - val_loss: 0.9047 - val_acc: 0.6060\n",
      "Epoch 14/50\n",
      "96800/96800 [==============================] - 4s 39us/sample - loss: 0.8792 - acc: 0.6216 - val_loss: 0.9030 - val_acc: 0.6060\n",
      "Epoch 15/50\n",
      "96800/96800 [==============================] - 4s 39us/sample - loss: 0.8683 - acc: 0.6262 - val_loss: 0.8745 - val_acc: 0.6216\n",
      "Epoch 16/50\n",
      "96800/96800 [==============================] - 4s 39us/sample - loss: 0.8614 - acc: 0.6301 - val_loss: 0.8640 - val_acc: 0.6258\n",
      "Epoch 17/50\n",
      "96800/96800 [==============================] - 4s 39us/sample - loss: 0.8556 - acc: 0.6331 - val_loss: 0.8794 - val_acc: 0.6217\n",
      "Epoch 18/50\n",
      "96800/96800 [==============================] - 4s 39us/sample - loss: 0.8495 - acc: 0.6377 - val_loss: 0.8933 - val_acc: 0.6159\n",
      "Epoch 19/50\n",
      "96800/96800 [==============================] - 4s 39us/sample - loss: 0.8456 - acc: 0.6386 - val_loss: 0.8813 - val_acc: 0.6155\n",
      "Epoch 20/50\n",
      "96800/96800 [==============================] - 4s 39us/sample - loss: 0.8319 - acc: 0.6460 - val_loss: 0.9119 - val_acc: 0.5994\n",
      "Epoch 21/50\n",
      "96800/96800 [==============================] - 4s 40us/sample - loss: 0.8264 - acc: 0.6491 - val_loss: 0.8879 - val_acc: 0.6174\n",
      "Epoch 22/50\n",
      "96800/96800 [==============================] - 4s 40us/sample - loss: 0.8252 - acc: 0.6501 - val_loss: 0.8540 - val_acc: 0.6322\n",
      "Epoch 23/50\n",
      "96800/96800 [==============================] - 4s 40us/sample - loss: 0.8261 - acc: 0.6480 - val_loss: 0.8993 - val_acc: 0.6162\n",
      "Epoch 24/50\n",
      "96800/96800 [==============================] - 4s 40us/sample - loss: 0.8234 - acc: 0.6516 - val_loss: 0.8619 - val_acc: 0.6291\n",
      "Epoch 25/50\n",
      "96800/96800 [==============================] - 4s 40us/sample - loss: 0.8066 - acc: 0.6581 - val_loss: 0.8531 - val_acc: 0.6328\n",
      "Epoch 26/50\n",
      "96800/96800 [==============================] - 4s 39us/sample - loss: 0.8083 - acc: 0.6560 - val_loss: 0.8634 - val_acc: 0.6283\n",
      "Epoch 27/50\n",
      "96800/96800 [==============================] - 4s 40us/sample - loss: 0.8007 - acc: 0.6601 - val_loss: 0.8413 - val_acc: 0.6450\n",
      "Epoch 28/50\n",
      "96800/96800 [==============================] - 4s 39us/sample - loss: 0.8085 - acc: 0.6573 - val_loss: 0.8977 - val_acc: 0.6222\n",
      "Epoch 29/50\n",
      "96800/96800 [==============================] - 4s 39us/sample - loss: 0.7913 - acc: 0.6653 - val_loss: 0.8408 - val_acc: 0.6393\n",
      "Epoch 30/50\n",
      "96800/96800 [==============================] - 4s 39us/sample - loss: 0.7916 - acc: 0.6675 - val_loss: 0.8279 - val_acc: 0.6510\n",
      "Epoch 31/50\n",
      "96800/96800 [==============================] - 4s 41us/sample - loss: 0.7777 - acc: 0.6743 - val_loss: 0.8305 - val_acc: 0.6521\n",
      "Epoch 32/50\n",
      "96800/96800 [==============================] - 4s 40us/sample - loss: 0.7831 - acc: 0.6699 - val_loss: 0.8370 - val_acc: 0.6409\n",
      "Epoch 33/50\n",
      "96800/96800 [==============================] - 4s 39us/sample - loss: 0.7831 - acc: 0.6694 - val_loss: 0.8250 - val_acc: 0.6483\n",
      "Epoch 34/50\n",
      "96800/96800 [==============================] - 4s 39us/sample - loss: 0.7653 - acc: 0.6789 - val_loss: 0.8645 - val_acc: 0.6242\n",
      "Epoch 35/50\n",
      "96800/96800 [==============================] - 4s 38us/sample - loss: 0.7671 - acc: 0.6763 - val_loss: 0.8121 - val_acc: 0.6603\n",
      "Epoch 36/50\n",
      "96800/96800 [==============================] - 4s 39us/sample - loss: 0.7557 - acc: 0.6845 - val_loss: 0.8279 - val_acc: 0.6508\n",
      "Epoch 37/50\n",
      "96800/96800 [==============================] - 4s 39us/sample - loss: 0.7615 - acc: 0.6813 - val_loss: 0.8753 - val_acc: 0.6279\n",
      "Epoch 38/50\n",
      "96800/96800 [==============================] - 4s 39us/sample - loss: 0.7504 - acc: 0.6849 - val_loss: 0.8078 - val_acc: 0.6629\n",
      "Epoch 39/50\n",
      "96800/96800 [==============================] - 4s 40us/sample - loss: 0.7471 - acc: 0.6861 - val_loss: 0.8094 - val_acc: 0.6589\n",
      "Epoch 40/50\n",
      "96800/96800 [==============================] - 4s 39us/sample - loss: 0.7493 - acc: 0.6860 - val_loss: 0.8179 - val_acc: 0.6574\n",
      "Epoch 41/50\n",
      "96800/96800 [==============================] - 4s 40us/sample - loss: 0.7393 - acc: 0.6897 - val_loss: 0.8680 - val_acc: 0.6356\n",
      "Epoch 42/50\n",
      "96800/96800 [==============================] - 4s 39us/sample - loss: 0.7445 - acc: 0.6863 - val_loss: 0.8164 - val_acc: 0.6533\n",
      "Epoch 43/50\n",
      "96800/96800 [==============================] - 4s 39us/sample - loss: 0.7441 - acc: 0.6897 - val_loss: 0.8130 - val_acc: 0.6633\n",
      "Epoch 44/50\n",
      "96800/96800 [==============================] - 4s 39us/sample - loss: 0.7280 - acc: 0.6949 - val_loss: 0.7978 - val_acc: 0.6678\n",
      "Epoch 45/50\n",
      "96800/96800 [==============================] - 4s 39us/sample - loss: 0.7268 - acc: 0.6966 - val_loss: 0.8023 - val_acc: 0.6722\n",
      "Epoch 46/50\n",
      "96800/96800 [==============================] - 4s 39us/sample - loss: 0.7212 - acc: 0.6972 - val_loss: 0.7871 - val_acc: 0.6744\n",
      "Epoch 47/50\n",
      "96800/96800 [==============================] - 4s 39us/sample - loss: 0.7177 - acc: 0.7018 - val_loss: 0.7875 - val_acc: 0.6702\n",
      "Epoch 48/50\n",
      "96800/96800 [==============================] - 4s 39us/sample - loss: 0.7157 - acc: 0.7010 - val_loss: 0.8514 - val_acc: 0.6441\n",
      "Epoch 49/50\n",
      "96800/96800 [==============================] - 4s 39us/sample - loss: 0.7222 - acc: 0.6988 - val_loss: 0.8301 - val_acc: 0.6538\n",
      "Epoch 50/50\n",
      "96800/96800 [==============================] - 4s 39us/sample - loss: 0.7179 - acc: 0.7001 - val_loss: 0.8018 - val_acc: 0.6636\n",
      "24200/24200 [==============================] - 1s 58us/sample - loss: 0.8018 - acc: 0.6636\n",
      "loading pre-trained model\n",
      "Train on 96800 samples, validate on 24200 samples\n",
      "Epoch 1/50\n",
      "96800/96800 [==============================] - 4s 45us/sample - loss: 1.2036 - acc: 0.4366 - val_loss: 1.0744 - val_acc: 0.5179\n",
      "Epoch 2/50\n",
      "96800/96800 [==============================] - 4s 40us/sample - loss: 1.0622 - acc: 0.5198 - val_loss: 1.0657 - val_acc: 0.5181\n",
      "Epoch 3/50\n",
      "96800/96800 [==============================] - 4s 41us/sample - loss: 1.0234 - acc: 0.5450 - val_loss: 0.9939 - val_acc: 0.5605\n",
      "Epoch 4/50\n",
      "96800/96800 [==============================] - 4s 40us/sample - loss: 0.9996 - acc: 0.5583 - val_loss: 1.0035 - val_acc: 0.5590\n",
      "Epoch 5/50\n",
      "96800/96800 [==============================] - 4s 40us/sample - loss: 0.9862 - acc: 0.5644 - val_loss: 0.9790 - val_acc: 0.5664\n",
      "Epoch 6/50\n",
      "96800/96800 [==============================] - 4s 39us/sample - loss: 0.9665 - acc: 0.5740 - val_loss: 1.0150 - val_acc: 0.5458\n",
      "Epoch 7/50\n",
      "96800/96800 [==============================] - 4s 39us/sample - loss: 0.9598 - acc: 0.5772 - val_loss: 0.9431 - val_acc: 0.5841\n",
      "Epoch 8/50\n",
      "96800/96800 [==============================] - 4s 39us/sample - loss: 0.9451 - acc: 0.5869 - val_loss: 0.9402 - val_acc: 0.5872\n",
      "Epoch 9/50\n",
      "96800/96800 [==============================] - 4s 40us/sample - loss: 0.9347 - acc: 0.5913 - val_loss: 0.9690 - val_acc: 0.5643\n",
      "Epoch 10/50\n",
      "96800/96800 [==============================] - 4s 39us/sample - loss: 0.9228 - acc: 0.5962 - val_loss: 0.9358 - val_acc: 0.5893\n",
      "Epoch 11/50\n",
      "96800/96800 [==============================] - 4s 41us/sample - loss: 0.9135 - acc: 0.6024 - val_loss: 0.9190 - val_acc: 0.5981\n",
      "Epoch 12/50\n",
      "96800/96800 [==============================] - 4s 39us/sample - loss: 0.8972 - acc: 0.6129 - val_loss: 0.9497 - val_acc: 0.5845\n",
      "Epoch 13/50\n",
      "96800/96800 [==============================] - 4s 39us/sample - loss: 0.8875 - acc: 0.6157 - val_loss: 0.9036 - val_acc: 0.6081\n",
      "Epoch 14/50\n",
      "96800/96800 [==============================] - 4s 39us/sample - loss: 0.8801 - acc: 0.6180 - val_loss: 0.9920 - val_acc: 0.5675\n",
      "Epoch 15/50\n"
     ]
    },
    {
     "name": "stdout",
     "output_type": "stream",
     "text": [
      "96800/96800 [==============================] - 4s 39us/sample - loss: 0.8764 - acc: 0.6216 - val_loss: 0.9079 - val_acc: 0.6008\n",
      "Epoch 16/50\n",
      "96800/96800 [==============================] - 4s 39us/sample - loss: 0.8672 - acc: 0.6249 - val_loss: 0.8884 - val_acc: 0.6108\n",
      "Epoch 17/50\n",
      "96800/96800 [==============================] - 4s 39us/sample - loss: 0.8576 - acc: 0.6314 - val_loss: 0.9420 - val_acc: 0.5873\n",
      "Epoch 18/50\n",
      "96800/96800 [==============================] - 4s 39us/sample - loss: 0.8501 - acc: 0.6373 - val_loss: 0.9003 - val_acc: 0.6107\n",
      "Epoch 19/50\n",
      "96800/96800 [==============================] - 4s 39us/sample - loss: 0.8424 - acc: 0.6399 - val_loss: 0.8890 - val_acc: 0.6151\n",
      "Epoch 20/50\n",
      "96800/96800 [==============================] - 4s 39us/sample - loss: 0.8368 - acc: 0.6440 - val_loss: 0.8747 - val_acc: 0.6210\n",
      "Epoch 21/50\n",
      "96800/96800 [==============================] - 4s 39us/sample - loss: 0.8271 - acc: 0.6496 - val_loss: 0.8548 - val_acc: 0.6366\n",
      "Epoch 22/50\n",
      "96800/96800 [==============================] - 4s 39us/sample - loss: 0.8160 - acc: 0.6549 - val_loss: 0.8710 - val_acc: 0.6238\n",
      "Epoch 23/50\n",
      "96800/96800 [==============================] - 4s 39us/sample - loss: 0.8285 - acc: 0.6460 - val_loss: 0.8446 - val_acc: 0.6397\n",
      "Epoch 24/50\n",
      "96800/96800 [==============================] - 4s 39us/sample - loss: 0.8204 - acc: 0.6513 - val_loss: 0.8780 - val_acc: 0.6251\n",
      "Epoch 25/50\n",
      "96800/96800 [==============================] - 4s 39us/sample - loss: 0.8139 - acc: 0.6560 - val_loss: 0.8430 - val_acc: 0.6471\n",
      "Epoch 26/50\n",
      "96800/96800 [==============================] - 4s 40us/sample - loss: 0.8047 - acc: 0.6603 - val_loss: 0.8246 - val_acc: 0.6529\n",
      "Epoch 27/50\n",
      "96800/96800 [==============================] - 4s 39us/sample - loss: 0.8010 - acc: 0.6611 - val_loss: 0.8443 - val_acc: 0.6426\n",
      "Epoch 28/50\n",
      "96800/96800 [==============================] - 4s 39us/sample - loss: 0.8027 - acc: 0.6592 - val_loss: 0.8813 - val_acc: 0.6260\n",
      "Epoch 29/50\n",
      "96800/96800 [==============================] - 4s 39us/sample - loss: 0.7973 - acc: 0.6635 - val_loss: 0.8410 - val_acc: 0.6421\n",
      "Epoch 30/50\n",
      "96800/96800 [==============================] - 4s 39us/sample - loss: 0.7870 - acc: 0.6681 - val_loss: 0.8376 - val_acc: 0.6424\n",
      "Epoch 31/50\n",
      "96800/96800 [==============================] - 4s 40us/sample - loss: 0.7871 - acc: 0.6677 - val_loss: 0.8389 - val_acc: 0.6449\n",
      "Epoch 32/50\n",
      "96800/96800 [==============================] - 4s 39us/sample - loss: 0.7877 - acc: 0.6673 - val_loss: 0.8435 - val_acc: 0.6410\n",
      "Epoch 33/50\n",
      "96800/96800 [==============================] - 4s 39us/sample - loss: 0.7842 - acc: 0.6671 - val_loss: 0.8421 - val_acc: 0.6410\n",
      "Epoch 34/50\n",
      "96800/96800 [==============================] - 4s 39us/sample - loss: 0.7833 - acc: 0.6685 - val_loss: 0.8462 - val_acc: 0.6437\n",
      "Epoch 35/50\n",
      "96800/96800 [==============================] - 4s 39us/sample - loss: 0.7665 - acc: 0.6775 - val_loss: 0.8239 - val_acc: 0.6508\n",
      "Epoch 36/50\n",
      "96800/96800 [==============================] - 4s 41us/sample - loss: 0.7684 - acc: 0.6763 - val_loss: 0.8257 - val_acc: 0.6526\n",
      "Epoch 37/50\n",
      "96800/96800 [==============================] - 4s 40us/sample - loss: 0.7614 - acc: 0.6799 - val_loss: 0.8304 - val_acc: 0.6494\n",
      "Epoch 38/50\n",
      "96800/96800 [==============================] - 4s 39us/sample - loss: 0.7649 - acc: 0.6796 - val_loss: 0.8800 - val_acc: 0.6218\n",
      "Epoch 39/50\n",
      "96800/96800 [==============================] - 4s 39us/sample - loss: 0.7636 - acc: 0.6786 - val_loss: 0.8125 - val_acc: 0.6602\n",
      "Epoch 40/50\n",
      "96800/96800 [==============================] - 4s 39us/sample - loss: 0.7566 - acc: 0.6826 - val_loss: 0.9092 - val_acc: 0.6226\n",
      "Epoch 41/50\n",
      "96800/96800 [==============================] - 4s 39us/sample - loss: 0.7528 - acc: 0.6842 - val_loss: 0.8378 - val_acc: 0.6493\n",
      "Epoch 42/50\n",
      "96800/96800 [==============================] - 4s 40us/sample - loss: 0.7412 - acc: 0.6912 - val_loss: 0.8213 - val_acc: 0.6547\n",
      "Epoch 43/50\n",
      "96800/96800 [==============================] - 4s 39us/sample - loss: 0.7420 - acc: 0.6881 - val_loss: 0.8009 - val_acc: 0.6664\n",
      "Epoch 44/50\n",
      "96800/96800 [==============================] - 4s 39us/sample - loss: 0.7382 - acc: 0.6905 - val_loss: 0.8363 - val_acc: 0.6384\n",
      "Epoch 45/50\n",
      "96800/96800 [==============================] - 4s 39us/sample - loss: 0.7611 - acc: 0.6778 - val_loss: 0.8890 - val_acc: 0.6202\n",
      "Epoch 46/50\n",
      "96800/96800 [==============================] - 4s 39us/sample - loss: 0.7456 - acc: 0.6875 - val_loss: 0.8206 - val_acc: 0.6469\n",
      "Epoch 47/50\n",
      "96800/96800 [==============================] - 4s 39us/sample - loss: 0.7406 - acc: 0.6898 - val_loss: 0.8275 - val_acc: 0.6545\n",
      "Epoch 48/50\n",
      "96800/96800 [==============================] - 4s 39us/sample - loss: 0.7388 - acc: 0.6912 - val_loss: 0.8091 - val_acc: 0.6647\n",
      "Epoch 49/50\n",
      "96800/96800 [==============================] - 4s 40us/sample - loss: 0.7345 - acc: 0.6939 - val_loss: 0.8066 - val_acc: 0.6623\n",
      "Epoch 50/50\n",
      "96800/96800 [==============================] - 4s 40us/sample - loss: 0.7368 - acc: 0.6900 - val_loss: 0.8094 - val_acc: 0.6586\n",
      "24200/24200 [==============================] - 1s 58us/sample - loss: 0.8094 - acc: 0.6586\n"
     ]
    }
   ],
   "source": [
    "run_custom_training(conf_list, x_train, y_train, x_test, y_test,\n",
    "                    model_path_prefix='5_lbls', model_weights='../models/[32, 512, 0.1]_201953_12_56.h5')"
   ]
  },
  {
   "cell_type": "code",
   "execution_count": null,
   "metadata": {},
   "outputs": [],
   "source": []
  }
 ],
 "metadata": {
  "kernelspec": {
   "display_name": "Python 3",
   "language": "python",
   "name": "python3"
  },
  "language_info": {
   "codemirror_mode": {
    "name": "ipython",
    "version": 3
   },
   "file_extension": ".py",
   "mimetype": "text/x-python",
   "name": "python",
   "nbconvert_exporter": "python",
   "pygments_lexer": "ipython3",
   "version": "3.7.3"
  }
 },
 "nbformat": 4,
 "nbformat_minor": 2
}
