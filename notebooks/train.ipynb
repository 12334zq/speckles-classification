{
 "cells": [
  {
   "cell_type": "code",
   "execution_count": 19,
   "metadata": {},
   "outputs": [],
   "source": [
    "from sklearn.model_selection import train_test_split\n",
    "import matplotlib.pyplot as plt\n",
    "import tensorflow as tf\n",
    "from tensorflow import keras\n",
    "from tqdm import tqdm\n",
    "import numpy as np\n",
    "import itertools\n",
    "import datetime\n",
    "import time\n",
    "import glob\n",
    "import cv2\n",
    "import os\n",
    "from keras.models import Model\n",
    "from keras.preprocessing import image\n",
    "from keras.layers import Dense, GlobalAveragePooling2D, Dropout\n",
    "from keras.applications.resnet50 import ResNet50, preprocess_input"
   ]
  },
  {
   "cell_type": "markdown",
   "metadata": {},
   "source": [
    "### Simple NN"
   ]
  },
  {
   "cell_type": "markdown",
   "metadata": {},
   "source": [
    "##### Load data"
   ]
  },
  {
   "cell_type": "code",
   "execution_count": 20,
   "metadata": {},
   "outputs": [],
   "source": [
    "dates = ['24032019', '17042019', '01052019']\n",
    "labels = ['zeev', 'or', 'ron', 'aviya', 'felix']\n",
    "TRAIN_AND_VALIDATION_TEST_SPLIT = 0.2\n",
    "VALID_AND_TEST_SPLIT           = 0.5"
   ]
  },
  {
   "cell_type": "code",
   "execution_count": 3,
   "metadata": {},
   "outputs": [],
   "source": [
    "# stratified data\n",
    "x_train = [] \n",
    "y_train = []\n",
    "\n",
    "x_valid = []\n",
    "y_valid = []\n",
    "\n",
    "x_test  = []\n",
    "y_test  = []"
   ]
  },
  {
   "cell_type": "code",
   "execution_count": 4,
   "metadata": {},
   "outputs": [],
   "source": [
    "def prep_data(dates, labels, x_train, y_train, x_valid, y_valid, x_test, y_test):  \n",
    "    # for i, l in enumerate(labels):\n",
    "    for d in dates:\n",
    "        for i, l in enumerate(labels):\n",
    "            x_data = []\n",
    "            y_data = []\n",
    "            for f in tqdm(glob.glob('../data/frames/{0}/{1}/32/*.png'.format(d, l))):\n",
    "                x_data.append(cv2.imread(f, cv2.IMREAD_GRAYSCALE))\n",
    "                y_data.append(i)\n",
    "            x_train_label, xx_test_label, y_train_label, yy_test_label \\\n",
    "                             = train_test_split(x_data, y_data, test_size=TRAIN_AND_VALIDATION_TEST_SPLIT)\n",
    "            x_valid_label, x_test_label, y_valid_label, y_test_label \\\n",
    "                         = train_test_split(xx_test_label, yy_test_label, test_size=VALID_AND_TEST_SPLIT)  \n",
    "\n",
    "            x_train.append(x_train_label)\n",
    "            y_train.append(y_train_label)\n",
    "            x_test.append(x_test_label)\n",
    "            y_test.append(y_test_label)\n",
    "            x_valid.append(x_valid_label)\n",
    "            y_valid.append(y_valid_label)\n",
    "\n",
    "    x_train = list(itertools.chain.from_iterable(x_train))\n",
    "    y_train = list(itertools.chain.from_iterable(y_train))\n",
    "    x_test = list(itertools.chain.from_iterable(x_test))\n",
    "    y_test = list(itertools.chain.from_iterable(y_test))\n",
    "    x_valid = list(itertools.chain.from_iterable(x_valid))\n",
    "    y_valid = list(itertools.chain.from_iterable(y_valid))\n",
    "\n",
    "    x_valid = np.asarray(x_valid)\n",
    "    y_valid = np.asarray(y_valid)\n",
    "    x_test  = np.asarray(x_test)\n",
    "    y_test  = np.asarray(y_test)\n",
    "    x_train = np.asarray(x_train)\n",
    "    y_train = np.asarray(y_train)\n",
    "\n",
    "    x_train= x_train / 255.0, \n",
    "    x_valid  = x_valid / 255.0\n",
    "    x_test = x_test / 255.0\n",
    "    return x_train, y_train, x_valid, y_valid, x_test, y_test"
   ]
  },
  {
   "cell_type": "code",
   "execution_count": 5,
   "metadata": {},
   "outputs": [
    {
     "name": "stderr",
     "output_type": "stream",
     "text": [
      "100%|██████████| 3000/3000 [00:00<00:00, 5553.85it/s]\n",
      "100%|██████████| 3000/3000 [00:00<00:00, 5029.85it/s]\n",
      "100%|██████████| 3000/3000 [00:00<00:00, 6056.77it/s]\n",
      "0it [00:00, ?it/s]\n",
      "0it [00:00, ?it/s]\n",
      "0it [00:00, ?it/s]\n",
      "100%|██████████| 30000/30000 [00:05<00:00, 5877.78it/s]\n",
      "100%|██████████| 30000/30000 [00:05<00:00, 5839.19it/s]\n",
      "100%|██████████| 30000/30000 [00:05<00:00, 5467.58it/s]\n",
      "0it [00:00, ?it/s]\n",
      "100%|██████████| 22000/22000 [00:03<00:00, 5881.42it/s]\n",
      "0it [00:00, ?it/s]\n",
      "0it [00:00, ?it/s]\n",
      "0it [00:00, ?it/s]\n",
      "100%|██████████| 21000/21000 [00:03<00:00, 5673.06it/s]\n"
     ]
    }
   ],
   "source": [
    "x_train, y_train, x_valid, y_valid, x_test, y_test = prep_data(dates, labels, x_train, y_train, x_valid, y_valid, x_test, y_test)"
   ]
  },
  {
   "cell_type": "code",
   "execution_count": 6,
   "metadata": {},
   "outputs": [],
   "source": [
    "def show_sample(idx):\n",
    "    plt.imshow(x_data[idx])\n",
    "    plt.show()"
   ]
  },
  {
   "cell_type": "code",
   "execution_count": 8,
   "metadata": {},
   "outputs": [],
   "source": [
    "#Check if stratified\n",
    "\n",
    "# print(len(y_train),len(y_valid),len(y_test))\n",
    "\n",
    "# unique, counts = np.unique(y_valid, return_counts=True)\n",
    "# np.asarray((unique, counts)).T"
   ]
  },
  {
   "cell_type": "code",
   "execution_count": 9,
   "metadata": {},
   "outputs": [
    {
     "name": "stdout",
     "output_type": "stream",
     "text": [
      "WARNING:tensorflow:From /home/or/.virtualenvs/speckles/local/lib/python2.7/site-packages/tensorflow/python/ops/resource_variable_ops.py:435: colocate_with (from tensorflow.python.framework.ops) is deprecated and will be removed in a future version.\n",
      "Instructions for updating:\n",
      "Colocations handled automatically by placer.\n",
      "WARNING:tensorflow:From /home/or/.virtualenvs/speckles/local/lib/python2.7/site-packages/tensorflow/python/keras/layers/core.py:143: calling dropout (from tensorflow.python.ops.nn_ops) with keep_prob is deprecated and will be removed in a future version.\n",
      "Instructions for updating:\n",
      "Please use `rate` instead of `keep_prob`. Rate should be set to `rate = 1 - keep_prob`.\n"
     ]
    }
   ],
   "source": [
    "model = tf.keras.models.Sequential([\n",
    "    tf.keras.layers.Flatten(input_shape=(32, 32)),\n",
    "    tf.keras.layers.Dense(512, activation=tf.nn.relu),\n",
    "    tf.keras.layers.Dropout(0.2),\n",
    "    tf.keras.layers.Dense(len(labels), activation=tf.nn.softmax)\n",
    "])"
   ]
  },
  {
   "cell_type": "code",
   "execution_count": 10,
   "metadata": {},
   "outputs": [],
   "source": [
    "model.compile(optimizer='adam',\n",
    "              loss='sparse_categorical_crossentropy',\n",
    "              metrics=['accuracy'])"
   ]
  },
  {
   "cell_type": "code",
   "execution_count": 11,
   "metadata": {
    "scrolled": true
   },
   "outputs": [
    {
     "name": "stdout",
     "output_type": "stream",
     "text": [
      "_________________________________________________________________\n",
      "Layer (type)                 Output Shape              Param #   \n",
      "=================================================================\n",
      "flatten (Flatten)            (None, 1024)              0         \n",
      "_________________________________________________________________\n",
      "dense (Dense)                (None, 512)               524800    \n",
      "_________________________________________________________________\n",
      "dropout (Dropout)            (None, 512)               0         \n",
      "_________________________________________________________________\n",
      "dense_1 (Dense)              (None, 5)                 2565      \n",
      "=================================================================\n",
      "Total params: 527,365\n",
      "Trainable params: 527,365\n",
      "Non-trainable params: 0\n",
      "_________________________________________________________________\n"
     ]
    }
   ],
   "source": [
    "model.summary()"
   ]
  },
  {
   "cell_type": "code",
   "execution_count": 7,
   "metadata": {},
   "outputs": [],
   "source": [
    "def set_curr_time():\n",
    "    dt = datetime.datetime.now()\n",
    "    curr_dt = '{0}{1}{2}_{3}_{4}'.format(datetime.datetime.now().year, datetime.datetime.now().month,\n",
    "                                       datetime.datetime.now().day, datetime.datetime.now().hour,\n",
    "                                      datetime.datetime.now().minute)\n",
    "    return curr_dt"
   ]
  },
  {
   "cell_type": "code",
   "execution_count": 33,
   "metadata": {},
   "outputs": [],
   "source": [
    "conf_list = [\n",
    "#     [32, 512, 0.2],\n",
    "#     [32, 256, 0.2],\n",
    "    [32, 256, 0.3,128,0.3]\n",
    "]"
   ]
  },
  {
   "cell_type": "code",
   "execution_count": 34,
   "metadata": {},
   "outputs": [],
   "source": [
    "def custom_model(config, model_weights=None):\n",
    "    model = tf.keras.models.Sequential([\n",
    "        tf.keras.layers.Flatten(input_shape=(config[0], config[0])),\n",
    "        tf.keras.layers.Dense(config[1], kernel_regularizer=keras.regularizers.l2(0.0001)),\n",
    "        tf.keras.layers.BatchNormalization(),\n",
    "        tf.keras.layers.Activation(activation=tf.nn.selu),\n",
    "        tf.keras.layers.Dropout(config[2]),\n",
    "        tf.keras.layers.Dense(config[3],kernel_regularizer=keras.regularizers.l2(0.0001)),\n",
    "        tf.keras.layers.BatchNormalization(),\n",
    "        tf.keras.layers.Activation(activation=tf.nn.selu),\n",
    "        tf.keras.layers.Dropout(config[4]),        \n",
    "        tf.keras.layers.Dense(len(labels), activation=tf.nn.softmax)\n",
    "    ])\n",
    "    if model_weights is not None:\n",
    "        print('loading pre-trained model')\n",
    "        model.load_weights(model_weights, by_name=True)\n",
    "    model.compile(optimizer='adam',\n",
    "                  loss='sparse_categorical_crossentropy',\n",
    "                      metrics=['accuracy'])\n",
    "    return model"
   ]
  },
  {
   "cell_type": "code",
   "execution_count": 35,
   "metadata": {
    "scrolled": false
   },
   "outputs": [
    {
     "name": "stdout",
     "output_type": "stream",
     "text": [
      "Train on 113600 samples, validate on 14200 samples\n",
      "Epoch 1/50\n",
      "113600/113600 [==============================] - 35s 308us/sample - loss: 1.3082 - acc: 0.4819 - val_loss: 1.5950 - val_acc: 0.3821\n",
      "Epoch 2/50\n",
      "113600/113600 [==============================] - 34s 301us/sample - loss: 1.1172 - acc: 0.5623 - val_loss: 1.3033 - val_acc: 0.4651\n",
      "Epoch 3/50\n",
      "113600/113600 [==============================] - 28s 244us/sample - loss: 1.0739 - acc: 0.5832 - val_loss: 1.0775 - val_acc: 0.5842\n",
      "Epoch 4/50\n",
      "113600/113600 [==============================] - 31s 269us/sample - loss: 1.0459 - acc: 0.5968 - val_loss: 1.2806 - val_acc: 0.4934\n",
      "Epoch 5/50\n",
      "113600/113600 [==============================] - 35s 307us/sample - loss: 1.0206 - acc: 0.6094 - val_loss: 1.0724 - val_acc: 0.5854\n",
      "Epoch 6/50\n",
      "113600/113600 [==============================] - 32s 284us/sample - loss: 0.9998 - acc: 0.6183 - val_loss: 1.0624 - val_acc: 0.5849\n",
      "Epoch 7/50\n",
      "113600/113600 [==============================] - 34s 301us/sample - loss: 0.9785 - acc: 0.6307 - val_loss: 1.0542 - val_acc: 0.5955\n",
      "Epoch 8/50\n",
      "113600/113600 [==============================] - 36s 313us/sample - loss: 0.9577 - acc: 0.6411 - val_loss: 1.2254 - val_acc: 0.5383\n",
      "Epoch 9/50\n",
      "113600/113600 [==============================] - 34s 302us/sample - loss: 0.9359 - acc: 0.6528 - val_loss: 1.1963 - val_acc: 0.5602\n",
      "Epoch 10/50\n",
      "113600/113600 [==============================] - 34s 302us/sample - loss: 0.9099 - acc: 0.6669 - val_loss: 1.0855 - val_acc: 0.5854\n",
      "Epoch 11/50\n",
      "113600/113600 [==============================] - 24s 207us/sample - loss: 0.8868 - acc: 0.6790 - val_loss: 1.1255 - val_acc: 0.5876\n",
      "Epoch 12/50\n",
      "113600/113600 [==============================] - 17s 149us/sample - loss: 0.8630 - acc: 0.6911 - val_loss: 1.1917 - val_acc: 0.5663\n",
      "Epoch 13/50\n",
      "113600/113600 [==============================] - 17s 150us/sample - loss: 0.8369 - acc: 0.7058 - val_loss: 1.2912 - val_acc: 0.5765\n",
      "Epoch 14/50\n",
      "113600/113600 [==============================] - 16s 137us/sample - loss: 0.8171 - acc: 0.7162 - val_loss: 1.4766 - val_acc: 0.5129\n",
      "Epoch 15/50\n",
      "113600/113600 [==============================] - 16s 145us/sample - loss: 0.7909 - acc: 0.7286 - val_loss: 1.2465 - val_acc: 0.5420\n",
      "Epoch 16/50\n",
      "113600/113600 [==============================] - 17s 152us/sample - loss: 0.7754 - acc: 0.7353 - val_loss: 1.3275 - val_acc: 0.5743\n",
      "Epoch 17/50\n",
      "113600/113600 [==============================] - 18s 157us/sample - loss: 0.7517 - acc: 0.7493 - val_loss: 1.3837 - val_acc: 0.5834\n",
      "Epoch 18/50\n",
      "113600/113600 [==============================] - 18s 156us/sample - loss: 0.7338 - acc: 0.7571 - val_loss: 1.0110 - val_acc: 0.6525\n",
      "Epoch 19/50\n",
      "113600/113600 [==============================] - 27s 237us/sample - loss: 0.7172 - acc: 0.7661 - val_loss: 1.0808 - val_acc: 0.6213\n",
      "Epoch 20/50\n",
      "113600/113600 [==============================] - 28s 244us/sample - loss: 0.7049 - acc: 0.7720 - val_loss: 1.1645 - val_acc: 0.6117\n",
      "Epoch 21/50\n",
      "113600/113600 [==============================] - 30s 265us/sample - loss: 0.6882 - acc: 0.7815 - val_loss: 1.2660 - val_acc: 0.5872\n",
      "Epoch 22/50\n",
      "113600/113600 [==============================] - 35s 306us/sample - loss: 0.6744 - acc: 0.7877 - val_loss: 1.4943 - val_acc: 0.5079\n",
      "Epoch 23/50\n",
      "113600/113600 [==============================] - 44s 388us/sample - loss: 0.6643 - acc: 0.7918 - val_loss: 1.2504 - val_acc: 0.5994\n",
      "Epoch 24/50\n",
      "113600/113600 [==============================] - 67s 587us/sample - loss: 0.6526 - acc: 0.7968 - val_loss: 1.9707 - val_acc: 0.4630\n",
      "Epoch 25/50\n",
      "113600/113600 [==============================] - 52s 461us/sample - loss: 0.6410 - acc: 0.8022 - val_loss: 1.1050 - val_acc: 0.6332\n",
      "Epoch 26/50\n",
      "113600/113600 [==============================] - 54s 475us/sample - loss: 0.6286 - acc: 0.8089 - val_loss: 1.1174 - val_acc: 0.6549\n",
      "Epoch 27/50\n",
      "113600/113600 [==============================] - 54s 479us/sample - loss: 0.6228 - acc: 0.8130 - val_loss: 1.2098 - val_acc: 0.5964\n",
      "Epoch 28/50\n",
      "113600/113600 [==============================] - 45s 397us/sample - loss: 0.6148 - acc: 0.8152 - val_loss: 1.6708 - val_acc: 0.5413\n",
      "Epoch 29/50\n",
      "113600/113600 [==============================] - 43s 381us/sample - loss: 0.6064 - acc: 0.8182 - val_loss: 1.1590 - val_acc: 0.6327\n",
      "Epoch 30/50\n",
      "113600/113600 [==============================] - 37s 327us/sample - loss: 0.5998 - acc: 0.8217 - val_loss: 1.0535 - val_acc: 0.6626\n",
      "Epoch 31/50\n",
      "113600/113600 [==============================] - 39s 343us/sample - loss: 0.5919 - acc: 0.8252 - val_loss: 1.4288 - val_acc: 0.5906\n",
      "Epoch 32/50\n",
      "113600/113600 [==============================] - 37s 330us/sample - loss: 0.5871 - acc: 0.8286 - val_loss: 1.0263 - val_acc: 0.6851\n",
      "Epoch 33/50\n",
      "113600/113600 [==============================] - 38s 332us/sample - loss: 0.5789 - acc: 0.8330 - val_loss: 1.2764 - val_acc: 0.6088\n",
      "Epoch 34/50\n",
      "113600/113600 [==============================] - 40s 353us/sample - loss: 0.5720 - acc: 0.8356 - val_loss: 1.5403 - val_acc: 0.5653\n",
      "Epoch 35/50\n",
      "113600/113600 [==============================] - 39s 340us/sample - loss: 0.5675 - acc: 0.8385 - val_loss: 1.3780 - val_acc: 0.6075\n",
      "Epoch 36/50\n",
      "113600/113600 [==============================] - 39s 341us/sample - loss: 0.5625 - acc: 0.8402 - val_loss: 1.0799 - val_acc: 0.6701\n",
      "Epoch 37/50\n",
      "113600/113600 [==============================] - 41s 357us/sample - loss: 0.5551 - acc: 0.8438 - val_loss: 1.3721 - val_acc: 0.6035\n",
      "Epoch 38/50\n",
      "113600/113600 [==============================] - 34s 303us/sample - loss: 0.5533 - acc: 0.8443 - val_loss: 1.1671 - val_acc: 0.6526\n",
      "Epoch 39/50\n",
      "113600/113600 [==============================] - 34s 299us/sample - loss: 0.5501 - acc: 0.8474 - val_loss: 1.2837 - val_acc: 0.6255\n",
      "Epoch 40/50\n",
      "113600/113600 [==============================] - 35s 310us/sample - loss: 0.5474 - acc: 0.8468 - val_loss: 1.1705 - val_acc: 0.6432\n",
      "Epoch 41/50\n",
      "113600/113600 [==============================] - 43s 375us/sample - loss: 0.5381 - acc: 0.8520 - val_loss: 1.8064 - val_acc: 0.6048\n",
      "Epoch 42/50\n",
      "113600/113600 [==============================] - 40s 351us/sample - loss: 0.5340 - acc: 0.8541 - val_loss: 1.1567 - val_acc: 0.6524\n",
      "Epoch 43/50\n",
      "113600/113600 [==============================] - 39s 342us/sample - loss: 0.5367 - acc: 0.8528 - val_loss: 1.2209 - val_acc: 0.6400\n",
      "Epoch 44/50\n",
      "113600/113600 [==============================] - 40s 356us/sample - loss: 0.5305 - acc: 0.8557 - val_loss: 1.6855 - val_acc: 0.5259\n",
      "Epoch 45/50\n",
      "113600/113600 [==============================] - 33s 292us/sample - loss: 0.5258 - acc: 0.8572 - val_loss: 1.3120 - val_acc: 0.6454\n",
      "Epoch 46/50\n",
      "113600/113600 [==============================] - 46s 402us/sample - loss: 0.5217 - acc: 0.8596 - val_loss: 2.0194 - val_acc: 0.5453\n",
      "Epoch 47/50\n",
      "113600/113600 [==============================] - 28s 247us/sample - loss: 0.5201 - acc: 0.8612 - val_loss: 3.2018 - val_acc: 0.4265\n",
      "Epoch 48/50\n",
      "113600/113600 [==============================] - 22s 196us/sample - loss: 0.5155 - acc: 0.8628 - val_loss: 1.0960 - val_acc: 0.6877\n",
      "Epoch 49/50\n",
      "113600/113600 [==============================] - 20s 175us/sample - loss: 0.5135 - acc: 0.8640 - val_loss: 2.1126 - val_acc: 0.5023\n",
      "Epoch 50/50\n",
      "113600/113600 [==============================] - 18s 155us/sample - loss: 0.5107 - acc: 0.8641 - val_loss: 1.4086 - val_acc: 0.6134\n",
      "---Test loss & accuracy---\n",
      "14200/14200 [==============================] - 3s 195us/sample - loss: 1.4463 - acc: 0.6034\n",
      "Training time:1703.41062498\n"
     ]
    }
   ],
   "source": [
    "def run_custom_training(conf_list, x_train, y_train, x_valid, y_valid, x_test, y_test, model_path_prefix=None, model_weights=None):\n",
    "    for conf in conf_list:\n",
    "        curr_dt = set_curr_time()\n",
    "        tb_callback = tf.keras.callbacks.TensorBoard(log_dir='../logs/{0}'.format(curr_dt), histogram_freq=0, write_graph=True)\n",
    "        model = custom_model(conf, model_weights)\n",
    "        tic = time.time()\n",
    "        model.fit(x_train, y_train, validation_data=(x_valid, y_valid), batch_size=256,\n",
    "                  epochs=50, callbacks=[tb_callback])\n",
    "        toc = time.time()\n",
    "        print('---Test loss & accuracy---')\n",
    "        model.evaluate(x_test, y_test)\n",
    "        print('Training time:{}'.format(toc-tic))\n",
    "\n",
    "#         if model_path_prefix is None:\n",
    "#             model.save('../models/{0}_{1}.h5'.format(conf, curr_dt))\n",
    "#         else:\n",
    "#             model.save('../models/{0}_{1}_{2}.h5'.format(model_path_prefix, conf, curr_dt))\n",
    "            \n",
    "run_custom_training(conf_list, x_train, y_train, x_valid, y_valid, x_test, y_test, model_path_prefix=None, model_weights=None)            "
   ]
  },
  {
   "cell_type": "markdown",
   "metadata": {},
   "source": [
    "## resnet 50 model"
   ]
  },
  {
   "cell_type": "code",
   "execution_count": 4,
   "metadata": {},
   "outputs": [],
   "source": [
    "CLASSES = 5\n",
    "\n",
    "# stratified data\n",
    "x_train = [] \n",
    "y_train = []\n",
    "\n",
    "x_valid = []\n",
    "y_valid = []\n",
    "\n",
    "x_test  = []\n",
    "y_test  = []"
   ]
  },
  {
   "cell_type": "code",
   "execution_count": null,
   "metadata": {},
   "outputs": [
    {
     "name": "stderr",
     "output_type": "stream",
     "text": [
      "100%|██████████| 3000/3000 [00:00<00:00, 4073.48it/s]\n",
      " 43%|████▎     | 1286/3000 [01:46<5:52:48, 12.35s/it]"
     ]
    }
   ],
   "source": [
    "def prep_data(dates, labels, x_train, y_train, x_valid, y_valid, x_test, y_test):  \n",
    "    # for i, l in enumerate(labels):\n",
    "    for d in dates:\n",
    "        for i, l in enumerate(labels):\n",
    "            x_data = []\n",
    "            y_data = []\n",
    "            for f in tqdm(glob.glob('../data/frames/{0}/{1}/32/*.png'.format(d, l))):\n",
    "#                 img = cv2.resize(cv2.imread(f, cv2.IMREAD_GRAYSCALE), (224,224))\n",
    "#                 x = preprocess_input(cv2.resize(cv2.imread(f, cv2.IMREAD_GRAYSCALE), (224,224)))\n",
    "#                 print(img)\n",
    "                x_data.append(preprocess_input(cv2.resize(cv2.imread(f, cv2.IMREAD_GRAYSCALE), (224,224))))\n",
    "                y_data.append(i)\n",
    "            x_train_label, xx_test_label, y_train_label, yy_test_label \\\n",
    "                             = train_test_split(x_data, y_data, test_size=TRAIN_AND_VALIDATION_TEST_SPLIT)\n",
    "            x_valid_label, x_test_label, y_valid_label, y_test_label \\\n",
    "                         = train_test_split(xx_test_label, yy_test_label, test_size=VALID_AND_TEST_SPLIT)  \n",
    "\n",
    "            x_train.append(x_train_label)\n",
    "            y_train.append(y_train_label)\n",
    "            x_test.append(x_test_label)\n",
    "            y_test.append(y_test_label)\n",
    "            x_valid.append(x_valid_label)\n",
    "            y_valid.append(y_valid_label)\n",
    "\n",
    "    x_train = list(itertools.chain.from_iterable(x_train))\n",
    "    y_train = list(itertools.chain.from_iterable(y_train))\n",
    "    x_test = list(itertools.chain.from_iterable(x_test))\n",
    "    y_test = list(itertools.chain.from_iterable(y_test))\n",
    "    x_valid = list(itertools.chain.from_iterable(x_valid))\n",
    "    y_valid = list(itertools.chain.from_iterable(y_valid))\n",
    "\n",
    "    x_valid = np.asarray(x_valid)\n",
    "    y_valid = np.asarray(y_valid)\n",
    "    x_test  = np.asarray(x_test)\n",
    "    y_test  = np.asarray(y_test)\n",
    "    x_train = np.asarray(x_train)\n",
    "    y_train = np.asarray(y_train)\n",
    "\n",
    "    x_train= x_train / 255.0, \n",
    "    x_valid  = x_valid / 255.0\n",
    "    x_test = x_test / 255.0\n",
    "    return x_train, y_train, x_valid, y_valid, x_test, y_test\n",
    "\n",
    "x_train, y_train, x_valid, y_valid, x_test, y_test = prep_data(dates, labels, x_train, y_train, x_valid, y_valid, x_test, y_test)"
   ]
  },
  {
   "cell_type": "raw",
   "metadata": {},
   "source": [
    "for i,layer in enumerate(model.layers):\n",
    "    print(i,layer.name)"
   ]
  },
  {
   "cell_type": "raw",
   "metadata": {
    "scrolled": true
   },
   "source": [
    "# base_model = ResNet50(weights=None, include_top=False)\n",
    "# x = base_model.output\n",
    "# x = GlobalAveragePooling2D(name='avg_pool')(x)\n",
    "# x = Dropout(0.2)(x)\n",
    "# predictions = Dense(CLASSES, activation='softmax')(x)\n",
    "# model = Model(inputs=base_model.input, outputs=predictions)\n",
    "\n",
    "# model.compile(optimizer='adam',\n",
    "#               loss='sparse_categorical_crossentropy',\n",
    "#                   metrics=['accuracy'])\n",
    "model.fit(x=x_train, y=x_train, batch_size=32, epochs=50)"
   ]
  },
  {
   "cell_type": "code",
   "execution_count": 34,
   "metadata": {},
   "outputs": [
    {
     "ename": "IndexError",
     "evalue": "list index out of range",
     "output_type": "error",
     "traceback": [
      "\u001b[0;31m---------------------------------------------------------------------------\u001b[0m",
      "\u001b[0;31mIndexError\u001b[0m                                Traceback (most recent call last)",
      "\u001b[0;32m<ipython-input-34-0219d53884bb>\u001b[0m in \u001b[0;36m<module>\u001b[0;34m()\u001b[0m\n\u001b[1;32m     14\u001b[0m \u001b[0;31m#             model.save('../models/{0}_{1}_{2}.h5'.format(model_path_prefix, conf, curr_dt))\u001b[0m\u001b[0;34m\u001b[0m\u001b[0;34m\u001b[0m\u001b[0m\n\u001b[1;32m     15\u001b[0m \u001b[0;34m\u001b[0m\u001b[0m\n\u001b[0;32m---> 16\u001b[0;31m \u001b[0mrun_custom_training\u001b[0m\u001b[0;34m(\u001b[0m \u001b[0mx_train\u001b[0m\u001b[0;34m,\u001b[0m \u001b[0my_train\u001b[0m\u001b[0;34m,\u001b[0m \u001b[0mx_valid\u001b[0m\u001b[0;34m,\u001b[0m \u001b[0my_valid\u001b[0m\u001b[0;34m,\u001b[0m \u001b[0mx_test\u001b[0m\u001b[0;34m,\u001b[0m \u001b[0my_test\u001b[0m\u001b[0;34m,\u001b[0m \u001b[0mmodel_path_prefix\u001b[0m\u001b[0;34m=\u001b[0m\u001b[0mNone\u001b[0m\u001b[0;34m)\u001b[0m\u001b[0;34m\u001b[0m\u001b[0m\n\u001b[0m",
      "\u001b[0;32m<ipython-input-34-0219d53884bb>\u001b[0m in \u001b[0;36mrun_custom_training\u001b[0;34m(x_train, y_train, x_valid, y_valid, x_test, y_test, model_path_prefix)\u001b[0m\n\u001b[1;32m      3\u001b[0m         \u001b[0mtb_callback\u001b[0m \u001b[0;34m=\u001b[0m \u001b[0mtf\u001b[0m\u001b[0;34m.\u001b[0m\u001b[0mkeras\u001b[0m\u001b[0;34m.\u001b[0m\u001b[0mcallbacks\u001b[0m\u001b[0;34m.\u001b[0m\u001b[0mTensorBoard\u001b[0m\u001b[0;34m(\u001b[0m\u001b[0mlog_dir\u001b[0m\u001b[0;34m=\u001b[0m\u001b[0;34m'../logs/{0}'\u001b[0m\u001b[0;34m.\u001b[0m\u001b[0mformat\u001b[0m\u001b[0;34m(\u001b[0m\u001b[0mcurr_dt\u001b[0m\u001b[0;34m)\u001b[0m\u001b[0;34m,\u001b[0m \u001b[0mhistogram_freq\u001b[0m\u001b[0;34m=\u001b[0m\u001b[0;36m0\u001b[0m\u001b[0;34m,\u001b[0m \u001b[0mwrite_graph\u001b[0m\u001b[0;34m=\u001b[0m\u001b[0mTrue\u001b[0m\u001b[0;34m)\u001b[0m\u001b[0;34m\u001b[0m\u001b[0m\n\u001b[1;32m      4\u001b[0m         \u001b[0mtic\u001b[0m \u001b[0;34m=\u001b[0m \u001b[0mtime\u001b[0m\u001b[0;34m.\u001b[0m\u001b[0mtime\u001b[0m\u001b[0;34m(\u001b[0m\u001b[0;34m)\u001b[0m\u001b[0;34m\u001b[0m\u001b[0m\n\u001b[0;32m----> 5\u001b[0;31m         \u001b[0mmodel\u001b[0m\u001b[0;34m.\u001b[0m\u001b[0mfit\u001b[0m\u001b[0;34m(\u001b[0m\u001b[0mx_train\u001b[0m\u001b[0;34m,\u001b[0m \u001b[0my_train\u001b[0m\u001b[0;34m,\u001b[0m \u001b[0mbatch_size\u001b[0m\u001b[0;34m=\u001b[0m\u001b[0;36m256\u001b[0m\u001b[0;34m,\u001b[0m \u001b[0mepochs\u001b[0m\u001b[0;34m=\u001b[0m\u001b[0;36m50\u001b[0m\u001b[0;34m,\u001b[0m \u001b[0mcallbacks\u001b[0m\u001b[0;34m=\u001b[0m\u001b[0;34m[\u001b[0m\u001b[0mtb_callback\u001b[0m\u001b[0;34m]\u001b[0m\u001b[0;34m)\u001b[0m\u001b[0;34m\u001b[0m\u001b[0m\n\u001b[0m\u001b[1;32m      6\u001b[0m         \u001b[0mtoc\u001b[0m \u001b[0;34m=\u001b[0m \u001b[0mtime\u001b[0m\u001b[0;34m.\u001b[0m\u001b[0mtime\u001b[0m\u001b[0;34m(\u001b[0m\u001b[0;34m)\u001b[0m\u001b[0;34m\u001b[0m\u001b[0m\n\u001b[1;32m      7\u001b[0m         \u001b[0;32mprint\u001b[0m\u001b[0;34m(\u001b[0m\u001b[0;34m'---Test loss & accuracy---'\u001b[0m\u001b[0;34m)\u001b[0m\u001b[0;34m\u001b[0m\u001b[0m\n",
      "\u001b[0;32m/home/or/.virtualenvs/speckles/local/lib/python2.7/site-packages/keras/engine/training.pyc\u001b[0m in \u001b[0;36mfit\u001b[0;34m(self, x, y, batch_size, epochs, verbose, callbacks, validation_split, validation_data, shuffle, class_weight, sample_weight, initial_epoch, steps_per_epoch, validation_steps, **kwargs)\u001b[0m\n\u001b[1;32m    950\u001b[0m             \u001b[0msample_weight\u001b[0m\u001b[0;34m=\u001b[0m\u001b[0msample_weight\u001b[0m\u001b[0;34m,\u001b[0m\u001b[0;34m\u001b[0m\u001b[0m\n\u001b[1;32m    951\u001b[0m             \u001b[0mclass_weight\u001b[0m\u001b[0;34m=\u001b[0m\u001b[0mclass_weight\u001b[0m\u001b[0;34m,\u001b[0m\u001b[0;34m\u001b[0m\u001b[0m\n\u001b[0;32m--> 952\u001b[0;31m             batch_size=batch_size)\n\u001b[0m\u001b[1;32m    953\u001b[0m         \u001b[0;31m# Prepare validation data.\u001b[0m\u001b[0;34m\u001b[0m\u001b[0;34m\u001b[0m\u001b[0m\n\u001b[1;32m    954\u001b[0m         \u001b[0mdo_validation\u001b[0m \u001b[0;34m=\u001b[0m \u001b[0mFalse\u001b[0m\u001b[0;34m\u001b[0m\u001b[0m\n",
      "\u001b[0;32m/home/or/.virtualenvs/speckles/local/lib/python2.7/site-packages/keras/engine/training.pyc\u001b[0m in \u001b[0;36m_standardize_user_data\u001b[0;34m(self, x, y, sample_weight, class_weight, check_array_lengths, batch_size)\u001b[0m\n\u001b[1;32m    749\u001b[0m             \u001b[0mfeed_input_shapes\u001b[0m\u001b[0;34m,\u001b[0m\u001b[0;34m\u001b[0m\u001b[0m\n\u001b[1;32m    750\u001b[0m             \u001b[0mcheck_batch_axis\u001b[0m\u001b[0;34m=\u001b[0m\u001b[0mFalse\u001b[0m\u001b[0;34m,\u001b[0m  \u001b[0;31m# Don't enforce the batch size.\u001b[0m\u001b[0;34m\u001b[0m\u001b[0m\n\u001b[0;32m--> 751\u001b[0;31m             exception_prefix='input')\n\u001b[0m\u001b[1;32m    752\u001b[0m \u001b[0;34m\u001b[0m\u001b[0m\n\u001b[1;32m    753\u001b[0m         \u001b[0;32mif\u001b[0m \u001b[0my\u001b[0m \u001b[0;32mis\u001b[0m \u001b[0;32mnot\u001b[0m \u001b[0mNone\u001b[0m\u001b[0;34m:\u001b[0m\u001b[0;34m\u001b[0m\u001b[0m\n",
      "\u001b[0;32m/home/or/.virtualenvs/speckles/local/lib/python2.7/site-packages/keras/engine/training_utils.pyc\u001b[0m in \u001b[0;36mstandardize_input_data\u001b[0;34m(data, names, shapes, check_batch_axis, exception_prefix)\u001b[0m\n\u001b[1;32m     78\u001b[0m                              'for each key in: ' + str(names))\n\u001b[1;32m     79\u001b[0m     \u001b[0;32melif\u001b[0m \u001b[0misinstance\u001b[0m\u001b[0;34m(\u001b[0m\u001b[0mdata\u001b[0m\u001b[0;34m,\u001b[0m \u001b[0mlist\u001b[0m\u001b[0;34m)\u001b[0m\u001b[0;34m:\u001b[0m\u001b[0;34m\u001b[0m\u001b[0m\n\u001b[0;32m---> 80\u001b[0;31m         \u001b[0;32mif\u001b[0m \u001b[0misinstance\u001b[0m\u001b[0;34m(\u001b[0m\u001b[0mdata\u001b[0m\u001b[0;34m[\u001b[0m\u001b[0;36m0\u001b[0m\u001b[0;34m]\u001b[0m\u001b[0;34m,\u001b[0m \u001b[0mlist\u001b[0m\u001b[0;34m)\u001b[0m\u001b[0;34m:\u001b[0m\u001b[0;34m\u001b[0m\u001b[0m\n\u001b[0m\u001b[1;32m     81\u001b[0m             \u001b[0mdata\u001b[0m \u001b[0;34m=\u001b[0m \u001b[0;34m[\u001b[0m\u001b[0mnp\u001b[0m\u001b[0;34m.\u001b[0m\u001b[0masarray\u001b[0m\u001b[0;34m(\u001b[0m\u001b[0md\u001b[0m\u001b[0;34m)\u001b[0m \u001b[0;32mfor\u001b[0m \u001b[0md\u001b[0m \u001b[0;32min\u001b[0m \u001b[0mdata\u001b[0m\u001b[0;34m]\u001b[0m\u001b[0;34m\u001b[0m\u001b[0m\n\u001b[1;32m     82\u001b[0m         \u001b[0;32melif\u001b[0m \u001b[0mlen\u001b[0m\u001b[0;34m(\u001b[0m\u001b[0mnames\u001b[0m\u001b[0;34m)\u001b[0m \u001b[0;34m==\u001b[0m \u001b[0;36m1\u001b[0m \u001b[0;32mand\u001b[0m \u001b[0misinstance\u001b[0m\u001b[0;34m(\u001b[0m\u001b[0mdata\u001b[0m\u001b[0;34m[\u001b[0m\u001b[0;36m0\u001b[0m\u001b[0;34m]\u001b[0m\u001b[0;34m,\u001b[0m \u001b[0;34m(\u001b[0m\u001b[0mfloat\u001b[0m\u001b[0;34m,\u001b[0m \u001b[0mint\u001b[0m\u001b[0;34m)\u001b[0m\u001b[0;34m)\u001b[0m\u001b[0;34m:\u001b[0m\u001b[0;34m\u001b[0m\u001b[0m\n",
      "\u001b[0;31mIndexError\u001b[0m: list index out of range"
     ]
    }
   ],
   "source": [
    "def run_custom_training(x_train, y_train, x_valid, y_valid, x_test, y_test, model_path_prefix=None):\n",
    "        curr_dt = set_curr_time()\n",
    "        tb_callback = tf.keras.callbacks.TensorBoard(log_dir='../logs/{0}'.format(curr_dt), histogram_freq=0, write_graph=True)\n",
    "        tic = time.time()\n",
    "        model.fit(x_train, y_train, batch_size=256, epochs=50, callbacks=[tb_callback])\n",
    "        toc = time.time()\n",
    "        print('---Test loss & accuracy---')\n",
    "        model.evaluate(x_test, y_test)\n",
    "        print('Training time:{}'.format(toc-tic))\n",
    "\n",
    "#         if model_path_prefix is None:\n",
    "#             model.save('../models/{0}_{1}.h5'.format(conf, curr_dt))\n",
    "#         else:\n",
    "#             model.save('../models/{0}_{1}_{2}.h5'.format(model_path_prefix, conf, curr_dt))\n",
    "            \n",
    "run_custom_training( x_train, y_train, x_valid, y_valid, x_test, y_test, model_path_prefix=None)            "
   ]
  },
  {
   "cell_type": "markdown",
   "metadata": {},
   "source": [
    "## Create confusion matrix"
   ]
  },
  {
   "cell_type": "code",
   "execution_count": null,
   "metadata": {},
   "outputs": [],
   "source": [
    "# c_model = tf.keras.models.load_model('../models/[32, 512, 0.1]_201953_12_56.h5')"
   ]
  },
  {
   "cell_type": "code",
   "execution_count": null,
   "metadata": {},
   "outputs": [],
   "source": [
    "# c_model.fit(x_train, y_train, validation_data=(x_test, y_test), batch_size=256,\n",
    "#               epochs=50, callbacks=[tb_callback])"
   ]
  },
  {
   "cell_type": "code",
   "execution_count": null,
   "metadata": {},
   "outputs": [],
   "source": [
    "# c_model.evaluate(x_test, y_test)"
   ]
  },
  {
   "cell_type": "code",
   "execution_count": null,
   "metadata": {},
   "outputs": [],
   "source": [
    "# Evaluate all the models\n",
    "# for model_path in glob.glob('../models/*.h5'):\n",
    "#     print(model_path)\n",
    "#     best_loaded = tf.keras.models.load_model(model_path)\n",
    "#     best_loaded.evaluate(x_test, y_test)"
   ]
  },
  {
   "cell_type": "code",
   "execution_count": 85,
   "metadata": {},
   "outputs": [],
   "source": [
    "best_loaded = tf.keras.models.load_model('../models/[32, 512, 0.1]_201953_12_56.h5')\n",
    "test_predictions = best_loaded.predict(x_test)"
   ]
  },
  {
   "cell_type": "code",
   "execution_count": 87,
   "metadata": {},
   "outputs": [
    {
     "data": {
      "text/plain": [
       "array([[1217,    0,    0,    0,    0,    0,    0],\n",
       "       [   0, 3174,  309,  879,    0,  645,    0],\n",
       "       [   0,  177, 5386,  443,    0,  630,    0],\n",
       "       [   0,  569,  666, 4133,    0, 1290,    0],\n",
       "       [   0,    0,    0,    0, 1153,    0,    0],\n",
       "       [   0,  289,  546,  924,    0, 4137,    0],\n",
       "       [   0,    0,    0,    0,    0,    0,  633]])"
      ]
     },
     "execution_count": 87,
     "metadata": {},
     "output_type": "execute_result"
    }
   ],
   "source": [
    "from sklearn.metrics import confusion_matrix\n",
    "confusion = confusion_matrix(y_test, np.argmax(test_predictions,axis=1))\n",
    "confusion"
   ]
  },
  {
   "cell_type": "code",
   "execution_count": 104,
   "metadata": {},
   "outputs": [
    {
     "data": {
      "text/plain": [
       "<matplotlib.axes._subplots.AxesSubplot at 0x1a6051240>"
      ]
     },
     "execution_count": 104,
     "metadata": {},
     "output_type": "execute_result"
    },
    {
     "data": {
      "image/png": "[encoded data removed]",
      "text/plain": [
       "<Figure size 864x648 with 2 Axes>"
      ]
     },
     "metadata": {},
     "output_type": "display_data"
    }
   ],
   "source": [
    "import seaborn as sn\n",
    "import pandas as pd\n",
    "import matplotlib.pyplot as plt\n",
    "\n",
    "df_cm = pd.DataFrame(confusion, labels, labels)\n",
    "plt.figure(figsize = (12, 9))\n",
    "sn.set(font_scale=1.2)\n",
    "sn.heatmap(df_cm, annot=True, fmt='.5g', annot_kws={\"size\": 12})"
   ]
  },
  {
   "cell_type": "code",
   "execution_count": 105,
   "metadata": {},
   "outputs": [
    {
     "data": {
      "text/html": [
       "<div>\n",
       "<style scoped>\n",
       "    .dataframe tbody tr th:only-of-type {\n",
       "        vertical-align: middle;\n",
       "    }\n",
       "\n",
       "    .dataframe tbody tr th {\n",
       "        vertical-align: top;\n",
       "    }\n",
       "\n",
       "    .dataframe thead th {\n",
       "        text-align: right;\n",
       "    }\n",
       "</style>\n",
       "<table border=\"1\" class=\"dataframe\">\n",
       "  <thead>\n",
       "    <tr style=\"text-align: right;\">\n",
       "      <th></th>\n",
       "      <th>yafim</th>\n",
       "      <th>zeev</th>\n",
       "      <th>or</th>\n",
       "      <th>ron</th>\n",
       "      <th>sergey</th>\n",
       "      <th>aviya</th>\n",
       "      <th>elnatan</th>\n",
       "    </tr>\n",
       "  </thead>\n",
       "  <tbody>\n",
       "    <tr>\n",
       "      <th>yafim</th>\n",
       "      <td>1217</td>\n",
       "      <td>0</td>\n",
       "      <td>0</td>\n",
       "      <td>0</td>\n",
       "      <td>0</td>\n",
       "      <td>0</td>\n",
       "      <td>0</td>\n",
       "    </tr>\n",
       "    <tr>\n",
       "      <th>zeev</th>\n",
       "      <td>0</td>\n",
       "      <td>3174</td>\n",
       "      <td>309</td>\n",
       "      <td>879</td>\n",
       "      <td>0</td>\n",
       "      <td>645</td>\n",
       "      <td>0</td>\n",
       "    </tr>\n",
       "    <tr>\n",
       "      <th>or</th>\n",
       "      <td>0</td>\n",
       "      <td>177</td>\n",
       "      <td>5386</td>\n",
       "      <td>443</td>\n",
       "      <td>0</td>\n",
       "      <td>630</td>\n",
       "      <td>0</td>\n",
       "    </tr>\n",
       "    <tr>\n",
       "      <th>ron</th>\n",
       "      <td>0</td>\n",
       "      <td>569</td>\n",
       "      <td>666</td>\n",
       "      <td>4133</td>\n",
       "      <td>0</td>\n",
       "      <td>1290</td>\n",
       "      <td>0</td>\n",
       "    </tr>\n",
       "    <tr>\n",
       "      <th>sergey</th>\n",
       "      <td>0</td>\n",
       "      <td>0</td>\n",
       "      <td>0</td>\n",
       "      <td>0</td>\n",
       "      <td>1153</td>\n",
       "      <td>0</td>\n",
       "      <td>0</td>\n",
       "    </tr>\n",
       "    <tr>\n",
       "      <th>aviya</th>\n",
       "      <td>0</td>\n",
       "      <td>289</td>\n",
       "      <td>546</td>\n",
       "      <td>924</td>\n",
       "      <td>0</td>\n",
       "      <td>4137</td>\n",
       "      <td>0</td>\n",
       "    </tr>\n",
       "    <tr>\n",
       "      <th>elnatan</th>\n",
       "      <td>0</td>\n",
       "      <td>0</td>\n",
       "      <td>0</td>\n",
       "      <td>0</td>\n",
       "      <td>0</td>\n",
       "      <td>0</td>\n",
       "      <td>633</td>\n",
       "    </tr>\n",
       "  </tbody>\n",
       "</table>\n",
       "</div>"
      ],
      "text/plain": [
       "         yafim  zeev    or   ron  sergey  aviya  elnatan\n",
       "yafim     1217     0     0     0       0      0        0\n",
       "zeev         0  3174   309   879       0    645        0\n",
       "or           0   177  5386   443       0    630        0\n",
       "ron          0   569   666  4133       0   1290        0\n",
       "sergey       0     0     0     0    1153      0        0\n",
       "aviya        0   289   546   924       0   4137        0\n",
       "elnatan      0     0     0     0       0      0      633"
      ]
     },
     "execution_count": 105,
     "metadata": {},
     "output_type": "execute_result"
    }
   ],
   "source": [
    "df_cm"
   ]
  },
  {
   "cell_type": "code",
   "execution_count": null,
   "metadata": {},
   "outputs": [],
   "source": []
  }
 ],
 "metadata": {
  "kernelspec": {
   "display_name": "Python 3",
   "language": "python",
   "name": "python3"
  },
  "language_info": {
   "codemirror_mode": {
    "name": "ipython",
    "version": 2
   },
   "file_extension": ".py",
   "mimetype": "text/x-python",
   "name": "python",
   "nbconvert_exporter": "python",
   "pygments_lexer": "ipython2",
   "version": "2.7.12"
  }
 },
 "nbformat": 4,
 "nbformat_minor": 2
}
