{
 "cells": [
  {
   "cell_type": "code",
   "execution_count": 1,
   "metadata": {},
   "outputs": [
    {
     "ename": "ImportError",
     "evalue": "No module named 'cv2'",
     "output_type": "error",
     "traceback": [
      "\u001b[0;31m---------------------------------------\u001b[0m",
      "\u001b[0;31mImportError\u001b[0mTraceback (most recent call last)",
      "\u001b[0;32m<ipython-input-1-da37de853efa>\u001b[0m in \u001b[0;36m<module>\u001b[0;34m\u001b[0m\n\u001b[1;32m      1\u001b[0m \u001b[0;32mimport\u001b[0m \u001b[0mos\u001b[0m\u001b[0;34m\u001b[0m\u001b[0m\n\u001b[0;32m----> 2\u001b[0;31m \u001b[0;32mimport\u001b[0m \u001b[0mcv2\u001b[0m\u001b[0;34m\u001b[0m\u001b[0m\n\u001b[0m\u001b[1;32m      3\u001b[0m \u001b[0;32mimport\u001b[0m \u001b[0mglob\u001b[0m\u001b[0;34m\u001b[0m\u001b[0m\n\u001b[1;32m      4\u001b[0m \u001b[0;32mimport\u001b[0m \u001b[0mscipy\u001b[0m\u001b[0;34m.\u001b[0m\u001b[0mio\u001b[0m\u001b[0;34m\u001b[0m\u001b[0m\n\u001b[1;32m      5\u001b[0m \u001b[0;32mimport\u001b[0m \u001b[0mscipy\u001b[0m\u001b[0;34m.\u001b[0m\u001b[0mmisc\u001b[0m\u001b[0;34m\u001b[0m\u001b[0m\n",
      "\u001b[0;31mImportError\u001b[0m: No module named 'cv2'"
     ]
    }
   ],
   "source": [
    "import os\n",
    "import cv2\n",
    "import glob\n",
    "import scipy.io\n",
    "import scipy.misc\n",
    "from tqdm import tqdm"
   ]
  },
  {
   "cell_type": "code",
   "execution_count": 2,
   "metadata": {},
   "outputs": [],
   "source": [
    "dates = ['24032019', '17042019', '01052019']\n",
    "labels = ['yafim', 'zeev', 'or', 'ron', 'sergey', 'aviya', 'elnatan', 'felix']"
   ]
  },
  {
   "cell_type": "code",
   "execution_count": 3,
   "metadata": {},
   "outputs": [],
   "source": [
    "for d in dates:\n",
    "    for l in labels:\n",
    "        l_path = '../data/frames/{0}/{1}'.format(d, l)\n",
    "        if not os.path.exists(l_path):\n",
    "            os.makedirs(l_path)"
   ]
  },
  {
   "cell_type": "code",
   "execution_count": 4,
   "metadata": {},
   "outputs": [
    {
     "data": {
      "text/plain": [
       "'../data/frames/01052019/elnatan'"
      ]
     },
     "execution_count": 4,
     "metadata": {},
     "output_type": "execute_result"
    }
   ],
   "source": [
    "l_path"
   ]
  },
  {
   "cell_type": "code",
   "execution_count": 3,
   "metadata": {},
   "outputs": [],
   "source": [
    "mat = scipy.io.loadmat('../data/videos/24032019/yafim/32/VideoFile_fps100_0002.mat')\n",
    "img_reshaped = mat['Video_fps100_0002'][:, :]\n",
    "print(img_reshaped.shape)"
   ]
  },
  {
   "cell_type": "code",
   "execution_count": null,
   "metadata": {
    "scrolled": true
   },
   "outputs": [],
   "source": [
    "for k, v in mat.items():\n",
    "    print(k, v)"
   ]
  },
  {
   "cell_type": "code",
   "execution_count": null,
   "metadata": {},
   "outputs": [],
   "source": [
    "for i in range(img_reshaped.shape[2]):\n",
    "    cv2.imshow(\"segmented_map\", mat['Video_fps100_0002'][:, :, i])\n",
    "    cv2.waitKey(0)"
   ]
  },
  {
   "cell_type": "code",
   "execution_count": null,
   "metadata": {},
   "outputs": [],
   "source": [
    "mat.keys()"
   ]
  },
  {
   "cell_type": "code",
   "execution_count": 3,
   "metadata": {},
   "outputs": [
    {
     "name": "stderr",
     "output_type": "stream",
     "text": [
      "100%|██████████| 3/3 [00:00<00:00,  4.16it/s]\n",
      "100%|██████████| 3/3 [00:00<00:00,  4.70it/s]\n",
      "100%|██████████| 3/3 [00:00<00:00,  4.70it/s]\n",
      "100%|██████████| 3/3 [00:00<00:00,  4.95it/s]\n",
      "100%|██████████| 3/3 [00:00<00:00,  4.60it/s]\n",
      "0it [00:00, ?it/s]\n",
      "0it [00:00, ?it/s]\n",
      "0it [00:00, ?it/s]\n",
      "0it [00:00, ?it/s]\n",
      "0it [00:00, ?it/s]\n",
      "100%|██████████| 30/30 [00:06<00:00,  4.52it/s]\n",
      "100%|██████████| 30/30 [00:06<00:00,  3.89it/s]\n",
      "0it [00:00, ?it/s]\n",
      "100%|██████████| 30/30 [00:07<00:00,  3.80it/s]\n",
      "0it [00:00, ?it/s]\n",
      "0it [00:00, ?it/s]\n",
      "100%|██████████| 3/3 [00:00<00:00,  4.39it/s]\n",
      "100%|██████████| 22/22 [00:04<00:00,  4.14it/s]\n",
      "0it [00:00, ?it/s]\n",
      "0it [00:00, ?it/s]\n",
      "100%|██████████| 3/3 [00:00<00:00,  4.69it/s]\n",
      "0it [00:00, ?it/s]\n",
      "100%|██████████| 3/3 [00:00<00:00,  4.71it/s]\n",
      "100%|██████████| 21/21 [00:04<00:00,  4.04it/s]\n"
     ]
    }
   ],
   "source": [
    "for d in dates:\n",
    "    for l in labels:\n",
    "        for f in tqdm(glob.glob('../data/videos/{0}/{1}/32/*.mat'.format(d, l))):\n",
    "            frames_path = '../data/frames/{0}/{1}/32'.format(d, l)\n",
    "            if not os.path.exists(frames_path):\n",
    "                os.makedirs(frames_path)\n",
    "            mat = scipy.io.loadmat(f)\n",
    "            for k, v in mat.items():\n",
    "                if k.__contains__('Video_fps'):\n",
    "                    for i in range(v.shape[2]):\n",
    "    #                     print(v[:, :, i].shape)\n",
    "                        cv2.imwrite('{0}/{1}_{2}.png'.format(frames_path, k, i), v[:, :, i])"
   ]
  },
  {
   "cell_type": "code",
   "execution_count": null,
   "metadata": {},
   "outputs": [],
   "source": []
  }
 ],
 "metadata": {
  "kernelspec": {
   "display_name": "Python 3",
   "language": "python",
   "name": "python3"
  },
  "language_info": {
   "codemirror_mode": {
    "name": "ipython",
    "version": 3
   },
   "file_extension": ".py",
   "mimetype": "text/x-python",
   "name": "python",
   "nbconvert_exporter": "python",
   "pygments_lexer": "ipython3",
   "version": "3.5.2"
  }
 },
 "nbformat": 4,
 "nbformat_minor": 2
}
